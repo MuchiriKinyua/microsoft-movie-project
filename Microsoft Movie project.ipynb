{
 "cells": [
  {
   "cell_type": "markdown",
   "id": "2a5ed9fc",
   "metadata": {},
   "source": [
    "# 1. Business Understanding"
   ]
  },
  {
   "cell_type": "markdown",
   "id": "093dfed5",
   "metadata": {},
   "source": [
    "## 1.1 Introduction"
   ]
  },
  {
   "cell_type": "markdown",
   "id": "f739ad23",
   "metadata": {},
   "source": [
    "Microsoft movie project seeks to ssek out relevant data which will be used by Microsoft in building a movie studio. The project focuses on Box Office Mojo, movie budgets and other movie information that has been used by other movie production companies.\n",
    "After understanding the data, data will be cleaned to:removing any duplicates, Checking any missing data,Removing any irrelevant data. \n",
    "Thereafter Visualizations to present the data will be made to ensure it is easy to understand to the leader of microsoft."
   ]
  },
  {
   "cell_type": "markdown",
   "id": "d1f662b0",
   "metadata": {},
   "source": [
    "## 1.2 Problem Statement"
   ]
  },
  {
   "cell_type": "markdown",
   "id": "673e4b8f",
   "metadata": {},
   "source": [
    "Microsoft wants to get into the movie industry. However they don't know much about the industry. They therefore want a data scientist to evaluate the movie industry, to identify which movies are actually doing well at the box office hence providing them with actionable insights that the company, Microsoft, can use to determine the films they will major on."
   ]
  },
  {
   "cell_type": "markdown",
   "id": "89810f09",
   "metadata": {},
   "source": [
    "## 1.3 Main Objective"
   ]
  },
  {
   "cell_type": "markdown",
   "id": "c44c3db2",
   "metadata": {},
   "source": [
    "This project aims to help Microsoft's new movie studio make informed decisions about the types of films to create. By analyzing data from the film industry, insights and trends that will assist in identifying successful strategies for the studio can be uncovered."
   ]
  },
  {
   "cell_type": "markdown",
   "id": "df06b2f1",
   "metadata": {},
   "source": [
    "## 1.4 Specific Objectives"
   ]
  },
  {
   "cell_type": "markdown",
   "id": "dc02ff30",
   "metadata": {},
   "source": [
    "a). Identify the most successful movie genres that microsoft head will use to make a prompt decision on which type of movies to put more focus on."
   ]
  },
  {
   "cell_type": "markdown",
   "id": "6eeff30e",
   "metadata": {},
   "source": [
    "b). To visualize movie budgets (especially using the tn movie budgets file)"
   ]
  },
  {
   "cell_type": "markdown",
   "id": "69834faa",
   "metadata": {},
   "source": [
    "c). Understanding how different branches of the entire movie field affect the company reputation and sequentials for thaat matter. E.g., rating, genre, runtime."
   ]
  },
  {
   "cell_type": "markdown",
   "id": "08c27aa1",
   "metadata": {},
   "source": [
    "## 1.5 Notebook Structure"
   ]
  },
  {
   "cell_type": "markdown",
   "id": "7146fc17",
   "metadata": {},
   "source": [
    "Introduction"
   ]
  },
  {
   "cell_type": "markdown",
   "id": "1accb560",
   "metadata": {},
   "source": [
    "Problem Statement"
   ]
  },
  {
   "cell_type": "markdown",
   "id": "9edae7a3",
   "metadata": {},
   "source": [
    "Main Objective"
   ]
  },
  {
   "cell_type": "markdown",
   "id": "c5d25f5b",
   "metadata": {},
   "source": [
    "Specific Ojectives"
   ]
  },
  {
   "cell_type": "markdown",
   "id": "7967ad19",
   "metadata": {},
   "source": [
    "Importing Libraries"
   ]
  },
  {
   "cell_type": "markdown",
   "id": "f5e4a58b",
   "metadata": {},
   "source": [
    "Data Understanding"
   ]
  },
  {
   "cell_type": "markdown",
   "id": "8866a016",
   "metadata": {},
   "source": [
    "Data Cleaning"
   ]
  },
  {
   "cell_type": "markdown",
   "id": "371c1c15",
   "metadata": {},
   "source": [
    "Data analysis"
   ]
  },
  {
   "cell_type": "markdown",
   "id": "8bed548a",
   "metadata": {},
   "source": [
    "Data Visualizations"
   ]
  },
  {
   "cell_type": "markdown",
   "id": "8bbbeb45",
   "metadata": {},
   "source": [
    "Conclusions"
   ]
  },
  {
   "cell_type": "markdown",
   "id": "eeaf0e0a",
   "metadata": {},
   "source": [
    "Recommendations"
   ]
  },
  {
   "cell_type": "markdown",
   "id": "ee2dc770",
   "metadata": {},
   "source": [
    "# 2. Importing Libraries"
   ]
  },
  {
   "cell_type": "code",
   "execution_count": 1,
   "id": "39d7763b",
   "metadata": {},
   "outputs": [],
   "source": [
    "import csv\n",
    "import pandas as pd\n",
    "import matplotlib.pyplot as plt\n",
    "import seaborn as sns\n",
    "import numpy as np\n",
    "import scipy.stats as stats\n",
    "%matplotlib inline\n",
    "import warnings"
   ]
  },
  {
   "cell_type": "markdown",
   "id": "7829c604",
   "metadata": {},
   "source": [
    "# 3. Data Understanding"
   ]
  },
  {
   "cell_type": "code",
   "execution_count": 2,
   "id": "56f202d9",
   "metadata": {},
   "outputs": [],
   "source": [
    "warnings.filterwarnings(\"ignore\")"
   ]
  },
  {
   "cell_type": "markdown",
   "id": "8c2dfc11",
   "metadata": {},
   "source": [
    "## 3.1 Box office mojo"
   ]
  },
  {
   "cell_type": "code",
   "execution_count": 3,
   "id": "cebb8955",
   "metadata": {},
   "outputs": [],
   "source": [
    "# Loading the data\n",
    "bom_data = pd.read_csv(\"Data/bom.movie_gross.csv\")"
   ]
  },
  {
   "cell_type": "code",
   "execution_count": 4,
   "id": "aed6eb18",
   "metadata": {},
   "outputs": [
    {
     "data": {
      "text/html": [
       "<div>\n",
       "<style scoped>\n",
       "    .dataframe tbody tr th:only-of-type {\n",
       "        vertical-align: middle;\n",
       "    }\n",
       "\n",
       "    .dataframe tbody tr th {\n",
       "        vertical-align: top;\n",
       "    }\n",
       "\n",
       "    .dataframe thead th {\n",
       "        text-align: right;\n",
       "    }\n",
       "</style>\n",
       "<table border=\"1\" class=\"dataframe\">\n",
       "  <thead>\n",
       "    <tr style=\"text-align: right;\">\n",
       "      <th></th>\n",
       "      <th>title</th>\n",
       "      <th>studio</th>\n",
       "      <th>domestic_gross</th>\n",
       "      <th>foreign_gross</th>\n",
       "      <th>year</th>\n",
       "    </tr>\n",
       "  </thead>\n",
       "  <tbody>\n",
       "    <tr>\n",
       "      <th>0</th>\n",
       "      <td>Toy Story 3</td>\n",
       "      <td>BV</td>\n",
       "      <td>415000000.0</td>\n",
       "      <td>652000000</td>\n",
       "      <td>2010</td>\n",
       "    </tr>\n",
       "    <tr>\n",
       "      <th>1</th>\n",
       "      <td>Alice in Wonderland (2010)</td>\n",
       "      <td>BV</td>\n",
       "      <td>334200000.0</td>\n",
       "      <td>691300000</td>\n",
       "      <td>2010</td>\n",
       "    </tr>\n",
       "    <tr>\n",
       "      <th>2</th>\n",
       "      <td>Harry Potter and the Deathly Hallows Part 1</td>\n",
       "      <td>WB</td>\n",
       "      <td>296000000.0</td>\n",
       "      <td>664300000</td>\n",
       "      <td>2010</td>\n",
       "    </tr>\n",
       "    <tr>\n",
       "      <th>3</th>\n",
       "      <td>Inception</td>\n",
       "      <td>WB</td>\n",
       "      <td>292600000.0</td>\n",
       "      <td>535700000</td>\n",
       "      <td>2010</td>\n",
       "    </tr>\n",
       "    <tr>\n",
       "      <th>4</th>\n",
       "      <td>Shrek Forever After</td>\n",
       "      <td>P/DW</td>\n",
       "      <td>238700000.0</td>\n",
       "      <td>513900000</td>\n",
       "      <td>2010</td>\n",
       "    </tr>\n",
       "    <tr>\n",
       "      <th>...</th>\n",
       "      <td>...</td>\n",
       "      <td>...</td>\n",
       "      <td>...</td>\n",
       "      <td>...</td>\n",
       "      <td>...</td>\n",
       "    </tr>\n",
       "    <tr>\n",
       "      <th>3382</th>\n",
       "      <td>The Quake</td>\n",
       "      <td>Magn.</td>\n",
       "      <td>6200.0</td>\n",
       "      <td>NaN</td>\n",
       "      <td>2018</td>\n",
       "    </tr>\n",
       "    <tr>\n",
       "      <th>3383</th>\n",
       "      <td>Edward II (2018 re-release)</td>\n",
       "      <td>FM</td>\n",
       "      <td>4800.0</td>\n",
       "      <td>NaN</td>\n",
       "      <td>2018</td>\n",
       "    </tr>\n",
       "    <tr>\n",
       "      <th>3384</th>\n",
       "      <td>El Pacto</td>\n",
       "      <td>Sony</td>\n",
       "      <td>2500.0</td>\n",
       "      <td>NaN</td>\n",
       "      <td>2018</td>\n",
       "    </tr>\n",
       "    <tr>\n",
       "      <th>3385</th>\n",
       "      <td>The Swan</td>\n",
       "      <td>Synergetic</td>\n",
       "      <td>2400.0</td>\n",
       "      <td>NaN</td>\n",
       "      <td>2018</td>\n",
       "    </tr>\n",
       "    <tr>\n",
       "      <th>3386</th>\n",
       "      <td>An Actor Prepares</td>\n",
       "      <td>Grav.</td>\n",
       "      <td>1700.0</td>\n",
       "      <td>NaN</td>\n",
       "      <td>2018</td>\n",
       "    </tr>\n",
       "  </tbody>\n",
       "</table>\n",
       "<p>3387 rows × 5 columns</p>\n",
       "</div>"
      ],
      "text/plain": [
       "                                            title      studio  domestic_gross   \n",
       "0                                     Toy Story 3          BV     415000000.0  \\\n",
       "1                      Alice in Wonderland (2010)          BV     334200000.0   \n",
       "2     Harry Potter and the Deathly Hallows Part 1          WB     296000000.0   \n",
       "3                                       Inception          WB     292600000.0   \n",
       "4                             Shrek Forever After        P/DW     238700000.0   \n",
       "...                                           ...         ...             ...   \n",
       "3382                                    The Quake       Magn.          6200.0   \n",
       "3383                  Edward II (2018 re-release)          FM          4800.0   \n",
       "3384                                     El Pacto        Sony          2500.0   \n",
       "3385                                     The Swan  Synergetic          2400.0   \n",
       "3386                            An Actor Prepares       Grav.          1700.0   \n",
       "\n",
       "     foreign_gross  year  \n",
       "0        652000000  2010  \n",
       "1        691300000  2010  \n",
       "2        664300000  2010  \n",
       "3        535700000  2010  \n",
       "4        513900000  2010  \n",
       "...            ...   ...  \n",
       "3382           NaN  2018  \n",
       "3383           NaN  2018  \n",
       "3384           NaN  2018  \n",
       "3385           NaN  2018  \n",
       "3386           NaN  2018  \n",
       "\n",
       "[3387 rows x 5 columns]"
      ]
     },
     "execution_count": 4,
     "metadata": {},
     "output_type": "execute_result"
    }
   ],
   "source": [
    "bom_data"
   ]
  },
  {
   "cell_type": "code",
   "execution_count": 5,
   "id": "66444484",
   "metadata": {
    "scrolled": true
   },
   "outputs": [
    {
     "name": "stdout",
     "output_type": "stream",
     "text": [
      "<class 'pandas.core.frame.DataFrame'>\n",
      "RangeIndex: 3387 entries, 0 to 3386\n",
      "Data columns (total 5 columns):\n",
      " #   Column          Non-Null Count  Dtype  \n",
      "---  ------          --------------  -----  \n",
      " 0   title           3387 non-null   object \n",
      " 1   studio          3382 non-null   object \n",
      " 2   domestic_gross  3359 non-null   float64\n",
      " 3   foreign_gross   2037 non-null   object \n",
      " 4   year            3387 non-null   int64  \n",
      "dtypes: float64(1), int64(1), object(3)\n",
      "memory usage: 132.4+ KB\n"
     ]
    }
   ],
   "source": [
    "# viewing the columns\n",
    "bom_data.info()"
   ]
  },
  {
   "cell_type": "code",
   "execution_count": 6,
   "id": "b8e0d700",
   "metadata": {},
   "outputs": [
    {
     "data": {
      "text/html": [
       "<div>\n",
       "<style scoped>\n",
       "    .dataframe tbody tr th:only-of-type {\n",
       "        vertical-align: middle;\n",
       "    }\n",
       "\n",
       "    .dataframe tbody tr th {\n",
       "        vertical-align: top;\n",
       "    }\n",
       "\n",
       "    .dataframe thead th {\n",
       "        text-align: right;\n",
       "    }\n",
       "</style>\n",
       "<table border=\"1\" class=\"dataframe\">\n",
       "  <thead>\n",
       "    <tr style=\"text-align: right;\">\n",
       "      <th></th>\n",
       "      <th>title</th>\n",
       "      <th>studio</th>\n",
       "      <th>domestic_gross</th>\n",
       "      <th>foreign_gross</th>\n",
       "      <th>year</th>\n",
       "    </tr>\n",
       "  </thead>\n",
       "  <tbody>\n",
       "    <tr>\n",
       "      <th>0</th>\n",
       "      <td>Toy Story 3</td>\n",
       "      <td>BV</td>\n",
       "      <td>415000000.0</td>\n",
       "      <td>652000000</td>\n",
       "      <td>2010</td>\n",
       "    </tr>\n",
       "    <tr>\n",
       "      <th>1</th>\n",
       "      <td>Alice in Wonderland (2010)</td>\n",
       "      <td>BV</td>\n",
       "      <td>334200000.0</td>\n",
       "      <td>691300000</td>\n",
       "      <td>2010</td>\n",
       "    </tr>\n",
       "    <tr>\n",
       "      <th>2</th>\n",
       "      <td>Harry Potter and the Deathly Hallows Part 1</td>\n",
       "      <td>WB</td>\n",
       "      <td>296000000.0</td>\n",
       "      <td>664300000</td>\n",
       "      <td>2010</td>\n",
       "    </tr>\n",
       "    <tr>\n",
       "      <th>3</th>\n",
       "      <td>Inception</td>\n",
       "      <td>WB</td>\n",
       "      <td>292600000.0</td>\n",
       "      <td>535700000</td>\n",
       "      <td>2010</td>\n",
       "    </tr>\n",
       "    <tr>\n",
       "      <th>4</th>\n",
       "      <td>Shrek Forever After</td>\n",
       "      <td>P/DW</td>\n",
       "      <td>238700000.0</td>\n",
       "      <td>513900000</td>\n",
       "      <td>2010</td>\n",
       "    </tr>\n",
       "  </tbody>\n",
       "</table>\n",
       "</div>"
      ],
      "text/plain": [
       "                                         title studio  domestic_gross   \n",
       "0                                  Toy Story 3     BV     415000000.0  \\\n",
       "1                   Alice in Wonderland (2010)     BV     334200000.0   \n",
       "2  Harry Potter and the Deathly Hallows Part 1     WB     296000000.0   \n",
       "3                                    Inception     WB     292600000.0   \n",
       "4                          Shrek Forever After   P/DW     238700000.0   \n",
       "\n",
       "  foreign_gross  year  \n",
       "0     652000000  2010  \n",
       "1     691300000  2010  \n",
       "2     664300000  2010  \n",
       "3     535700000  2010  \n",
       "4     513900000  2010  "
      ]
     },
     "execution_count": 6,
     "metadata": {},
     "output_type": "execute_result"
    }
   ],
   "source": [
    "#To see the first rows in order to get a visual of how the data looks like\n",
    "bom_data.head()"
   ]
  },
  {
   "cell_type": "code",
   "execution_count": 7,
   "id": "03037e53",
   "metadata": {},
   "outputs": [
    {
     "data": {
      "text/html": [
       "<div>\n",
       "<style scoped>\n",
       "    .dataframe tbody tr th:only-of-type {\n",
       "        vertical-align: middle;\n",
       "    }\n",
       "\n",
       "    .dataframe tbody tr th {\n",
       "        vertical-align: top;\n",
       "    }\n",
       "\n",
       "    .dataframe thead th {\n",
       "        text-align: right;\n",
       "    }\n",
       "</style>\n",
       "<table border=\"1\" class=\"dataframe\">\n",
       "  <thead>\n",
       "    <tr style=\"text-align: right;\">\n",
       "      <th></th>\n",
       "      <th>title</th>\n",
       "      <th>studio</th>\n",
       "      <th>domestic_gross</th>\n",
       "      <th>foreign_gross</th>\n",
       "      <th>year</th>\n",
       "    </tr>\n",
       "  </thead>\n",
       "  <tbody>\n",
       "    <tr>\n",
       "      <th>3382</th>\n",
       "      <td>The Quake</td>\n",
       "      <td>Magn.</td>\n",
       "      <td>6200.0</td>\n",
       "      <td>NaN</td>\n",
       "      <td>2018</td>\n",
       "    </tr>\n",
       "    <tr>\n",
       "      <th>3383</th>\n",
       "      <td>Edward II (2018 re-release)</td>\n",
       "      <td>FM</td>\n",
       "      <td>4800.0</td>\n",
       "      <td>NaN</td>\n",
       "      <td>2018</td>\n",
       "    </tr>\n",
       "    <tr>\n",
       "      <th>3384</th>\n",
       "      <td>El Pacto</td>\n",
       "      <td>Sony</td>\n",
       "      <td>2500.0</td>\n",
       "      <td>NaN</td>\n",
       "      <td>2018</td>\n",
       "    </tr>\n",
       "    <tr>\n",
       "      <th>3385</th>\n",
       "      <td>The Swan</td>\n",
       "      <td>Synergetic</td>\n",
       "      <td>2400.0</td>\n",
       "      <td>NaN</td>\n",
       "      <td>2018</td>\n",
       "    </tr>\n",
       "    <tr>\n",
       "      <th>3386</th>\n",
       "      <td>An Actor Prepares</td>\n",
       "      <td>Grav.</td>\n",
       "      <td>1700.0</td>\n",
       "      <td>NaN</td>\n",
       "      <td>2018</td>\n",
       "    </tr>\n",
       "  </tbody>\n",
       "</table>\n",
       "</div>"
      ],
      "text/plain": [
       "                            title      studio  domestic_gross foreign_gross   \n",
       "3382                    The Quake       Magn.          6200.0           NaN  \\\n",
       "3383  Edward II (2018 re-release)          FM          4800.0           NaN   \n",
       "3384                     El Pacto        Sony          2500.0           NaN   \n",
       "3385                     The Swan  Synergetic          2400.0           NaN   \n",
       "3386            An Actor Prepares       Grav.          1700.0           NaN   \n",
       "\n",
       "      year  \n",
       "3382  2018  \n",
       "3383  2018  \n",
       "3384  2018  \n",
       "3385  2018  \n",
       "3386  2018  "
      ]
     },
     "execution_count": 7,
     "metadata": {},
     "output_type": "execute_result"
    }
   ],
   "source": [
    "#To see the last rows in order to get a visual of how the data looks like\n",
    "bom_data.tail()"
   ]
  },
  {
   "cell_type": "code",
   "execution_count": 8,
   "id": "405a9a93",
   "metadata": {},
   "outputs": [
    {
     "data": {
      "text/html": [
       "<div>\n",
       "<style scoped>\n",
       "    .dataframe tbody tr th:only-of-type {\n",
       "        vertical-align: middle;\n",
       "    }\n",
       "\n",
       "    .dataframe tbody tr th {\n",
       "        vertical-align: top;\n",
       "    }\n",
       "\n",
       "    .dataframe thead th {\n",
       "        text-align: right;\n",
       "    }\n",
       "</style>\n",
       "<table border=\"1\" class=\"dataframe\">\n",
       "  <thead>\n",
       "    <tr style=\"text-align: right;\">\n",
       "      <th></th>\n",
       "      <th>domestic_gross</th>\n",
       "      <th>year</th>\n",
       "    </tr>\n",
       "  </thead>\n",
       "  <tbody>\n",
       "    <tr>\n",
       "      <th>count</th>\n",
       "      <td>3.359000e+03</td>\n",
       "      <td>3387.000000</td>\n",
       "    </tr>\n",
       "    <tr>\n",
       "      <th>mean</th>\n",
       "      <td>2.874585e+07</td>\n",
       "      <td>2013.958075</td>\n",
       "    </tr>\n",
       "    <tr>\n",
       "      <th>std</th>\n",
       "      <td>6.698250e+07</td>\n",
       "      <td>2.478141</td>\n",
       "    </tr>\n",
       "    <tr>\n",
       "      <th>min</th>\n",
       "      <td>1.000000e+02</td>\n",
       "      <td>2010.000000</td>\n",
       "    </tr>\n",
       "    <tr>\n",
       "      <th>25%</th>\n",
       "      <td>1.200000e+05</td>\n",
       "      <td>2012.000000</td>\n",
       "    </tr>\n",
       "    <tr>\n",
       "      <th>50%</th>\n",
       "      <td>1.400000e+06</td>\n",
       "      <td>2014.000000</td>\n",
       "    </tr>\n",
       "    <tr>\n",
       "      <th>75%</th>\n",
       "      <td>2.790000e+07</td>\n",
       "      <td>2016.000000</td>\n",
       "    </tr>\n",
       "    <tr>\n",
       "      <th>max</th>\n",
       "      <td>9.367000e+08</td>\n",
       "      <td>2018.000000</td>\n",
       "    </tr>\n",
       "  </tbody>\n",
       "</table>\n",
       "</div>"
      ],
      "text/plain": [
       "       domestic_gross         year\n",
       "count    3.359000e+03  3387.000000\n",
       "mean     2.874585e+07  2013.958075\n",
       "std      6.698250e+07     2.478141\n",
       "min      1.000000e+02  2010.000000\n",
       "25%      1.200000e+05  2012.000000\n",
       "50%      1.400000e+06  2014.000000\n",
       "75%      2.790000e+07  2016.000000\n",
       "max      9.367000e+08  2018.000000"
      ]
     },
     "execution_count": 8,
     "metadata": {},
     "output_type": "execute_result"
    }
   ],
   "source": [
    "# To get a glimpse of the data measures\n",
    "bom_data.describe()"
   ]
  },
  {
   "cell_type": "markdown",
   "id": "7b38a654",
   "metadata": {},
   "source": [
    "## 3.2 tn.movie_budgets.csv"
   ]
  },
  {
   "cell_type": "code",
   "execution_count": 9,
   "id": "ee4cbd8a",
   "metadata": {},
   "outputs": [],
   "source": [
    "# Loading the data\n",
    "tn_movie_budgets = pd.read_csv(\"Data/tn.movie_budgets.csv\")"
   ]
  },
  {
   "cell_type": "code",
   "execution_count": 10,
   "id": "582119fc",
   "metadata": {},
   "outputs": [
    {
     "data": {
      "text/html": [
       "<div>\n",
       "<style scoped>\n",
       "    .dataframe tbody tr th:only-of-type {\n",
       "        vertical-align: middle;\n",
       "    }\n",
       "\n",
       "    .dataframe tbody tr th {\n",
       "        vertical-align: top;\n",
       "    }\n",
       "\n",
       "    .dataframe thead th {\n",
       "        text-align: right;\n",
       "    }\n",
       "</style>\n",
       "<table border=\"1\" class=\"dataframe\">\n",
       "  <thead>\n",
       "    <tr style=\"text-align: right;\">\n",
       "      <th></th>\n",
       "      <th>id</th>\n",
       "      <th>release_date</th>\n",
       "      <th>movie</th>\n",
       "      <th>production_budget</th>\n",
       "      <th>domestic_gross</th>\n",
       "      <th>worldwide_gross</th>\n",
       "    </tr>\n",
       "  </thead>\n",
       "  <tbody>\n",
       "    <tr>\n",
       "      <th>0</th>\n",
       "      <td>1</td>\n",
       "      <td>Dec 18, 2009</td>\n",
       "      <td>Avatar</td>\n",
       "      <td>$425,000,000</td>\n",
       "      <td>$760,507,625</td>\n",
       "      <td>$2,776,345,279</td>\n",
       "    </tr>\n",
       "    <tr>\n",
       "      <th>1</th>\n",
       "      <td>2</td>\n",
       "      <td>May 20, 2011</td>\n",
       "      <td>Pirates of the Caribbean: On Stranger Tides</td>\n",
       "      <td>$410,600,000</td>\n",
       "      <td>$241,063,875</td>\n",
       "      <td>$1,045,663,875</td>\n",
       "    </tr>\n",
       "    <tr>\n",
       "      <th>2</th>\n",
       "      <td>3</td>\n",
       "      <td>Jun 7, 2019</td>\n",
       "      <td>Dark Phoenix</td>\n",
       "      <td>$350,000,000</td>\n",
       "      <td>$42,762,350</td>\n",
       "      <td>$149,762,350</td>\n",
       "    </tr>\n",
       "    <tr>\n",
       "      <th>3</th>\n",
       "      <td>4</td>\n",
       "      <td>May 1, 2015</td>\n",
       "      <td>Avengers: Age of Ultron</td>\n",
       "      <td>$330,600,000</td>\n",
       "      <td>$459,005,868</td>\n",
       "      <td>$1,403,013,963</td>\n",
       "    </tr>\n",
       "    <tr>\n",
       "      <th>4</th>\n",
       "      <td>5</td>\n",
       "      <td>Dec 15, 2017</td>\n",
       "      <td>Star Wars Ep. VIII: The Last Jedi</td>\n",
       "      <td>$317,000,000</td>\n",
       "      <td>$620,181,382</td>\n",
       "      <td>$1,316,721,747</td>\n",
       "    </tr>\n",
       "    <tr>\n",
       "      <th>...</th>\n",
       "      <td>...</td>\n",
       "      <td>...</td>\n",
       "      <td>...</td>\n",
       "      <td>...</td>\n",
       "      <td>...</td>\n",
       "      <td>...</td>\n",
       "    </tr>\n",
       "    <tr>\n",
       "      <th>5777</th>\n",
       "      <td>78</td>\n",
       "      <td>Dec 31, 2018</td>\n",
       "      <td>Red 11</td>\n",
       "      <td>$7,000</td>\n",
       "      <td>$0</td>\n",
       "      <td>$0</td>\n",
       "    </tr>\n",
       "    <tr>\n",
       "      <th>5778</th>\n",
       "      <td>79</td>\n",
       "      <td>Apr 2, 1999</td>\n",
       "      <td>Following</td>\n",
       "      <td>$6,000</td>\n",
       "      <td>$48,482</td>\n",
       "      <td>$240,495</td>\n",
       "    </tr>\n",
       "    <tr>\n",
       "      <th>5779</th>\n",
       "      <td>80</td>\n",
       "      <td>Jul 13, 2005</td>\n",
       "      <td>Return to the Land of Wonders</td>\n",
       "      <td>$5,000</td>\n",
       "      <td>$1,338</td>\n",
       "      <td>$1,338</td>\n",
       "    </tr>\n",
       "    <tr>\n",
       "      <th>5780</th>\n",
       "      <td>81</td>\n",
       "      <td>Sep 29, 2015</td>\n",
       "      <td>A Plague So Pleasant</td>\n",
       "      <td>$1,400</td>\n",
       "      <td>$0</td>\n",
       "      <td>$0</td>\n",
       "    </tr>\n",
       "    <tr>\n",
       "      <th>5781</th>\n",
       "      <td>82</td>\n",
       "      <td>Aug 5, 2005</td>\n",
       "      <td>My Date With Drew</td>\n",
       "      <td>$1,100</td>\n",
       "      <td>$181,041</td>\n",
       "      <td>$181,041</td>\n",
       "    </tr>\n",
       "  </tbody>\n",
       "</table>\n",
       "<p>5782 rows × 6 columns</p>\n",
       "</div>"
      ],
      "text/plain": [
       "      id  release_date                                        movie   \n",
       "0      1  Dec 18, 2009                                       Avatar  \\\n",
       "1      2  May 20, 2011  Pirates of the Caribbean: On Stranger Tides   \n",
       "2      3   Jun 7, 2019                                 Dark Phoenix   \n",
       "3      4   May 1, 2015                      Avengers: Age of Ultron   \n",
       "4      5  Dec 15, 2017            Star Wars Ep. VIII: The Last Jedi   \n",
       "...   ..           ...                                          ...   \n",
       "5777  78  Dec 31, 2018                                       Red 11   \n",
       "5778  79   Apr 2, 1999                                    Following   \n",
       "5779  80  Jul 13, 2005                Return to the Land of Wonders   \n",
       "5780  81  Sep 29, 2015                         A Plague So Pleasant   \n",
       "5781  82   Aug 5, 2005                            My Date With Drew   \n",
       "\n",
       "     production_budget domestic_gross worldwide_gross  \n",
       "0         $425,000,000   $760,507,625  $2,776,345,279  \n",
       "1         $410,600,000   $241,063,875  $1,045,663,875  \n",
       "2         $350,000,000    $42,762,350    $149,762,350  \n",
       "3         $330,600,000   $459,005,868  $1,403,013,963  \n",
       "4         $317,000,000   $620,181,382  $1,316,721,747  \n",
       "...                ...            ...             ...  \n",
       "5777            $7,000             $0              $0  \n",
       "5778            $6,000        $48,482        $240,495  \n",
       "5779            $5,000         $1,338          $1,338  \n",
       "5780            $1,400             $0              $0  \n",
       "5781            $1,100       $181,041        $181,041  \n",
       "\n",
       "[5782 rows x 6 columns]"
      ]
     },
     "execution_count": 10,
     "metadata": {},
     "output_type": "execute_result"
    }
   ],
   "source": [
    "tn_movie_budgets"
   ]
  },
  {
   "cell_type": "code",
   "execution_count": 11,
   "id": "f0c657b7",
   "metadata": {},
   "outputs": [
    {
     "name": "stdout",
     "output_type": "stream",
     "text": [
      "<class 'pandas.core.frame.DataFrame'>\n",
      "RangeIndex: 5782 entries, 0 to 5781\n",
      "Data columns (total 6 columns):\n",
      " #   Column             Non-Null Count  Dtype \n",
      "---  ------             --------------  ----- \n",
      " 0   id                 5782 non-null   int64 \n",
      " 1   release_date       5782 non-null   object\n",
      " 2   movie              5782 non-null   object\n",
      " 3   production_budget  5782 non-null   object\n",
      " 4   domestic_gross     5782 non-null   object\n",
      " 5   worldwide_gross    5782 non-null   object\n",
      "dtypes: int64(1), object(5)\n",
      "memory usage: 271.2+ KB\n"
     ]
    }
   ],
   "source": [
    "# viewing the columns\n",
    "tn_movie_budgets.info()"
   ]
  },
  {
   "cell_type": "code",
   "execution_count": 12,
   "id": "a9490f77",
   "metadata": {},
   "outputs": [
    {
     "data": {
      "text/html": [
       "<div>\n",
       "<style scoped>\n",
       "    .dataframe tbody tr th:only-of-type {\n",
       "        vertical-align: middle;\n",
       "    }\n",
       "\n",
       "    .dataframe tbody tr th {\n",
       "        vertical-align: top;\n",
       "    }\n",
       "\n",
       "    .dataframe thead th {\n",
       "        text-align: right;\n",
       "    }\n",
       "</style>\n",
       "<table border=\"1\" class=\"dataframe\">\n",
       "  <thead>\n",
       "    <tr style=\"text-align: right;\">\n",
       "      <th></th>\n",
       "      <th>id</th>\n",
       "      <th>release_date</th>\n",
       "      <th>movie</th>\n",
       "      <th>production_budget</th>\n",
       "      <th>domestic_gross</th>\n",
       "      <th>worldwide_gross</th>\n",
       "    </tr>\n",
       "  </thead>\n",
       "  <tbody>\n",
       "    <tr>\n",
       "      <th>0</th>\n",
       "      <td>1</td>\n",
       "      <td>Dec 18, 2009</td>\n",
       "      <td>Avatar</td>\n",
       "      <td>$425,000,000</td>\n",
       "      <td>$760,507,625</td>\n",
       "      <td>$2,776,345,279</td>\n",
       "    </tr>\n",
       "    <tr>\n",
       "      <th>1</th>\n",
       "      <td>2</td>\n",
       "      <td>May 20, 2011</td>\n",
       "      <td>Pirates of the Caribbean: On Stranger Tides</td>\n",
       "      <td>$410,600,000</td>\n",
       "      <td>$241,063,875</td>\n",
       "      <td>$1,045,663,875</td>\n",
       "    </tr>\n",
       "    <tr>\n",
       "      <th>2</th>\n",
       "      <td>3</td>\n",
       "      <td>Jun 7, 2019</td>\n",
       "      <td>Dark Phoenix</td>\n",
       "      <td>$350,000,000</td>\n",
       "      <td>$42,762,350</td>\n",
       "      <td>$149,762,350</td>\n",
       "    </tr>\n",
       "    <tr>\n",
       "      <th>3</th>\n",
       "      <td>4</td>\n",
       "      <td>May 1, 2015</td>\n",
       "      <td>Avengers: Age of Ultron</td>\n",
       "      <td>$330,600,000</td>\n",
       "      <td>$459,005,868</td>\n",
       "      <td>$1,403,013,963</td>\n",
       "    </tr>\n",
       "    <tr>\n",
       "      <th>4</th>\n",
       "      <td>5</td>\n",
       "      <td>Dec 15, 2017</td>\n",
       "      <td>Star Wars Ep. VIII: The Last Jedi</td>\n",
       "      <td>$317,000,000</td>\n",
       "      <td>$620,181,382</td>\n",
       "      <td>$1,316,721,747</td>\n",
       "    </tr>\n",
       "  </tbody>\n",
       "</table>\n",
       "</div>"
      ],
      "text/plain": [
       "   id  release_date                                        movie   \n",
       "0   1  Dec 18, 2009                                       Avatar  \\\n",
       "1   2  May 20, 2011  Pirates of the Caribbean: On Stranger Tides   \n",
       "2   3   Jun 7, 2019                                 Dark Phoenix   \n",
       "3   4   May 1, 2015                      Avengers: Age of Ultron   \n",
       "4   5  Dec 15, 2017            Star Wars Ep. VIII: The Last Jedi   \n",
       "\n",
       "  production_budget domestic_gross worldwide_gross  \n",
       "0      $425,000,000   $760,507,625  $2,776,345,279  \n",
       "1      $410,600,000   $241,063,875  $1,045,663,875  \n",
       "2      $350,000,000    $42,762,350    $149,762,350  \n",
       "3      $330,600,000   $459,005,868  $1,403,013,963  \n",
       "4      $317,000,000   $620,181,382  $1,316,721,747  "
      ]
     },
     "execution_count": 12,
     "metadata": {},
     "output_type": "execute_result"
    }
   ],
   "source": [
    "#To see the first rows in order to get a visual of how the data looks like\n",
    "tn_movie_budgets.head()"
   ]
  },
  {
   "cell_type": "code",
   "execution_count": 13,
   "id": "c5f47309",
   "metadata": {},
   "outputs": [
    {
     "data": {
      "text/html": [
       "<div>\n",
       "<style scoped>\n",
       "    .dataframe tbody tr th:only-of-type {\n",
       "        vertical-align: middle;\n",
       "    }\n",
       "\n",
       "    .dataframe tbody tr th {\n",
       "        vertical-align: top;\n",
       "    }\n",
       "\n",
       "    .dataframe thead th {\n",
       "        text-align: right;\n",
       "    }\n",
       "</style>\n",
       "<table border=\"1\" class=\"dataframe\">\n",
       "  <thead>\n",
       "    <tr style=\"text-align: right;\">\n",
       "      <th></th>\n",
       "      <th>id</th>\n",
       "      <th>release_date</th>\n",
       "      <th>movie</th>\n",
       "      <th>production_budget</th>\n",
       "      <th>domestic_gross</th>\n",
       "      <th>worldwide_gross</th>\n",
       "    </tr>\n",
       "  </thead>\n",
       "  <tbody>\n",
       "    <tr>\n",
       "      <th>5777</th>\n",
       "      <td>78</td>\n",
       "      <td>Dec 31, 2018</td>\n",
       "      <td>Red 11</td>\n",
       "      <td>$7,000</td>\n",
       "      <td>$0</td>\n",
       "      <td>$0</td>\n",
       "    </tr>\n",
       "    <tr>\n",
       "      <th>5778</th>\n",
       "      <td>79</td>\n",
       "      <td>Apr 2, 1999</td>\n",
       "      <td>Following</td>\n",
       "      <td>$6,000</td>\n",
       "      <td>$48,482</td>\n",
       "      <td>$240,495</td>\n",
       "    </tr>\n",
       "    <tr>\n",
       "      <th>5779</th>\n",
       "      <td>80</td>\n",
       "      <td>Jul 13, 2005</td>\n",
       "      <td>Return to the Land of Wonders</td>\n",
       "      <td>$5,000</td>\n",
       "      <td>$1,338</td>\n",
       "      <td>$1,338</td>\n",
       "    </tr>\n",
       "    <tr>\n",
       "      <th>5780</th>\n",
       "      <td>81</td>\n",
       "      <td>Sep 29, 2015</td>\n",
       "      <td>A Plague So Pleasant</td>\n",
       "      <td>$1,400</td>\n",
       "      <td>$0</td>\n",
       "      <td>$0</td>\n",
       "    </tr>\n",
       "    <tr>\n",
       "      <th>5781</th>\n",
       "      <td>82</td>\n",
       "      <td>Aug 5, 2005</td>\n",
       "      <td>My Date With Drew</td>\n",
       "      <td>$1,100</td>\n",
       "      <td>$181,041</td>\n",
       "      <td>$181,041</td>\n",
       "    </tr>\n",
       "  </tbody>\n",
       "</table>\n",
       "</div>"
      ],
      "text/plain": [
       "      id  release_date                          movie production_budget   \n",
       "5777  78  Dec 31, 2018                         Red 11            $7,000  \\\n",
       "5778  79   Apr 2, 1999                      Following            $6,000   \n",
       "5779  80  Jul 13, 2005  Return to the Land of Wonders            $5,000   \n",
       "5780  81  Sep 29, 2015           A Plague So Pleasant            $1,400   \n",
       "5781  82   Aug 5, 2005              My Date With Drew            $1,100   \n",
       "\n",
       "     domestic_gross worldwide_gross  \n",
       "5777             $0              $0  \n",
       "5778        $48,482        $240,495  \n",
       "5779         $1,338          $1,338  \n",
       "5780             $0              $0  \n",
       "5781       $181,041        $181,041  "
      ]
     },
     "execution_count": 13,
     "metadata": {},
     "output_type": "execute_result"
    }
   ],
   "source": [
    "#To see the last rows in order to get a visual of how the data looks like\n",
    "tn_movie_budgets.tail()"
   ]
  },
  {
   "cell_type": "code",
   "execution_count": 14,
   "id": "bc85c114",
   "metadata": {},
   "outputs": [
    {
     "data": {
      "text/html": [
       "<div>\n",
       "<style scoped>\n",
       "    .dataframe tbody tr th:only-of-type {\n",
       "        vertical-align: middle;\n",
       "    }\n",
       "\n",
       "    .dataframe tbody tr th {\n",
       "        vertical-align: top;\n",
       "    }\n",
       "\n",
       "    .dataframe thead th {\n",
       "        text-align: right;\n",
       "    }\n",
       "</style>\n",
       "<table border=\"1\" class=\"dataframe\">\n",
       "  <thead>\n",
       "    <tr style=\"text-align: right;\">\n",
       "      <th></th>\n",
       "      <th>id</th>\n",
       "    </tr>\n",
       "  </thead>\n",
       "  <tbody>\n",
       "    <tr>\n",
       "      <th>count</th>\n",
       "      <td>5782.000000</td>\n",
       "    </tr>\n",
       "    <tr>\n",
       "      <th>mean</th>\n",
       "      <td>50.372363</td>\n",
       "    </tr>\n",
       "    <tr>\n",
       "      <th>std</th>\n",
       "      <td>28.821076</td>\n",
       "    </tr>\n",
       "    <tr>\n",
       "      <th>min</th>\n",
       "      <td>1.000000</td>\n",
       "    </tr>\n",
       "    <tr>\n",
       "      <th>25%</th>\n",
       "      <td>25.000000</td>\n",
       "    </tr>\n",
       "    <tr>\n",
       "      <th>50%</th>\n",
       "      <td>50.000000</td>\n",
       "    </tr>\n",
       "    <tr>\n",
       "      <th>75%</th>\n",
       "      <td>75.000000</td>\n",
       "    </tr>\n",
       "    <tr>\n",
       "      <th>max</th>\n",
       "      <td>100.000000</td>\n",
       "    </tr>\n",
       "  </tbody>\n",
       "</table>\n",
       "</div>"
      ],
      "text/plain": [
       "                id\n",
       "count  5782.000000\n",
       "mean     50.372363\n",
       "std      28.821076\n",
       "min       1.000000\n",
       "25%      25.000000\n",
       "50%      50.000000\n",
       "75%      75.000000\n",
       "max     100.000000"
      ]
     },
     "execution_count": 14,
     "metadata": {},
     "output_type": "execute_result"
    }
   ],
   "source": [
    "# To get a glimpse of the data measures\n",
    "tn_movie_budgets.describe()"
   ]
  },
  {
   "cell_type": "markdown",
   "id": "92520d99",
   "metadata": {},
   "source": [
    "## 3.3 rt.movie.info.tsv"
   ]
  },
  {
   "cell_type": "code",
   "execution_count": 15,
   "id": "f87f7e9b",
   "metadata": {},
   "outputs": [],
   "source": [
    "# Loading the data\n",
    "rt_movie_info = pd.read_csv(\"Data/rt.movie_info.tsv\", delimiter = \"\\t\")"
   ]
  },
  {
   "cell_type": "code",
   "execution_count": 16,
   "id": "42fa967d",
   "metadata": {},
   "outputs": [
    {
     "data": {
      "text/html": [
       "<div>\n",
       "<style scoped>\n",
       "    .dataframe tbody tr th:only-of-type {\n",
       "        vertical-align: middle;\n",
       "    }\n",
       "\n",
       "    .dataframe tbody tr th {\n",
       "        vertical-align: top;\n",
       "    }\n",
       "\n",
       "    .dataframe thead th {\n",
       "        text-align: right;\n",
       "    }\n",
       "</style>\n",
       "<table border=\"1\" class=\"dataframe\">\n",
       "  <thead>\n",
       "    <tr style=\"text-align: right;\">\n",
       "      <th></th>\n",
       "      <th>id</th>\n",
       "      <th>synopsis</th>\n",
       "      <th>rating</th>\n",
       "      <th>genre</th>\n",
       "      <th>director</th>\n",
       "      <th>writer</th>\n",
       "      <th>theater_date</th>\n",
       "      <th>dvd_date</th>\n",
       "      <th>currency</th>\n",
       "      <th>box_office</th>\n",
       "      <th>runtime</th>\n",
       "      <th>studio</th>\n",
       "    </tr>\n",
       "  </thead>\n",
       "  <tbody>\n",
       "    <tr>\n",
       "      <th>0</th>\n",
       "      <td>1</td>\n",
       "      <td>This gritty, fast-paced, and innovative police...</td>\n",
       "      <td>R</td>\n",
       "      <td>Action and Adventure|Classics|Drama</td>\n",
       "      <td>William Friedkin</td>\n",
       "      <td>Ernest Tidyman</td>\n",
       "      <td>Oct 9, 1971</td>\n",
       "      <td>Sep 25, 2001</td>\n",
       "      <td>NaN</td>\n",
       "      <td>NaN</td>\n",
       "      <td>104 minutes</td>\n",
       "      <td>NaN</td>\n",
       "    </tr>\n",
       "    <tr>\n",
       "      <th>1</th>\n",
       "      <td>3</td>\n",
       "      <td>New York City, not-too-distant-future: Eric Pa...</td>\n",
       "      <td>R</td>\n",
       "      <td>Drama|Science Fiction and Fantasy</td>\n",
       "      <td>David Cronenberg</td>\n",
       "      <td>David Cronenberg|Don DeLillo</td>\n",
       "      <td>Aug 17, 2012</td>\n",
       "      <td>Jan 1, 2013</td>\n",
       "      <td>$</td>\n",
       "      <td>600,000</td>\n",
       "      <td>108 minutes</td>\n",
       "      <td>Entertainment One</td>\n",
       "    </tr>\n",
       "    <tr>\n",
       "      <th>2</th>\n",
       "      <td>5</td>\n",
       "      <td>Illeana Douglas delivers a superb performance ...</td>\n",
       "      <td>R</td>\n",
       "      <td>Drama|Musical and Performing Arts</td>\n",
       "      <td>Allison Anders</td>\n",
       "      <td>Allison Anders</td>\n",
       "      <td>Sep 13, 1996</td>\n",
       "      <td>Apr 18, 2000</td>\n",
       "      <td>NaN</td>\n",
       "      <td>NaN</td>\n",
       "      <td>116 minutes</td>\n",
       "      <td>NaN</td>\n",
       "    </tr>\n",
       "    <tr>\n",
       "      <th>3</th>\n",
       "      <td>6</td>\n",
       "      <td>Michael Douglas runs afoul of a treacherous su...</td>\n",
       "      <td>R</td>\n",
       "      <td>Drama|Mystery and Suspense</td>\n",
       "      <td>Barry Levinson</td>\n",
       "      <td>Paul Attanasio|Michael Crichton</td>\n",
       "      <td>Dec 9, 1994</td>\n",
       "      <td>Aug 27, 1997</td>\n",
       "      <td>NaN</td>\n",
       "      <td>NaN</td>\n",
       "      <td>128 minutes</td>\n",
       "      <td>NaN</td>\n",
       "    </tr>\n",
       "    <tr>\n",
       "      <th>4</th>\n",
       "      <td>7</td>\n",
       "      <td>NaN</td>\n",
       "      <td>NR</td>\n",
       "      <td>Drama|Romance</td>\n",
       "      <td>Rodney Bennett</td>\n",
       "      <td>Giles Cooper</td>\n",
       "      <td>NaN</td>\n",
       "      <td>NaN</td>\n",
       "      <td>NaN</td>\n",
       "      <td>NaN</td>\n",
       "      <td>200 minutes</td>\n",
       "      <td>NaN</td>\n",
       "    </tr>\n",
       "    <tr>\n",
       "      <th>...</th>\n",
       "      <td>...</td>\n",
       "      <td>...</td>\n",
       "      <td>...</td>\n",
       "      <td>...</td>\n",
       "      <td>...</td>\n",
       "      <td>...</td>\n",
       "      <td>...</td>\n",
       "      <td>...</td>\n",
       "      <td>...</td>\n",
       "      <td>...</td>\n",
       "      <td>...</td>\n",
       "      <td>...</td>\n",
       "    </tr>\n",
       "    <tr>\n",
       "      <th>1555</th>\n",
       "      <td>1996</td>\n",
       "      <td>Forget terrorists or hijackers -- there's a ha...</td>\n",
       "      <td>R</td>\n",
       "      <td>Action and Adventure|Horror|Mystery and Suspense</td>\n",
       "      <td>NaN</td>\n",
       "      <td>NaN</td>\n",
       "      <td>Aug 18, 2006</td>\n",
       "      <td>Jan 2, 2007</td>\n",
       "      <td>$</td>\n",
       "      <td>33,886,034</td>\n",
       "      <td>106 minutes</td>\n",
       "      <td>New Line Cinema</td>\n",
       "    </tr>\n",
       "    <tr>\n",
       "      <th>1556</th>\n",
       "      <td>1997</td>\n",
       "      <td>The popular Saturday Night Live sketch was exp...</td>\n",
       "      <td>PG</td>\n",
       "      <td>Comedy|Science Fiction and Fantasy</td>\n",
       "      <td>Steve Barron</td>\n",
       "      <td>Terry Turner|Tom Davis|Dan Aykroyd|Bonnie Turner</td>\n",
       "      <td>Jul 23, 1993</td>\n",
       "      <td>Apr 17, 2001</td>\n",
       "      <td>NaN</td>\n",
       "      <td>NaN</td>\n",
       "      <td>88 minutes</td>\n",
       "      <td>Paramount Vantage</td>\n",
       "    </tr>\n",
       "    <tr>\n",
       "      <th>1557</th>\n",
       "      <td>1998</td>\n",
       "      <td>Based on a novel by Richard Powell, when the l...</td>\n",
       "      <td>G</td>\n",
       "      <td>Classics|Comedy|Drama|Musical and Performing Arts</td>\n",
       "      <td>Gordon Douglas</td>\n",
       "      <td>NaN</td>\n",
       "      <td>Jan 1, 1962</td>\n",
       "      <td>May 11, 2004</td>\n",
       "      <td>NaN</td>\n",
       "      <td>NaN</td>\n",
       "      <td>111 minutes</td>\n",
       "      <td>NaN</td>\n",
       "    </tr>\n",
       "    <tr>\n",
       "      <th>1558</th>\n",
       "      <td>1999</td>\n",
       "      <td>The Sandlot is a coming-of-age story about a g...</td>\n",
       "      <td>PG</td>\n",
       "      <td>Comedy|Drama|Kids and Family|Sports and Fitness</td>\n",
       "      <td>David Mickey Evans</td>\n",
       "      <td>David Mickey Evans|Robert Gunter</td>\n",
       "      <td>Apr 1, 1993</td>\n",
       "      <td>Jan 29, 2002</td>\n",
       "      <td>NaN</td>\n",
       "      <td>NaN</td>\n",
       "      <td>101 minutes</td>\n",
       "      <td>NaN</td>\n",
       "    </tr>\n",
       "    <tr>\n",
       "      <th>1559</th>\n",
       "      <td>2000</td>\n",
       "      <td>Suspended from the force, Paris cop Hubert is ...</td>\n",
       "      <td>R</td>\n",
       "      <td>Action and Adventure|Art House and Internation...</td>\n",
       "      <td>NaN</td>\n",
       "      <td>Luc Besson</td>\n",
       "      <td>Sep 27, 2001</td>\n",
       "      <td>Feb 11, 2003</td>\n",
       "      <td>NaN</td>\n",
       "      <td>NaN</td>\n",
       "      <td>94 minutes</td>\n",
       "      <td>Columbia Pictures</td>\n",
       "    </tr>\n",
       "  </tbody>\n",
       "</table>\n",
       "<p>1560 rows × 12 columns</p>\n",
       "</div>"
      ],
      "text/plain": [
       "        id                                           synopsis rating   \n",
       "0        1  This gritty, fast-paced, and innovative police...      R  \\\n",
       "1        3  New York City, not-too-distant-future: Eric Pa...      R   \n",
       "2        5  Illeana Douglas delivers a superb performance ...      R   \n",
       "3        6  Michael Douglas runs afoul of a treacherous su...      R   \n",
       "4        7                                                NaN     NR   \n",
       "...    ...                                                ...    ...   \n",
       "1555  1996  Forget terrorists or hijackers -- there's a ha...      R   \n",
       "1556  1997  The popular Saturday Night Live sketch was exp...     PG   \n",
       "1557  1998  Based on a novel by Richard Powell, when the l...      G   \n",
       "1558  1999  The Sandlot is a coming-of-age story about a g...     PG   \n",
       "1559  2000  Suspended from the force, Paris cop Hubert is ...      R   \n",
       "\n",
       "                                                  genre            director   \n",
       "0                   Action and Adventure|Classics|Drama    William Friedkin  \\\n",
       "1                     Drama|Science Fiction and Fantasy    David Cronenberg   \n",
       "2                     Drama|Musical and Performing Arts      Allison Anders   \n",
       "3                            Drama|Mystery and Suspense      Barry Levinson   \n",
       "4                                         Drama|Romance      Rodney Bennett   \n",
       "...                                                 ...                 ...   \n",
       "1555   Action and Adventure|Horror|Mystery and Suspense                 NaN   \n",
       "1556                 Comedy|Science Fiction and Fantasy        Steve Barron   \n",
       "1557  Classics|Comedy|Drama|Musical and Performing Arts      Gordon Douglas   \n",
       "1558    Comedy|Drama|Kids and Family|Sports and Fitness  David Mickey Evans   \n",
       "1559  Action and Adventure|Art House and Internation...                 NaN   \n",
       "\n",
       "                                                writer  theater_date   \n",
       "0                                       Ernest Tidyman   Oct 9, 1971  \\\n",
       "1                         David Cronenberg|Don DeLillo  Aug 17, 2012   \n",
       "2                                       Allison Anders  Sep 13, 1996   \n",
       "3                      Paul Attanasio|Michael Crichton   Dec 9, 1994   \n",
       "4                                         Giles Cooper           NaN   \n",
       "...                                                ...           ...   \n",
       "1555                                               NaN  Aug 18, 2006   \n",
       "1556  Terry Turner|Tom Davis|Dan Aykroyd|Bonnie Turner  Jul 23, 1993   \n",
       "1557                                               NaN   Jan 1, 1962   \n",
       "1558                  David Mickey Evans|Robert Gunter   Apr 1, 1993   \n",
       "1559                                        Luc Besson  Sep 27, 2001   \n",
       "\n",
       "          dvd_date currency  box_office      runtime             studio  \n",
       "0     Sep 25, 2001      NaN         NaN  104 minutes                NaN  \n",
       "1      Jan 1, 2013        $     600,000  108 minutes  Entertainment One  \n",
       "2     Apr 18, 2000      NaN         NaN  116 minutes                NaN  \n",
       "3     Aug 27, 1997      NaN         NaN  128 minutes                NaN  \n",
       "4              NaN      NaN         NaN  200 minutes                NaN  \n",
       "...            ...      ...         ...          ...                ...  \n",
       "1555   Jan 2, 2007        $  33,886,034  106 minutes    New Line Cinema  \n",
       "1556  Apr 17, 2001      NaN         NaN   88 minutes  Paramount Vantage  \n",
       "1557  May 11, 2004      NaN         NaN  111 minutes                NaN  \n",
       "1558  Jan 29, 2002      NaN         NaN  101 minutes                NaN  \n",
       "1559  Feb 11, 2003      NaN         NaN   94 minutes  Columbia Pictures  \n",
       "\n",
       "[1560 rows x 12 columns]"
      ]
     },
     "execution_count": 16,
     "metadata": {},
     "output_type": "execute_result"
    }
   ],
   "source": [
    "rt_movie_info"
   ]
  },
  {
   "cell_type": "code",
   "execution_count": 17,
   "id": "0e05eeb2",
   "metadata": {
    "scrolled": true
   },
   "outputs": [
    {
     "name": "stdout",
     "output_type": "stream",
     "text": [
      "<class 'pandas.core.frame.DataFrame'>\n",
      "RangeIndex: 1560 entries, 0 to 1559\n",
      "Data columns (total 12 columns):\n",
      " #   Column        Non-Null Count  Dtype \n",
      "---  ------        --------------  ----- \n",
      " 0   id            1560 non-null   int64 \n",
      " 1   synopsis      1498 non-null   object\n",
      " 2   rating        1557 non-null   object\n",
      " 3   genre         1552 non-null   object\n",
      " 4   director      1361 non-null   object\n",
      " 5   writer        1111 non-null   object\n",
      " 6   theater_date  1201 non-null   object\n",
      " 7   dvd_date      1201 non-null   object\n",
      " 8   currency      340 non-null    object\n",
      " 9   box_office    340 non-null    object\n",
      " 10  runtime       1530 non-null   object\n",
      " 11  studio        494 non-null    object\n",
      "dtypes: int64(1), object(11)\n",
      "memory usage: 146.4+ KB\n"
     ]
    }
   ],
   "source": [
    "# viewing the columns\n",
    "rt_movie_info.info()"
   ]
  },
  {
   "cell_type": "code",
   "execution_count": 18,
   "id": "757bed9c",
   "metadata": {},
   "outputs": [
    {
     "data": {
      "text/html": [
       "<div>\n",
       "<style scoped>\n",
       "    .dataframe tbody tr th:only-of-type {\n",
       "        vertical-align: middle;\n",
       "    }\n",
       "\n",
       "    .dataframe tbody tr th {\n",
       "        vertical-align: top;\n",
       "    }\n",
       "\n",
       "    .dataframe thead th {\n",
       "        text-align: right;\n",
       "    }\n",
       "</style>\n",
       "<table border=\"1\" class=\"dataframe\">\n",
       "  <thead>\n",
       "    <tr style=\"text-align: right;\">\n",
       "      <th></th>\n",
       "      <th>id</th>\n",
       "      <th>synopsis</th>\n",
       "      <th>rating</th>\n",
       "      <th>genre</th>\n",
       "      <th>director</th>\n",
       "      <th>writer</th>\n",
       "      <th>theater_date</th>\n",
       "      <th>dvd_date</th>\n",
       "      <th>currency</th>\n",
       "      <th>box_office</th>\n",
       "      <th>runtime</th>\n",
       "      <th>studio</th>\n",
       "    </tr>\n",
       "  </thead>\n",
       "  <tbody>\n",
       "    <tr>\n",
       "      <th>0</th>\n",
       "      <td>1</td>\n",
       "      <td>This gritty, fast-paced, and innovative police...</td>\n",
       "      <td>R</td>\n",
       "      <td>Action and Adventure|Classics|Drama</td>\n",
       "      <td>William Friedkin</td>\n",
       "      <td>Ernest Tidyman</td>\n",
       "      <td>Oct 9, 1971</td>\n",
       "      <td>Sep 25, 2001</td>\n",
       "      <td>NaN</td>\n",
       "      <td>NaN</td>\n",
       "      <td>104 minutes</td>\n",
       "      <td>NaN</td>\n",
       "    </tr>\n",
       "    <tr>\n",
       "      <th>1</th>\n",
       "      <td>3</td>\n",
       "      <td>New York City, not-too-distant-future: Eric Pa...</td>\n",
       "      <td>R</td>\n",
       "      <td>Drama|Science Fiction and Fantasy</td>\n",
       "      <td>David Cronenberg</td>\n",
       "      <td>David Cronenberg|Don DeLillo</td>\n",
       "      <td>Aug 17, 2012</td>\n",
       "      <td>Jan 1, 2013</td>\n",
       "      <td>$</td>\n",
       "      <td>600,000</td>\n",
       "      <td>108 minutes</td>\n",
       "      <td>Entertainment One</td>\n",
       "    </tr>\n",
       "    <tr>\n",
       "      <th>2</th>\n",
       "      <td>5</td>\n",
       "      <td>Illeana Douglas delivers a superb performance ...</td>\n",
       "      <td>R</td>\n",
       "      <td>Drama|Musical and Performing Arts</td>\n",
       "      <td>Allison Anders</td>\n",
       "      <td>Allison Anders</td>\n",
       "      <td>Sep 13, 1996</td>\n",
       "      <td>Apr 18, 2000</td>\n",
       "      <td>NaN</td>\n",
       "      <td>NaN</td>\n",
       "      <td>116 minutes</td>\n",
       "      <td>NaN</td>\n",
       "    </tr>\n",
       "    <tr>\n",
       "      <th>3</th>\n",
       "      <td>6</td>\n",
       "      <td>Michael Douglas runs afoul of a treacherous su...</td>\n",
       "      <td>R</td>\n",
       "      <td>Drama|Mystery and Suspense</td>\n",
       "      <td>Barry Levinson</td>\n",
       "      <td>Paul Attanasio|Michael Crichton</td>\n",
       "      <td>Dec 9, 1994</td>\n",
       "      <td>Aug 27, 1997</td>\n",
       "      <td>NaN</td>\n",
       "      <td>NaN</td>\n",
       "      <td>128 minutes</td>\n",
       "      <td>NaN</td>\n",
       "    </tr>\n",
       "    <tr>\n",
       "      <th>4</th>\n",
       "      <td>7</td>\n",
       "      <td>NaN</td>\n",
       "      <td>NR</td>\n",
       "      <td>Drama|Romance</td>\n",
       "      <td>Rodney Bennett</td>\n",
       "      <td>Giles Cooper</td>\n",
       "      <td>NaN</td>\n",
       "      <td>NaN</td>\n",
       "      <td>NaN</td>\n",
       "      <td>NaN</td>\n",
       "      <td>200 minutes</td>\n",
       "      <td>NaN</td>\n",
       "    </tr>\n",
       "  </tbody>\n",
       "</table>\n",
       "</div>"
      ],
      "text/plain": [
       "   id                                           synopsis rating   \n",
       "0   1  This gritty, fast-paced, and innovative police...      R  \\\n",
       "1   3  New York City, not-too-distant-future: Eric Pa...      R   \n",
       "2   5  Illeana Douglas delivers a superb performance ...      R   \n",
       "3   6  Michael Douglas runs afoul of a treacherous su...      R   \n",
       "4   7                                                NaN     NR   \n",
       "\n",
       "                                 genre          director   \n",
       "0  Action and Adventure|Classics|Drama  William Friedkin  \\\n",
       "1    Drama|Science Fiction and Fantasy  David Cronenberg   \n",
       "2    Drama|Musical and Performing Arts    Allison Anders   \n",
       "3           Drama|Mystery and Suspense    Barry Levinson   \n",
       "4                        Drama|Romance    Rodney Bennett   \n",
       "\n",
       "                            writer  theater_date      dvd_date currency   \n",
       "0                   Ernest Tidyman   Oct 9, 1971  Sep 25, 2001      NaN  \\\n",
       "1     David Cronenberg|Don DeLillo  Aug 17, 2012   Jan 1, 2013        $   \n",
       "2                   Allison Anders  Sep 13, 1996  Apr 18, 2000      NaN   \n",
       "3  Paul Attanasio|Michael Crichton   Dec 9, 1994  Aug 27, 1997      NaN   \n",
       "4                     Giles Cooper           NaN           NaN      NaN   \n",
       "\n",
       "  box_office      runtime             studio  \n",
       "0        NaN  104 minutes                NaN  \n",
       "1    600,000  108 minutes  Entertainment One  \n",
       "2        NaN  116 minutes                NaN  \n",
       "3        NaN  128 minutes                NaN  \n",
       "4        NaN  200 minutes                NaN  "
      ]
     },
     "execution_count": 18,
     "metadata": {},
     "output_type": "execute_result"
    }
   ],
   "source": [
    "#To see the first rows in order to get a visual of how the data looks like\n",
    "rt_movie_info.head()"
   ]
  },
  {
   "cell_type": "code",
   "execution_count": 19,
   "id": "cffbadf8",
   "metadata": {},
   "outputs": [
    {
     "data": {
      "text/html": [
       "<div>\n",
       "<style scoped>\n",
       "    .dataframe tbody tr th:only-of-type {\n",
       "        vertical-align: middle;\n",
       "    }\n",
       "\n",
       "    .dataframe tbody tr th {\n",
       "        vertical-align: top;\n",
       "    }\n",
       "\n",
       "    .dataframe thead th {\n",
       "        text-align: right;\n",
       "    }\n",
       "</style>\n",
       "<table border=\"1\" class=\"dataframe\">\n",
       "  <thead>\n",
       "    <tr style=\"text-align: right;\">\n",
       "      <th></th>\n",
       "      <th>id</th>\n",
       "      <th>synopsis</th>\n",
       "      <th>rating</th>\n",
       "      <th>genre</th>\n",
       "      <th>director</th>\n",
       "      <th>writer</th>\n",
       "      <th>theater_date</th>\n",
       "      <th>dvd_date</th>\n",
       "      <th>currency</th>\n",
       "      <th>box_office</th>\n",
       "      <th>runtime</th>\n",
       "      <th>studio</th>\n",
       "    </tr>\n",
       "  </thead>\n",
       "  <tbody>\n",
       "    <tr>\n",
       "      <th>1555</th>\n",
       "      <td>1996</td>\n",
       "      <td>Forget terrorists or hijackers -- there's a ha...</td>\n",
       "      <td>R</td>\n",
       "      <td>Action and Adventure|Horror|Mystery and Suspense</td>\n",
       "      <td>NaN</td>\n",
       "      <td>NaN</td>\n",
       "      <td>Aug 18, 2006</td>\n",
       "      <td>Jan 2, 2007</td>\n",
       "      <td>$</td>\n",
       "      <td>33,886,034</td>\n",
       "      <td>106 minutes</td>\n",
       "      <td>New Line Cinema</td>\n",
       "    </tr>\n",
       "    <tr>\n",
       "      <th>1556</th>\n",
       "      <td>1997</td>\n",
       "      <td>The popular Saturday Night Live sketch was exp...</td>\n",
       "      <td>PG</td>\n",
       "      <td>Comedy|Science Fiction and Fantasy</td>\n",
       "      <td>Steve Barron</td>\n",
       "      <td>Terry Turner|Tom Davis|Dan Aykroyd|Bonnie Turner</td>\n",
       "      <td>Jul 23, 1993</td>\n",
       "      <td>Apr 17, 2001</td>\n",
       "      <td>NaN</td>\n",
       "      <td>NaN</td>\n",
       "      <td>88 minutes</td>\n",
       "      <td>Paramount Vantage</td>\n",
       "    </tr>\n",
       "    <tr>\n",
       "      <th>1557</th>\n",
       "      <td>1998</td>\n",
       "      <td>Based on a novel by Richard Powell, when the l...</td>\n",
       "      <td>G</td>\n",
       "      <td>Classics|Comedy|Drama|Musical and Performing Arts</td>\n",
       "      <td>Gordon Douglas</td>\n",
       "      <td>NaN</td>\n",
       "      <td>Jan 1, 1962</td>\n",
       "      <td>May 11, 2004</td>\n",
       "      <td>NaN</td>\n",
       "      <td>NaN</td>\n",
       "      <td>111 minutes</td>\n",
       "      <td>NaN</td>\n",
       "    </tr>\n",
       "    <tr>\n",
       "      <th>1558</th>\n",
       "      <td>1999</td>\n",
       "      <td>The Sandlot is a coming-of-age story about a g...</td>\n",
       "      <td>PG</td>\n",
       "      <td>Comedy|Drama|Kids and Family|Sports and Fitness</td>\n",
       "      <td>David Mickey Evans</td>\n",
       "      <td>David Mickey Evans|Robert Gunter</td>\n",
       "      <td>Apr 1, 1993</td>\n",
       "      <td>Jan 29, 2002</td>\n",
       "      <td>NaN</td>\n",
       "      <td>NaN</td>\n",
       "      <td>101 minutes</td>\n",
       "      <td>NaN</td>\n",
       "    </tr>\n",
       "    <tr>\n",
       "      <th>1559</th>\n",
       "      <td>2000</td>\n",
       "      <td>Suspended from the force, Paris cop Hubert is ...</td>\n",
       "      <td>R</td>\n",
       "      <td>Action and Adventure|Art House and Internation...</td>\n",
       "      <td>NaN</td>\n",
       "      <td>Luc Besson</td>\n",
       "      <td>Sep 27, 2001</td>\n",
       "      <td>Feb 11, 2003</td>\n",
       "      <td>NaN</td>\n",
       "      <td>NaN</td>\n",
       "      <td>94 minutes</td>\n",
       "      <td>Columbia Pictures</td>\n",
       "    </tr>\n",
       "  </tbody>\n",
       "</table>\n",
       "</div>"
      ],
      "text/plain": [
       "        id                                           synopsis rating   \n",
       "1555  1996  Forget terrorists or hijackers -- there's a ha...      R  \\\n",
       "1556  1997  The popular Saturday Night Live sketch was exp...     PG   \n",
       "1557  1998  Based on a novel by Richard Powell, when the l...      G   \n",
       "1558  1999  The Sandlot is a coming-of-age story about a g...     PG   \n",
       "1559  2000  Suspended from the force, Paris cop Hubert is ...      R   \n",
       "\n",
       "                                                  genre            director   \n",
       "1555   Action and Adventure|Horror|Mystery and Suspense                 NaN  \\\n",
       "1556                 Comedy|Science Fiction and Fantasy        Steve Barron   \n",
       "1557  Classics|Comedy|Drama|Musical and Performing Arts      Gordon Douglas   \n",
       "1558    Comedy|Drama|Kids and Family|Sports and Fitness  David Mickey Evans   \n",
       "1559  Action and Adventure|Art House and Internation...                 NaN   \n",
       "\n",
       "                                                writer  theater_date   \n",
       "1555                                               NaN  Aug 18, 2006  \\\n",
       "1556  Terry Turner|Tom Davis|Dan Aykroyd|Bonnie Turner  Jul 23, 1993   \n",
       "1557                                               NaN   Jan 1, 1962   \n",
       "1558                  David Mickey Evans|Robert Gunter   Apr 1, 1993   \n",
       "1559                                        Luc Besson  Sep 27, 2001   \n",
       "\n",
       "          dvd_date currency  box_office      runtime             studio  \n",
       "1555   Jan 2, 2007        $  33,886,034  106 minutes    New Line Cinema  \n",
       "1556  Apr 17, 2001      NaN         NaN   88 minutes  Paramount Vantage  \n",
       "1557  May 11, 2004      NaN         NaN  111 minutes                NaN  \n",
       "1558  Jan 29, 2002      NaN         NaN  101 minutes                NaN  \n",
       "1559  Feb 11, 2003      NaN         NaN   94 minutes  Columbia Pictures  "
      ]
     },
     "execution_count": 19,
     "metadata": {},
     "output_type": "execute_result"
    }
   ],
   "source": [
    "#To see the last rows in order to get a visual of how the data looks like\n",
    "rt_movie_info.tail()"
   ]
  },
  {
   "cell_type": "code",
   "execution_count": 20,
   "id": "71b2c8d7",
   "metadata": {},
   "outputs": [
    {
     "data": {
      "text/html": [
       "<div>\n",
       "<style scoped>\n",
       "    .dataframe tbody tr th:only-of-type {\n",
       "        vertical-align: middle;\n",
       "    }\n",
       "\n",
       "    .dataframe tbody tr th {\n",
       "        vertical-align: top;\n",
       "    }\n",
       "\n",
       "    .dataframe thead th {\n",
       "        text-align: right;\n",
       "    }\n",
       "</style>\n",
       "<table border=\"1\" class=\"dataframe\">\n",
       "  <thead>\n",
       "    <tr style=\"text-align: right;\">\n",
       "      <th></th>\n",
       "      <th>id</th>\n",
       "    </tr>\n",
       "  </thead>\n",
       "  <tbody>\n",
       "    <tr>\n",
       "      <th>count</th>\n",
       "      <td>1560.000000</td>\n",
       "    </tr>\n",
       "    <tr>\n",
       "      <th>mean</th>\n",
       "      <td>1007.303846</td>\n",
       "    </tr>\n",
       "    <tr>\n",
       "      <th>std</th>\n",
       "      <td>579.164527</td>\n",
       "    </tr>\n",
       "    <tr>\n",
       "      <th>min</th>\n",
       "      <td>1.000000</td>\n",
       "    </tr>\n",
       "    <tr>\n",
       "      <th>25%</th>\n",
       "      <td>504.750000</td>\n",
       "    </tr>\n",
       "    <tr>\n",
       "      <th>50%</th>\n",
       "      <td>1007.500000</td>\n",
       "    </tr>\n",
       "    <tr>\n",
       "      <th>75%</th>\n",
       "      <td>1503.250000</td>\n",
       "    </tr>\n",
       "    <tr>\n",
       "      <th>max</th>\n",
       "      <td>2000.000000</td>\n",
       "    </tr>\n",
       "  </tbody>\n",
       "</table>\n",
       "</div>"
      ],
      "text/plain": [
       "                id\n",
       "count  1560.000000\n",
       "mean   1007.303846\n",
       "std     579.164527\n",
       "min       1.000000\n",
       "25%     504.750000\n",
       "50%    1007.500000\n",
       "75%    1503.250000\n",
       "max    2000.000000"
      ]
     },
     "execution_count": 20,
     "metadata": {},
     "output_type": "execute_result"
    }
   ],
   "source": [
    "# To get a glimpse of the data measures\n",
    "rt_movie_info.describe()"
   ]
  },
  {
   "cell_type": "markdown",
   "id": "50278b1c",
   "metadata": {},
   "source": [
    "# 4. Data Cleaning"
   ]
  },
  {
   "cell_type": "markdown",
   "id": "2d884e09",
   "metadata": {},
   "source": [
    "## 4.1 bom.movies_gross.csv"
   ]
  },
  {
   "cell_type": "markdown",
   "id": "e89eb0e4",
   "metadata": {},
   "source": [
    "### 4.1.1 Checking any missing data"
   ]
  },
  {
   "cell_type": "code",
   "execution_count": 21,
   "id": "7d19d0f2",
   "metadata": {},
   "outputs": [
    {
     "name": "stdout",
     "output_type": "stream",
     "text": [
      "      title  studio  domestic_gross  foreign_gross   year\n",
      "0     False   False           False          False  False\n",
      "1     False   False           False          False  False\n",
      "2     False   False           False          False  False\n",
      "3     False   False           False          False  False\n",
      "4     False   False           False          False  False\n",
      "...     ...     ...             ...            ...    ...\n",
      "3382  False   False           False           True  False\n",
      "3383  False   False           False           True  False\n",
      "3384  False   False           False           True  False\n",
      "3385  False   False           False           True  False\n",
      "3386  False   False           False           True  False\n",
      "\n",
      "[3387 rows x 5 columns]\n",
      "title                0\n",
      "studio               5\n",
      "domestic_gross      28\n",
      "foreign_gross     1350\n",
      "year                 0\n",
      "dtype: int64\n"
     ]
    }
   ],
   "source": [
    "print(bom_data.isna())\n",
    "print(bom_data.isna().sum())\n",
    "#True indicates NaN(Not a number)"
   ]
  },
  {
   "cell_type": "markdown",
   "id": "21a4299c",
   "metadata": {},
   "source": [
    "There are missing values in studio, foreign gross and domestic gross columns. To solve that, we replace the Null for Unknown the NaN value with the median"
   ]
  },
  {
   "cell_type": "code",
   "execution_count": 22,
   "id": "49921fd0",
   "metadata": {},
   "outputs": [
    {
     "data": {
      "text/plain": [
       "array([[<Axes: title={'center': 'domestic_gross'}>,\n",
       "        <Axes: title={'center': 'year'}>]], dtype=object)"
      ]
     },
     "execution_count": 22,
     "metadata": {},
     "output_type": "execute_result"
    },
    {
     "data": {
      "image/png": "[encoded data removed]",
      "text/plain": [
       "<Figure size 640x480 with 2 Axes>"
      ]
     },
     "metadata": {},
     "output_type": "display_data"
    }
   ],
   "source": [
    "bom_data.hist()"
   ]
  },
  {
   "cell_type": "code",
   "execution_count": 23,
   "id": "30b3d0a6",
   "metadata": {},
   "outputs": [],
   "source": [
    "bom_data[\"studio\"] = bom_data.studio.fillna(\"unknown\")"
   ]
  },
  {
   "cell_type": "markdown",
   "id": "cd303fac",
   "metadata": {},
   "source": [
    "Now we replace NaN with the median of the data"
   ]
  },
  {
   "cell_type": "code",
   "execution_count": 24,
   "id": "74ff9930",
   "metadata": {},
   "outputs": [],
   "source": [
    "# Remove commas from \"domestic_gross\" column\n",
    "bom_data[\"domestic_gross\"] = bom_data.domestic_gross.fillna(0)"
   ]
  },
  {
   "cell_type": "markdown",
   "id": "70fccd9a",
   "metadata": {},
   "source": [
    "We will do the same for the foreign gross"
   ]
  },
  {
   "cell_type": "code",
   "execution_count": 25,
   "id": "7de4fd16",
   "metadata": {},
   "outputs": [],
   "source": [
    "# Remove commas from \"foreign_gross\" column\n",
    "bom_data[\"foreign_gross\"] = bom_data[\"foreign_gross\"].replace(',', '')\n",
    "\n",
    "# Convert \"foreign_gross\" column to float and fill missing values with 0\n",
    "bom_data[\"foreign_gross\"] = pd.to_numeric(bom_data[\"foreign_gross\"], errors='coerce')\n",
    "bom_data[\"foreign_gross\"] = bom_data.domestic_gross.fillna(0)"
   ]
  },
  {
   "cell_type": "code",
   "execution_count": 26,
   "id": "307a2bf6",
   "metadata": {},
   "outputs": [
    {
     "name": "stdout",
     "output_type": "stream",
     "text": [
      "title             0\n",
      "studio            0\n",
      "domestic_gross    0\n",
      "foreign_gross     0\n",
      "year              0\n",
      "dtype: int64\n"
     ]
    }
   ],
   "source": [
    "#confirm there no more missing values\n",
    "print(bom_data.isna().sum())"
   ]
  },
  {
   "cell_type": "markdown",
   "id": "1047e7f6",
   "metadata": {},
   "source": [
    "### 4.1.2 Removing any duplicates"
   ]
  },
  {
   "cell_type": "code",
   "execution_count": 27,
   "id": "ba8b5117",
   "metadata": {},
   "outputs": [
    {
     "name": "stdout",
     "output_type": "stream",
     "text": [
      "The Data has no duplicates\n"
     ]
    }
   ],
   "source": [
    "def identify_duplicates(data):\n",
    "    \"\"\"Simple function to identify any duplicates\"\"\"\n",
    "    # identify the duplicates (dataframename.duplicated() , can add .sum() to get total count)\n",
    "    # empty list to store Bool results from duplicated\n",
    "    duplicates = []\n",
    "    for i in data.duplicated():\n",
    "        duplicates.append(i)\n",
    "    # identify if there is any duplicates. (If there is any we expect a True value in the list duplicates)\n",
    "    duplicates_set = set(duplicates) \n",
    "    if (len(duplicates_set) == 1):\n",
    "        print(\"The Data has no duplicates\")\n",
    "    else:\n",
    "        no_true = 0\n",
    "        for val in duplicates:\n",
    "            if (val == True):\n",
    "                no_true += 1\n",
    "        # percentage of the data represented by duplicates \n",
    "        duplicates_percentage = np.round(((no_true / len(data)) * 100), 3)\n",
    "        print(f\"The Data has {no_true} duplicated rows.\\nThis constitutes {duplicates_percentage}% of the data set.\")\n",
    "\n",
    "# Example usage with a DataFrame\n",
    "identify_duplicates(bom_data)\n"
   ]
  },
  {
   "cell_type": "markdown",
   "id": "6eb9e798",
   "metadata": {},
   "source": [
    "### 4.1.3 Removing any irrelevant data"
   ]
  },
  {
   "cell_type": "code",
   "execution_count": 28,
   "id": "7d0fdf8d",
   "metadata": {},
   "outputs": [
    {
     "data": {
      "text/html": [
       "<div>\n",
       "<style scoped>\n",
       "    .dataframe tbody tr th:only-of-type {\n",
       "        vertical-align: middle;\n",
       "    }\n",
       "\n",
       "    .dataframe tbody tr th {\n",
       "        vertical-align: top;\n",
       "    }\n",
       "\n",
       "    .dataframe thead th {\n",
       "        text-align: right;\n",
       "    }\n",
       "</style>\n",
       "<table border=\"1\" class=\"dataframe\">\n",
       "  <thead>\n",
       "    <tr style=\"text-align: right;\">\n",
       "      <th></th>\n",
       "      <th>title</th>\n",
       "      <th>studio</th>\n",
       "      <th>domestic_gross</th>\n",
       "      <th>foreign_gross</th>\n",
       "      <th>year</th>\n",
       "    </tr>\n",
       "  </thead>\n",
       "  <tbody>\n",
       "  </tbody>\n",
       "</table>\n",
       "</div>"
      ],
      "text/plain": [
       "Empty DataFrame\n",
       "Columns: [title, studio, domestic_gross, foreign_gross, year]\n",
       "Index: []"
      ]
     },
     "execution_count": 28,
     "metadata": {},
     "output_type": "execute_result"
    }
   ],
   "source": [
    "# check for any movie produced before 2010 \n",
    "bom_data[bom_data[\"year\"] < 2010]"
   ]
  },
  {
   "cell_type": "markdown",
   "id": "2f22f248",
   "metadata": {},
   "source": [
    "### 4.1.4 Arranging Messy columns"
   ]
  },
  {
   "cell_type": "code",
   "execution_count": 29,
   "id": "a9858b50",
   "metadata": {},
   "outputs": [
    {
     "data": {
      "text/plain": [
       "Index(['title', 'studio', 'domestic_gross', 'foreign_gross', 'year'], dtype='object')"
      ]
     },
     "execution_count": 29,
     "metadata": {},
     "output_type": "execute_result"
    }
   ],
   "source": [
    "bom_data.columns\n",
    "[col.strip() for col in bom_data.columns]\n",
    "bom_data.columns.str.strip()"
   ]
  },
  {
   "cell_type": "markdown",
   "id": "53fa9e85",
   "metadata": {},
   "source": [
    "### 4.1.5 Final bom_data after cleaning"
   ]
  },
  {
   "cell_type": "code",
   "execution_count": 30,
   "id": "b432284b",
   "metadata": {},
   "outputs": [
    {
     "name": "stdout",
     "output_type": "stream",
     "text": [
      "<class 'pandas.core.frame.DataFrame'>\n",
      "RangeIndex: 3387 entries, 0 to 3386\n",
      "Data columns (total 5 columns):\n",
      " #   Column          Non-Null Count  Dtype  \n",
      "---  ------          --------------  -----  \n",
      " 0   title           3387 non-null   object \n",
      " 1   studio          3387 non-null   object \n",
      " 2   domestic_gross  3387 non-null   float64\n",
      " 3   foreign_gross   3387 non-null   float64\n",
      " 4   year            3387 non-null   int64  \n",
      "dtypes: float64(2), int64(1), object(2)\n",
      "memory usage: 132.4+ KB\n"
     ]
    }
   ],
   "source": [
    "bom_data.info()"
   ]
  },
  {
   "cell_type": "code",
   "execution_count": 31,
   "id": "eaa5f560",
   "metadata": {},
   "outputs": [
    {
     "data": {
      "text/plain": [
       "array([[<Axes: title={'center': 'domestic_gross'}>,\n",
       "        <Axes: title={'center': 'foreign_gross'}>],\n",
       "       [<Axes: title={'center': 'year'}>, <Axes: >]], dtype=object)"
      ]
     },
     "execution_count": 31,
     "metadata": {},
     "output_type": "execute_result"
    },
    {
     "data": {
      "image/png": "[encoded data removed]",
      "text/plain": [
       "<Figure size 640x480 with 4 Axes>"
      ]
     },
     "metadata": {},
     "output_type": "display_data"
    }
   ],
   "source": [
    "bom_data.hist()"
   ]
  },
  {
   "cell_type": "markdown",
   "id": "e1fb185b",
   "metadata": {},
   "source": [
    "## 4.2 tn_movie_budgets.csv"
   ]
  },
  {
   "cell_type": "markdown",
   "id": "2939cfb1",
   "metadata": {},
   "source": [
    "### 4.2.1 Checking any missing data"
   ]
  },
  {
   "cell_type": "code",
   "execution_count": 32,
   "id": "f1386b01",
   "metadata": {},
   "outputs": [
    {
     "name": "stdout",
     "output_type": "stream",
     "text": [
      "         id  release_date  movie  production_budget  domestic_gross   \n",
      "0     False         False  False              False           False  \\\n",
      "1     False         False  False              False           False   \n",
      "2     False         False  False              False           False   \n",
      "3     False         False  False              False           False   \n",
      "4     False         False  False              False           False   \n",
      "...     ...           ...    ...                ...             ...   \n",
      "5777  False         False  False              False           False   \n",
      "5778  False         False  False              False           False   \n",
      "5779  False         False  False              False           False   \n",
      "5780  False         False  False              False           False   \n",
      "5781  False         False  False              False           False   \n",
      "\n",
      "      worldwide_gross  \n",
      "0               False  \n",
      "1               False  \n",
      "2               False  \n",
      "3               False  \n",
      "4               False  \n",
      "...               ...  \n",
      "5777            False  \n",
      "5778            False  \n",
      "5779            False  \n",
      "5780            False  \n",
      "5781            False  \n",
      "\n",
      "[5782 rows x 6 columns]\n",
      "id                   0\n",
      "release_date         0\n",
      "movie                0\n",
      "production_budget    0\n",
      "domestic_gross       0\n",
      "worldwide_gross      0\n",
      "dtype: int64\n"
     ]
    }
   ],
   "source": [
    "print(tn_movie_budgets.isna())\n",
    "print(tn_movie_budgets.isna().sum())"
   ]
  },
  {
   "cell_type": "code",
   "execution_count": 33,
   "id": "09377256",
   "metadata": {},
   "outputs": [
    {
     "name": "stdout",
     "output_type": "stream",
     "text": [
      "The Data has no missing values\n"
     ]
    }
   ],
   "source": [
    "# identify missing \n",
    "def identify_missing_values(data):\n",
    "    \"\"\"Identify is the data has missing values\"\"\"\n",
    "    # identify if data has missing values(data.isnull().any())\n",
    "    # empty dict to store missing values\n",
    "    missing = []\n",
    "    for i in data.isnull().any():\n",
    "        # add the bool values to empty list \n",
    "        missing.append(i)\n",
    "    # covert list to set (if data has missing value, the list should have true and false)\n",
    "    missing_set = set(missing)\n",
    "    if (len(missing_set) == 1):\n",
    "        out = print(\"The Data has no missing values\")\n",
    "    else:\n",
    "        out = print(\"The Data has missing values.\")\n",
    "\n",
    "    return out\n",
    "\n",
    "\n",
    "identify_missing_values(tn_movie_budgets)"
   ]
  },
  {
   "cell_type": "markdown",
   "id": "a90fc29a",
   "metadata": {},
   "source": [
    "### 4.2.2 Removing any duplicates"
   ]
  },
  {
   "cell_type": "markdown",
   "id": "680c0aa2",
   "metadata": {},
   "source": [
    "First thing first, we check for any duplicated data in the id section. IDs should be unique to everyone"
   ]
  },
  {
   "cell_type": "code",
   "execution_count": 34,
   "id": "987f97d1",
   "metadata": {},
   "outputs": [
    {
     "name": "stdout",
     "output_type": "stream",
     "text": [
      "The Data has no duplicates\n"
     ]
    }
   ],
   "source": [
    "def identify_duplicates(data):\n",
    "    # identify the duplicates (dataframename.duplicated() , can add .sum() to get total count)\n",
    "    # empty list to store Bool results from duplicated\n",
    "    duplicates = []\n",
    "    for i in data.duplicated():\n",
    "        duplicates.append(i)\n",
    "    duplicates_set = set(duplicates) \n",
    "    if (len(duplicates_set) == 1):\n",
    "        print(\"The Data has no duplicates\")\n",
    "    else:\n",
    "        no_true = 0\n",
    "        for val in duplicates:\n",
    "            if (val == True):\n",
    "                no_true += 1\n",
    "\n",
    "        duplicates_percentage = np.round(((no_true / len(data)) * 100), 3)\n",
    "        print(f\"The Data has {no_true} duplicated rows.\\nThis constitutes {duplicates_percentage}% of the data set.\") \n",
    "\n",
    "\n",
    "identify_duplicates(tn_movie_budgets)"
   ]
  },
  {
   "cell_type": "markdown",
   "id": "5a9c8bd0",
   "metadata": {},
   "source": [
    "Now that we have spotted duplicated rows, let's drop them"
   ]
  },
  {
   "cell_type": "markdown",
   "id": "9e3a5880",
   "metadata": {},
   "source": [
    "### 4.2.3 Removing any irrelevant columns"
   ]
  },
  {
   "cell_type": "code",
   "execution_count": 35,
   "id": "37537a64",
   "metadata": {},
   "outputs": [
    {
     "data": {
      "text/plain": [
       "<Axes: xlabel='release_date'>"
      ]
     },
     "execution_count": 35,
     "metadata": {},
     "output_type": "execute_result"
    },
    {
     "data": {
      "image/png": "[encoded data removed]",
      "text/plain": [
       "<Figure size 640x480 with 1 Axes>"
      ]
     },
     "metadata": {},
     "output_type": "display_data"
    }
   ],
   "source": [
    "# Checking how the data looks with outliers (in this case movies produced before 2000)\n",
    "# Convert the release year to pd datetime\n",
    "tn_movie_budgets[\"release_date\"] = pd.to_datetime(tn_movie_budgets[\"release_date\"])\n",
    "\n",
    "# Extract the year from the release date\n",
    "tn_movie_budgets[\"release_date\"] = tn_movie_budgets[\"release_date\"].dt.year\n",
    "\n",
    "#plot\n",
    "sns.boxplot(data = tn_movie_budgets, x =  \"release_date\")"
   ]
  },
  {
   "cell_type": "code",
   "execution_count": 36,
   "id": "993cc14c",
   "metadata": {},
   "outputs": [],
   "source": [
    "#dropping off\n",
    "tn_movie_budgets = tn_movie_budgets[tn_movie_budgets[\"release_date\"] > 2010]"
   ]
  },
  {
   "cell_type": "code",
   "execution_count": 37,
   "id": "20d6a598",
   "metadata": {},
   "outputs": [],
   "source": [
    "# Clean the production_budget column\n",
    "tn_movie_budgets[\"production_budget\"] = tn_movie_budgets[\"production_budget\"].str.replace(\"$\", \"\").str.replace(\",\", \"\")\n",
    "tn_movie_budgets[\"production_budget\"] = pd.to_numeric(tn_movie_budgets[\"production_budget\"], errors=\"coerce\")\n",
    "\n",
    "# Clean the domestic_gross column\n",
    "tn_movie_budgets[\"domestic_gross\"] = tn_movie_budgets[\"domestic_gross\"].str.replace(\"$\", \"\").str.replace(\",\", \"\")\n",
    "tn_movie_budgets[\"domestic_gross\"] = pd.to_numeric(tn_movie_budgets[\"domestic_gross\"], errors=\"coerce\")\n",
    "\n",
    "# Clean the worldwide_gross column\n",
    "tn_movie_budgets[\"worldwide_gross\"] = tn_movie_budgets[\"worldwide_gross\"].str.replace(\"$\", \"\").str.replace(\",\", \"\")\n",
    "tn_movie_budgets[\"worldwide_gross\"] = pd.to_numeric(tn_movie_budgets[\"worldwide_gross\"], errors=\"coerce\")\n",
    "\n",
    "# Remove rows with NaN or infinite values\n",
    "tn_movie_budgets = tn_movie_budgets.replace([np.inf, -np.inf], np.nan)\n",
    "tn_movie_budgets = tn_movie_budgets.dropna(subset=[\"domestic_gross\", \"worldwide_gross\"])"
   ]
  },
  {
   "cell_type": "code",
   "execution_count": 38,
   "id": "55e85a60",
   "metadata": {},
   "outputs": [
    {
     "data": {
      "text/plain": [
       "<Axes: xlabel='release_date'>"
      ]
     },
     "execution_count": 38,
     "metadata": {},
     "output_type": "execute_result"
    },
    {
     "data": {
      "image/png": "[encoded data removed]",
      "text/plain": [
       "<Figure size 640x480 with 1 Axes>"
      ]
     },
     "metadata": {},
     "output_type": "display_data"
    }
   ],
   "source": [
    "#checking to see how the data now looks like after removing the years prior to 2000\n",
    "sns.boxplot(data = tn_movie_budgets, x = \"release_date\")"
   ]
  },
  {
   "cell_type": "code",
   "execution_count": 39,
   "id": "a03847be",
   "metadata": {},
   "outputs": [
    {
     "name": "stdout",
     "output_type": "stream",
     "text": [
      "[2011 2019 2015 2017 2018 2012 2013 2016 2014 2020]\n"
     ]
    }
   ],
   "source": [
    "unique_dates = tn_movie_budgets[\"release_date\"].unique()\n",
    "print(unique_dates)"
   ]
  },
  {
   "cell_type": "markdown",
   "id": "1f4f8b8a",
   "metadata": {},
   "source": [
    "tn_movie_budgets has no irrelevant data. However"
   ]
  },
  {
   "cell_type": "markdown",
   "id": "d5214f36",
   "metadata": {},
   "source": [
    "### 4.2.4 Arranging messy data"
   ]
  },
  {
   "cell_type": "code",
   "execution_count": 40,
   "id": "75c7f96d",
   "metadata": {},
   "outputs": [
    {
     "data": {
      "text/plain": [
       "Index(['id', 'release_date', 'movie', 'production_budget', 'domestic_gross',\n",
       "       'worldwide_gross'],\n",
       "      dtype='object')"
      ]
     },
     "execution_count": 40,
     "metadata": {},
     "output_type": "execute_result"
    }
   ],
   "source": [
    "tn_movie_budgets.columns\n",
    "[col.strip() for col in tn_movie_budgets.columns]\n",
    "tn_movie_budgets.columns.str.strip()"
   ]
  },
  {
   "cell_type": "markdown",
   "id": "8ae28f1d",
   "metadata": {},
   "source": [
    "## 4.3 rt.reviews.tsv"
   ]
  },
  {
   "cell_type": "markdown",
   "id": "debf8dbd",
   "metadata": {},
   "source": [
    "### 4.3.1 Checking any missing data"
   ]
  },
  {
   "cell_type": "code",
   "execution_count": 41,
   "id": "1c70f4f8",
   "metadata": {},
   "outputs": [
    {
     "data": {
      "text/plain": [
       "id                 0\n",
       "synopsis          62\n",
       "rating             3\n",
       "genre              8\n",
       "director         199\n",
       "writer           449\n",
       "theater_date     359\n",
       "dvd_date         359\n",
       "currency        1220\n",
       "box_office      1220\n",
       "runtime           30\n",
       "studio          1066\n",
       "dtype: int64"
      ]
     },
     "execution_count": 41,
     "metadata": {},
     "output_type": "execute_result"
    }
   ],
   "source": [
    "rt_movie_info.isna()\n",
    "rt_movie_info.isna().sum()"
   ]
  },
  {
   "cell_type": "code",
   "execution_count": 42,
   "id": "cd93ccd1",
   "metadata": {},
   "outputs": [
    {
     "data": {
      "image/png": "[encoded data removed]",
      "text/plain": [
       "<Figure size 1000x1000 with 1 Axes>"
      ]
     },
     "metadata": {},
     "output_type": "display_data"
    }
   ],
   "source": [
    "# below is the output of a kernel density plot of box office before cleaning the data\n",
    "plt.figure(figsize=(10, 10))\n",
    "sns.kdeplot(pd.to_numeric(rt_movie_info[\"box_office\"], errors='coerce'))\n",
    "plt.xlabel(\"box Office\")\n",
    "plt.ylabel(\"density\")\n",
    "plt.title(\"density plot of rt_movie_info 'box_office' values\")\n",
    "plt.show()"
   ]
  },
  {
   "cell_type": "code",
   "execution_count": 43,
   "id": "c667d882",
   "metadata": {},
   "outputs": [],
   "source": [
    "#replacing missing values in synopsis with unknown\n",
    "rt_movie_info[\"synopsis\"] = rt_movie_info.synopsis.fillna(\"unknown\")\n",
    "\n",
    "#replacing missing values in rating with R\n",
    "# rt_movie_info[\"rating\"] = rt_movie_info.rating.fillna(\"R\")\n",
    "\n",
    "# replacing missing values in genre with the term Drama\n",
    "rt_movie_info[\"genre\"] = rt_movie_info.genre.fillna(\"Drama\")\n",
    "\n",
    "#replacing the missing values in director column with the data in writer column\n",
    "rt_movie_info[\"director\"] = rt_movie_info[\"director\"].fillna(rt_movie_info[\"writer\"])\n",
    "\n",
    "#replacing the missing values in writer column with the data in the director column\n",
    "rt_movie_info[\"writer\"] = rt_movie_info[\"writer\"].fillna(rt_movie_info[\"director\"])\n",
    "\n",
    "# #replacing missing values in box_office with median\n",
    "rt_movie_info[\"box_office\"] = rt_movie_info[\"box_office\"].str.replace(\",\",\"\")\n",
    "rt_movie_info[\"box_office\"] = rt_movie_info[\"box_office\"].fillna(rt_movie_info[\"box_office\"].median())\n",
    "\n",
    "# replace missing values in runtime with 120 minutes\n",
    "rt_movie_info[\"runtime\"] = rt_movie_info.runtime.fillna(\"120 minutes\")\n",
    "\n",
    "#replace missing values in studio\n",
    "rt_movie_info[\"studio\"] = rt_movie_info.studio.fillna(\"Entertainment one\")"
   ]
  },
  {
   "cell_type": "markdown",
   "id": "36b167ae",
   "metadata": {},
   "source": [
    "Let's check if there any more missing values"
   ]
  },
  {
   "cell_type": "code",
   "execution_count": 44,
   "id": "90517728",
   "metadata": {},
   "outputs": [
    {
     "name": "stdout",
     "output_type": "stream",
     "text": [
      "id                 0\n",
      "synopsis           0\n",
      "rating             3\n",
      "genre              0\n",
      "director         131\n",
      "writer           131\n",
      "theater_date     359\n",
      "dvd_date         359\n",
      "currency        1220\n",
      "box_office         0\n",
      "runtime            0\n",
      "studio             0\n",
      "dtype: int64\n"
     ]
    }
   ],
   "source": [
    "print(rt_movie_info.isna().sum())"
   ]
  },
  {
   "cell_type": "markdown",
   "id": "7e3e32bc",
   "metadata": {},
   "source": [
    "Since there are missing vlues, we have to continue cleaning"
   ]
  },
  {
   "cell_type": "code",
   "execution_count": 45,
   "id": "32f7ad9c",
   "metadata": {},
   "outputs": [],
   "source": [
    "#replacing missing values in director with unknown\n",
    "rt_movie_info[\"director\"] = rt_movie_info.writer.fillna(\"unknown\")\n",
    "\n",
    "#replacing missing values in writer with unknown\n",
    "rt_movie_info[\"writer\"] = rt_movie_info.writer.fillna(\"unknown\")\n"
   ]
  },
  {
   "cell_type": "code",
   "execution_count": 46,
   "id": "de2b7316",
   "metadata": {},
   "outputs": [
    {
     "name": "stdout",
     "output_type": "stream",
     "text": [
      "id                 0\n",
      "synopsis           0\n",
      "rating             3\n",
      "genre              0\n",
      "director           0\n",
      "writer             0\n",
      "theater_date     359\n",
      "dvd_date         359\n",
      "currency        1220\n",
      "box_office         0\n",
      "runtime            0\n",
      "studio             0\n",
      "dtype: int64\n"
     ]
    }
   ],
   "source": [
    "print(rt_movie_info.isna().sum())"
   ]
  },
  {
   "cell_type": "markdown",
   "id": "0e4b7309",
   "metadata": {},
   "source": [
    "All good to go! No missing data"
   ]
  },
  {
   "cell_type": "markdown",
   "id": "6a3ea477",
   "metadata": {},
   "source": [
    "### 4.3.2 Removing any duplicates"
   ]
  },
  {
   "cell_type": "code",
   "execution_count": 47,
   "id": "695fe09b",
   "metadata": {},
   "outputs": [
    {
     "name": "stdout",
     "output_type": "stream",
     "text": [
      "The Data has no duplicates\n"
     ]
    }
   ],
   "source": [
    "def identify_duplicates(rt_movie_info):\n",
    "    # identify the duplicates (dataframename.duplicated() , can add .sum() to get total count)\n",
    "    # empty list to store Bool results from duplicated\n",
    "    duplicates = []\n",
    "    for i in rt_movie_info.duplicated():\n",
    "        duplicates.append(i)\n",
    "    duplicates_set = set(duplicates) \n",
    "    if (len(duplicates_set) == 1):\n",
    "        print(\"The Data has no duplicates\")\n",
    "    else:\n",
    "        no_true = 0\n",
    "        for val in duplicates:\n",
    "            if (val == True):\n",
    "                no_true += 1\n",
    "\n",
    "        duplicates_percentage = np.round(((no_true / len(data)) * 100), 3)\n",
    "        print(f\"The Data has {no_true} duplicated rows.\\nThis constitutes {duplicates_percentage}% of the data set.\") \n",
    "\n",
    "\n",
    "identify_duplicates(rt_movie_info)"
   ]
  },
  {
   "cell_type": "markdown",
   "id": "03beaeb9",
   "metadata": {},
   "source": [
    "### 4.3.3 Arranging messy columns"
   ]
  },
  {
   "cell_type": "code",
   "execution_count": 48,
   "id": "8ff09992",
   "metadata": {},
   "outputs": [
    {
     "data": {
      "text/plain": [
       "Index(['id', 'synopsis', 'rating', 'genre', 'director', 'writer',\n",
       "       'theater_date', 'dvd_date', 'currency', 'box_office', 'runtime',\n",
       "       'studio'],\n",
       "      dtype='object')"
      ]
     },
     "execution_count": 48,
     "metadata": {},
     "output_type": "execute_result"
    }
   ],
   "source": [
    "rt_movie_info.columns\n",
    "[col.strip() for col in rt_movie_info.columns]\n",
    "rt_movie_info.columns.str.strip()"
   ]
  },
  {
   "cell_type": "code",
   "execution_count": 49,
   "id": "91f61be2",
   "metadata": {},
   "outputs": [
    {
     "data": {
      "image/png": "[encoded data removed]",
      "text/plain": [
       "<Figure size 1000x1000 with 1 Axes>"
      ]
     },
     "metadata": {},
     "output_type": "display_data"
    }
   ],
   "source": [
    "plt.figure(figsize=(10, 10))\n",
    "sns.kdeplot(pd.to_numeric(rt_movie_info[\"box_office\"], errors='coerce'))\n",
    "plt.xlabel(\"box Office\")\n",
    "plt.ylabel(\"density\")\n",
    "plt.title(\"density plot of rt_movie_info 'box_office' values\")\n",
    "plt.show()"
   ]
  },
  {
   "cell_type": "markdown",
   "id": "6b4b3447",
   "metadata": {},
   "source": [
    "The bar graphs before and after cleaning are similar because there is very minimal change in rt movie info. No duplicates, no irrelevant data and the missing data was all but filled"
   ]
  },
  {
   "cell_type": "markdown",
   "id": "b1c01a8e",
   "metadata": {},
   "source": [
    "### 4.3.4 Dropping off columns"
   ]
  },
  {
   "cell_type": "code",
   "execution_count": 50,
   "id": "423d218a",
   "metadata": {},
   "outputs": [],
   "source": [
    "# drop the column dvd_date since it's no longer necessary in today's data\n",
    "rt_movie_info = rt_movie_info.drop(\"dvd_date\", axis = 1)\n",
    "\n",
    "# drop the column currency since it's only a dollar sign\n",
    "rt_movie_info = rt_movie_info.drop(\"currency\", axis = 1)\n",
    "\n",
    "# drop the column theater date since it's no longer necessary in today's data\n",
    "rt_movie_info = rt_movie_info.drop(\"theater_date\", axis = 1)\n",
    "\n",
    "# drop the column theater date since we have directors column. Though not same, they seem to have no big significance diffeence\n",
    "rt_movie_info = rt_movie_info.drop(\"writer\", axis = 1)"
   ]
  },
  {
   "cell_type": "markdown",
   "id": "73a3d6db",
   "metadata": {},
   "source": [
    "## Final data"
   ]
  },
  {
   "cell_type": "markdown",
   "id": "f4ba3904",
   "metadata": {},
   "source": [
    "Bom_data"
   ]
  },
  {
   "cell_type": "code",
   "execution_count": 51,
   "id": "f73a7df0",
   "metadata": {},
   "outputs": [
    {
     "data": {
      "text/html": [
       "<div>\n",
       "<style scoped>\n",
       "    .dataframe tbody tr th:only-of-type {\n",
       "        vertical-align: middle;\n",
       "    }\n",
       "\n",
       "    .dataframe tbody tr th {\n",
       "        vertical-align: top;\n",
       "    }\n",
       "\n",
       "    .dataframe thead th {\n",
       "        text-align: right;\n",
       "    }\n",
       "</style>\n",
       "<table border=\"1\" class=\"dataframe\">\n",
       "  <thead>\n",
       "    <tr style=\"text-align: right;\">\n",
       "      <th></th>\n",
       "      <th>title</th>\n",
       "      <th>studio</th>\n",
       "      <th>domestic_gross</th>\n",
       "      <th>foreign_gross</th>\n",
       "      <th>year</th>\n",
       "    </tr>\n",
       "  </thead>\n",
       "  <tbody>\n",
       "    <tr>\n",
       "      <th>0</th>\n",
       "      <td>Toy Story 3</td>\n",
       "      <td>BV</td>\n",
       "      <td>415000000.0</td>\n",
       "      <td>415000000.0</td>\n",
       "      <td>2010</td>\n",
       "    </tr>\n",
       "    <tr>\n",
       "      <th>1</th>\n",
       "      <td>Alice in Wonderland (2010)</td>\n",
       "      <td>BV</td>\n",
       "      <td>334200000.0</td>\n",
       "      <td>334200000.0</td>\n",
       "      <td>2010</td>\n",
       "    </tr>\n",
       "    <tr>\n",
       "      <th>2</th>\n",
       "      <td>Harry Potter and the Deathly Hallows Part 1</td>\n",
       "      <td>WB</td>\n",
       "      <td>296000000.0</td>\n",
       "      <td>296000000.0</td>\n",
       "      <td>2010</td>\n",
       "    </tr>\n",
       "    <tr>\n",
       "      <th>3</th>\n",
       "      <td>Inception</td>\n",
       "      <td>WB</td>\n",
       "      <td>292600000.0</td>\n",
       "      <td>292600000.0</td>\n",
       "      <td>2010</td>\n",
       "    </tr>\n",
       "    <tr>\n",
       "      <th>4</th>\n",
       "      <td>Shrek Forever After</td>\n",
       "      <td>P/DW</td>\n",
       "      <td>238700000.0</td>\n",
       "      <td>238700000.0</td>\n",
       "      <td>2010</td>\n",
       "    </tr>\n",
       "    <tr>\n",
       "      <th>...</th>\n",
       "      <td>...</td>\n",
       "      <td>...</td>\n",
       "      <td>...</td>\n",
       "      <td>...</td>\n",
       "      <td>...</td>\n",
       "    </tr>\n",
       "    <tr>\n",
       "      <th>3382</th>\n",
       "      <td>The Quake</td>\n",
       "      <td>Magn.</td>\n",
       "      <td>6200.0</td>\n",
       "      <td>6200.0</td>\n",
       "      <td>2018</td>\n",
       "    </tr>\n",
       "    <tr>\n",
       "      <th>3383</th>\n",
       "      <td>Edward II (2018 re-release)</td>\n",
       "      <td>FM</td>\n",
       "      <td>4800.0</td>\n",
       "      <td>4800.0</td>\n",
       "      <td>2018</td>\n",
       "    </tr>\n",
       "    <tr>\n",
       "      <th>3384</th>\n",
       "      <td>El Pacto</td>\n",
       "      <td>Sony</td>\n",
       "      <td>2500.0</td>\n",
       "      <td>2500.0</td>\n",
       "      <td>2018</td>\n",
       "    </tr>\n",
       "    <tr>\n",
       "      <th>3385</th>\n",
       "      <td>The Swan</td>\n",
       "      <td>Synergetic</td>\n",
       "      <td>2400.0</td>\n",
       "      <td>2400.0</td>\n",
       "      <td>2018</td>\n",
       "    </tr>\n",
       "    <tr>\n",
       "      <th>3386</th>\n",
       "      <td>An Actor Prepares</td>\n",
       "      <td>Grav.</td>\n",
       "      <td>1700.0</td>\n",
       "      <td>1700.0</td>\n",
       "      <td>2018</td>\n",
       "    </tr>\n",
       "  </tbody>\n",
       "</table>\n",
       "<p>3387 rows × 5 columns</p>\n",
       "</div>"
      ],
      "text/plain": [
       "                                            title      studio  domestic_gross   \n",
       "0                                     Toy Story 3          BV     415000000.0  \\\n",
       "1                      Alice in Wonderland (2010)          BV     334200000.0   \n",
       "2     Harry Potter and the Deathly Hallows Part 1          WB     296000000.0   \n",
       "3                                       Inception          WB     292600000.0   \n",
       "4                             Shrek Forever After        P/DW     238700000.0   \n",
       "...                                           ...         ...             ...   \n",
       "3382                                    The Quake       Magn.          6200.0   \n",
       "3383                  Edward II (2018 re-release)          FM          4800.0   \n",
       "3384                                     El Pacto        Sony          2500.0   \n",
       "3385                                     The Swan  Synergetic          2400.0   \n",
       "3386                            An Actor Prepares       Grav.          1700.0   \n",
       "\n",
       "      foreign_gross  year  \n",
       "0       415000000.0  2010  \n",
       "1       334200000.0  2010  \n",
       "2       296000000.0  2010  \n",
       "3       292600000.0  2010  \n",
       "4       238700000.0  2010  \n",
       "...             ...   ...  \n",
       "3382         6200.0  2018  \n",
       "3383         4800.0  2018  \n",
       "3384         2500.0  2018  \n",
       "3385         2400.0  2018  \n",
       "3386         1700.0  2018  \n",
       "\n",
       "[3387 rows x 5 columns]"
      ]
     },
     "execution_count": 51,
     "metadata": {},
     "output_type": "execute_result"
    }
   ],
   "source": [
    "bom_data"
   ]
  },
  {
   "cell_type": "markdown",
   "id": "8f8d0f71",
   "metadata": {},
   "source": [
    "Tn_movie_budgets"
   ]
  },
  {
   "cell_type": "code",
   "execution_count": 52,
   "id": "8f3d642a",
   "metadata": {},
   "outputs": [
    {
     "data": {
      "text/html": [
       "<div>\n",
       "<style scoped>\n",
       "    .dataframe tbody tr th:only-of-type {\n",
       "        vertical-align: middle;\n",
       "    }\n",
       "\n",
       "    .dataframe tbody tr th {\n",
       "        vertical-align: top;\n",
       "    }\n",
       "\n",
       "    .dataframe thead th {\n",
       "        text-align: right;\n",
       "    }\n",
       "</style>\n",
       "<table border=\"1\" class=\"dataframe\">\n",
       "  <thead>\n",
       "    <tr style=\"text-align: right;\">\n",
       "      <th></th>\n",
       "      <th>id</th>\n",
       "      <th>release_date</th>\n",
       "      <th>movie</th>\n",
       "      <th>production_budget</th>\n",
       "      <th>domestic_gross</th>\n",
       "      <th>worldwide_gross</th>\n",
       "    </tr>\n",
       "  </thead>\n",
       "  <tbody>\n",
       "    <tr>\n",
       "      <th>1</th>\n",
       "      <td>2</td>\n",
       "      <td>2011</td>\n",
       "      <td>Pirates of the Caribbean: On Stranger Tides</td>\n",
       "      <td>410600000</td>\n",
       "      <td>241063875</td>\n",
       "      <td>1045663875</td>\n",
       "    </tr>\n",
       "    <tr>\n",
       "      <th>2</th>\n",
       "      <td>3</td>\n",
       "      <td>2019</td>\n",
       "      <td>Dark Phoenix</td>\n",
       "      <td>350000000</td>\n",
       "      <td>42762350</td>\n",
       "      <td>149762350</td>\n",
       "    </tr>\n",
       "    <tr>\n",
       "      <th>3</th>\n",
       "      <td>4</td>\n",
       "      <td>2015</td>\n",
       "      <td>Avengers: Age of Ultron</td>\n",
       "      <td>330600000</td>\n",
       "      <td>459005868</td>\n",
       "      <td>1403013963</td>\n",
       "    </tr>\n",
       "    <tr>\n",
       "      <th>4</th>\n",
       "      <td>5</td>\n",
       "      <td>2017</td>\n",
       "      <td>Star Wars Ep. VIII: The Last Jedi</td>\n",
       "      <td>317000000</td>\n",
       "      <td>620181382</td>\n",
       "      <td>1316721747</td>\n",
       "    </tr>\n",
       "    <tr>\n",
       "      <th>5</th>\n",
       "      <td>6</td>\n",
       "      <td>2015</td>\n",
       "      <td>Star Wars Ep. VII: The Force Awakens</td>\n",
       "      <td>306000000</td>\n",
       "      <td>936662225</td>\n",
       "      <td>2053311220</td>\n",
       "    </tr>\n",
       "    <tr>\n",
       "      <th>...</th>\n",
       "      <td>...</td>\n",
       "      <td>...</td>\n",
       "      <td>...</td>\n",
       "      <td>...</td>\n",
       "      <td>...</td>\n",
       "      <td>...</td>\n",
       "    </tr>\n",
       "    <tr>\n",
       "      <th>5761</th>\n",
       "      <td>62</td>\n",
       "      <td>2014</td>\n",
       "      <td>Stories of Our Lives</td>\n",
       "      <td>15000</td>\n",
       "      <td>0</td>\n",
       "      <td>0</td>\n",
       "    </tr>\n",
       "    <tr>\n",
       "      <th>5771</th>\n",
       "      <td>72</td>\n",
       "      <td>2015</td>\n",
       "      <td>Family Motocross</td>\n",
       "      <td>10000</td>\n",
       "      <td>0</td>\n",
       "      <td>0</td>\n",
       "    </tr>\n",
       "    <tr>\n",
       "      <th>5772</th>\n",
       "      <td>73</td>\n",
       "      <td>2012</td>\n",
       "      <td>Newlyweds</td>\n",
       "      <td>9000</td>\n",
       "      <td>4584</td>\n",
       "      <td>4584</td>\n",
       "    </tr>\n",
       "    <tr>\n",
       "      <th>5777</th>\n",
       "      <td>78</td>\n",
       "      <td>2018</td>\n",
       "      <td>Red 11</td>\n",
       "      <td>7000</td>\n",
       "      <td>0</td>\n",
       "      <td>0</td>\n",
       "    </tr>\n",
       "    <tr>\n",
       "      <th>5780</th>\n",
       "      <td>81</td>\n",
       "      <td>2015</td>\n",
       "      <td>A Plague So Pleasant</td>\n",
       "      <td>1400</td>\n",
       "      <td>0</td>\n",
       "      <td>0</td>\n",
       "    </tr>\n",
       "  </tbody>\n",
       "</table>\n",
       "<p>1920 rows × 6 columns</p>\n",
       "</div>"
      ],
      "text/plain": [
       "      id  release_date                                        movie   \n",
       "1      2          2011  Pirates of the Caribbean: On Stranger Tides  \\\n",
       "2      3          2019                                 Dark Phoenix   \n",
       "3      4          2015                      Avengers: Age of Ultron   \n",
       "4      5          2017            Star Wars Ep. VIII: The Last Jedi   \n",
       "5      6          2015         Star Wars Ep. VII: The Force Awakens   \n",
       "...   ..           ...                                          ...   \n",
       "5761  62          2014                         Stories of Our Lives   \n",
       "5771  72          2015                             Family Motocross   \n",
       "5772  73          2012                                    Newlyweds   \n",
       "5777  78          2018                                       Red 11   \n",
       "5780  81          2015                         A Plague So Pleasant   \n",
       "\n",
       "      production_budget  domestic_gross  worldwide_gross  \n",
       "1             410600000       241063875       1045663875  \n",
       "2             350000000        42762350        149762350  \n",
       "3             330600000       459005868       1403013963  \n",
       "4             317000000       620181382       1316721747  \n",
       "5             306000000       936662225       2053311220  \n",
       "...                 ...             ...              ...  \n",
       "5761              15000               0                0  \n",
       "5771              10000               0                0  \n",
       "5772               9000            4584             4584  \n",
       "5777               7000               0                0  \n",
       "5780               1400               0                0  \n",
       "\n",
       "[1920 rows x 6 columns]"
      ]
     },
     "execution_count": 52,
     "metadata": {},
     "output_type": "execute_result"
    }
   ],
   "source": [
    "tn_movie_budgets"
   ]
  },
  {
   "cell_type": "code",
   "execution_count": 53,
   "id": "9786024f",
   "metadata": {},
   "outputs": [
    {
     "data": {
      "text/html": [
       "<div>\n",
       "<style scoped>\n",
       "    .dataframe tbody tr th:only-of-type {\n",
       "        vertical-align: middle;\n",
       "    }\n",
       "\n",
       "    .dataframe tbody tr th {\n",
       "        vertical-align: top;\n",
       "    }\n",
       "\n",
       "    .dataframe thead th {\n",
       "        text-align: right;\n",
       "    }\n",
       "</style>\n",
       "<table border=\"1\" class=\"dataframe\">\n",
       "  <thead>\n",
       "    <tr style=\"text-align: right;\">\n",
       "      <th></th>\n",
       "      <th>id</th>\n",
       "      <th>synopsis</th>\n",
       "      <th>rating</th>\n",
       "      <th>genre</th>\n",
       "      <th>director</th>\n",
       "      <th>box_office</th>\n",
       "      <th>runtime</th>\n",
       "      <th>studio</th>\n",
       "    </tr>\n",
       "  </thead>\n",
       "  <tbody>\n",
       "    <tr>\n",
       "      <th>0</th>\n",
       "      <td>1</td>\n",
       "      <td>This gritty, fast-paced, and innovative police...</td>\n",
       "      <td>R</td>\n",
       "      <td>Action and Adventure|Classics|Drama</td>\n",
       "      <td>Ernest Tidyman</td>\n",
       "      <td>14141054.5</td>\n",
       "      <td>104 minutes</td>\n",
       "      <td>Entertainment one</td>\n",
       "    </tr>\n",
       "    <tr>\n",
       "      <th>1</th>\n",
       "      <td>3</td>\n",
       "      <td>New York City, not-too-distant-future: Eric Pa...</td>\n",
       "      <td>R</td>\n",
       "      <td>Drama|Science Fiction and Fantasy</td>\n",
       "      <td>David Cronenberg|Don DeLillo</td>\n",
       "      <td>600000</td>\n",
       "      <td>108 minutes</td>\n",
       "      <td>Entertainment One</td>\n",
       "    </tr>\n",
       "    <tr>\n",
       "      <th>2</th>\n",
       "      <td>5</td>\n",
       "      <td>Illeana Douglas delivers a superb performance ...</td>\n",
       "      <td>R</td>\n",
       "      <td>Drama|Musical and Performing Arts</td>\n",
       "      <td>Allison Anders</td>\n",
       "      <td>14141054.5</td>\n",
       "      <td>116 minutes</td>\n",
       "      <td>Entertainment one</td>\n",
       "    </tr>\n",
       "    <tr>\n",
       "      <th>3</th>\n",
       "      <td>6</td>\n",
       "      <td>Michael Douglas runs afoul of a treacherous su...</td>\n",
       "      <td>R</td>\n",
       "      <td>Drama|Mystery and Suspense</td>\n",
       "      <td>Paul Attanasio|Michael Crichton</td>\n",
       "      <td>14141054.5</td>\n",
       "      <td>128 minutes</td>\n",
       "      <td>Entertainment one</td>\n",
       "    </tr>\n",
       "    <tr>\n",
       "      <th>4</th>\n",
       "      <td>7</td>\n",
       "      <td>unknown</td>\n",
       "      <td>NR</td>\n",
       "      <td>Drama|Romance</td>\n",
       "      <td>Giles Cooper</td>\n",
       "      <td>14141054.5</td>\n",
       "      <td>200 minutes</td>\n",
       "      <td>Entertainment one</td>\n",
       "    </tr>\n",
       "    <tr>\n",
       "      <th>...</th>\n",
       "      <td>...</td>\n",
       "      <td>...</td>\n",
       "      <td>...</td>\n",
       "      <td>...</td>\n",
       "      <td>...</td>\n",
       "      <td>...</td>\n",
       "      <td>...</td>\n",
       "      <td>...</td>\n",
       "    </tr>\n",
       "    <tr>\n",
       "      <th>1555</th>\n",
       "      <td>1996</td>\n",
       "      <td>Forget terrorists or hijackers -- there's a ha...</td>\n",
       "      <td>R</td>\n",
       "      <td>Action and Adventure|Horror|Mystery and Suspense</td>\n",
       "      <td>unknown</td>\n",
       "      <td>33886034</td>\n",
       "      <td>106 minutes</td>\n",
       "      <td>New Line Cinema</td>\n",
       "    </tr>\n",
       "    <tr>\n",
       "      <th>1556</th>\n",
       "      <td>1997</td>\n",
       "      <td>The popular Saturday Night Live sketch was exp...</td>\n",
       "      <td>PG</td>\n",
       "      <td>Comedy|Science Fiction and Fantasy</td>\n",
       "      <td>Terry Turner|Tom Davis|Dan Aykroyd|Bonnie Turner</td>\n",
       "      <td>14141054.5</td>\n",
       "      <td>88 minutes</td>\n",
       "      <td>Paramount Vantage</td>\n",
       "    </tr>\n",
       "    <tr>\n",
       "      <th>1557</th>\n",
       "      <td>1998</td>\n",
       "      <td>Based on a novel by Richard Powell, when the l...</td>\n",
       "      <td>G</td>\n",
       "      <td>Classics|Comedy|Drama|Musical and Performing Arts</td>\n",
       "      <td>Gordon Douglas</td>\n",
       "      <td>14141054.5</td>\n",
       "      <td>111 minutes</td>\n",
       "      <td>Entertainment one</td>\n",
       "    </tr>\n",
       "    <tr>\n",
       "      <th>1558</th>\n",
       "      <td>1999</td>\n",
       "      <td>The Sandlot is a coming-of-age story about a g...</td>\n",
       "      <td>PG</td>\n",
       "      <td>Comedy|Drama|Kids and Family|Sports and Fitness</td>\n",
       "      <td>David Mickey Evans|Robert Gunter</td>\n",
       "      <td>14141054.5</td>\n",
       "      <td>101 minutes</td>\n",
       "      <td>Entertainment one</td>\n",
       "    </tr>\n",
       "    <tr>\n",
       "      <th>1559</th>\n",
       "      <td>2000</td>\n",
       "      <td>Suspended from the force, Paris cop Hubert is ...</td>\n",
       "      <td>R</td>\n",
       "      <td>Action and Adventure|Art House and Internation...</td>\n",
       "      <td>Luc Besson</td>\n",
       "      <td>14141054.5</td>\n",
       "      <td>94 minutes</td>\n",
       "      <td>Columbia Pictures</td>\n",
       "    </tr>\n",
       "  </tbody>\n",
       "</table>\n",
       "<p>1560 rows × 8 columns</p>\n",
       "</div>"
      ],
      "text/plain": [
       "        id                                           synopsis rating   \n",
       "0        1  This gritty, fast-paced, and innovative police...      R  \\\n",
       "1        3  New York City, not-too-distant-future: Eric Pa...      R   \n",
       "2        5  Illeana Douglas delivers a superb performance ...      R   \n",
       "3        6  Michael Douglas runs afoul of a treacherous su...      R   \n",
       "4        7                                            unknown     NR   \n",
       "...    ...                                                ...    ...   \n",
       "1555  1996  Forget terrorists or hijackers -- there's a ha...      R   \n",
       "1556  1997  The popular Saturday Night Live sketch was exp...     PG   \n",
       "1557  1998  Based on a novel by Richard Powell, when the l...      G   \n",
       "1558  1999  The Sandlot is a coming-of-age story about a g...     PG   \n",
       "1559  2000  Suspended from the force, Paris cop Hubert is ...      R   \n",
       "\n",
       "                                                  genre   \n",
       "0                   Action and Adventure|Classics|Drama  \\\n",
       "1                     Drama|Science Fiction and Fantasy   \n",
       "2                     Drama|Musical and Performing Arts   \n",
       "3                            Drama|Mystery and Suspense   \n",
       "4                                         Drama|Romance   \n",
       "...                                                 ...   \n",
       "1555   Action and Adventure|Horror|Mystery and Suspense   \n",
       "1556                 Comedy|Science Fiction and Fantasy   \n",
       "1557  Classics|Comedy|Drama|Musical and Performing Arts   \n",
       "1558    Comedy|Drama|Kids and Family|Sports and Fitness   \n",
       "1559  Action and Adventure|Art House and Internation...   \n",
       "\n",
       "                                              director  box_office   \n",
       "0                                       Ernest Tidyman  14141054.5  \\\n",
       "1                         David Cronenberg|Don DeLillo      600000   \n",
       "2                                       Allison Anders  14141054.5   \n",
       "3                      Paul Attanasio|Michael Crichton  14141054.5   \n",
       "4                                         Giles Cooper  14141054.5   \n",
       "...                                                ...         ...   \n",
       "1555                                           unknown    33886034   \n",
       "1556  Terry Turner|Tom Davis|Dan Aykroyd|Bonnie Turner  14141054.5   \n",
       "1557                                    Gordon Douglas  14141054.5   \n",
       "1558                  David Mickey Evans|Robert Gunter  14141054.5   \n",
       "1559                                        Luc Besson  14141054.5   \n",
       "\n",
       "          runtime             studio  \n",
       "0     104 minutes  Entertainment one  \n",
       "1     108 minutes  Entertainment One  \n",
       "2     116 minutes  Entertainment one  \n",
       "3     128 minutes  Entertainment one  \n",
       "4     200 minutes  Entertainment one  \n",
       "...           ...                ...  \n",
       "1555  106 minutes    New Line Cinema  \n",
       "1556   88 minutes  Paramount Vantage  \n",
       "1557  111 minutes  Entertainment one  \n",
       "1558  101 minutes  Entertainment one  \n",
       "1559   94 minutes  Columbia Pictures  \n",
       "\n",
       "[1560 rows x 8 columns]"
      ]
     },
     "execution_count": 53,
     "metadata": {},
     "output_type": "execute_result"
    }
   ],
   "source": [
    "rt_movie_info"
   ]
  },
  {
   "cell_type": "markdown",
   "id": "51ef5977",
   "metadata": {},
   "source": [
    "### 4.4 Combining similar dataframes"
   ]
  },
  {
   "cell_type": "markdown",
   "id": "231b4e39",
   "metadata": {},
   "source": [
    "Before we dive into data visualizations, lets first merge bom_data and rt_movie_info. They seem to have a lot in common. Like the box office mojo comes as a column in the rotten tomatoes dataframe (literally i.e).\n",
    "Also, their budgets are so close to one another for both domestic and foreign gross.\n",
    "To do so, let's use merge, shall we?"
   ]
  },
  {
   "cell_type": "code",
   "execution_count": 54,
   "id": "cb31573f",
   "metadata": {},
   "outputs": [],
   "source": [
    "# joining bom_data and rt_movie_info\n",
    "bom_and_rt = bom_data.merge(rt_movie_info, how = \"inner\")"
   ]
  },
  {
   "cell_type": "code",
   "execution_count": 55,
   "id": "68e35805",
   "metadata": {},
   "outputs": [
    {
     "data": {
      "text/html": [
       "<div>\n",
       "<style scoped>\n",
       "    .dataframe tbody tr th:only-of-type {\n",
       "        vertical-align: middle;\n",
       "    }\n",
       "\n",
       "    .dataframe tbody tr th {\n",
       "        vertical-align: top;\n",
       "    }\n",
       "\n",
       "    .dataframe thead th {\n",
       "        text-align: right;\n",
       "    }\n",
       "</style>\n",
       "<table border=\"1\" class=\"dataframe\">\n",
       "  <thead>\n",
       "    <tr style=\"text-align: right;\">\n",
       "      <th></th>\n",
       "      <th>title</th>\n",
       "      <th>studio</th>\n",
       "      <th>domestic_gross</th>\n",
       "      <th>foreign_gross</th>\n",
       "      <th>year</th>\n",
       "      <th>id</th>\n",
       "      <th>synopsis</th>\n",
       "      <th>rating</th>\n",
       "      <th>genre</th>\n",
       "      <th>director</th>\n",
       "      <th>box_office</th>\n",
       "      <th>runtime</th>\n",
       "    </tr>\n",
       "  </thead>\n",
       "  <tbody>\n",
       "    <tr>\n",
       "      <th>0</th>\n",
       "      <td>Harry Potter and the Deathly Hallows Part 1</td>\n",
       "      <td>WB</td>\n",
       "      <td>296000000.0</td>\n",
       "      <td>296000000.0</td>\n",
       "      <td>2010</td>\n",
       "      <td>611</td>\n",
       "      <td>Directed by Clint Eastwood, the mysterious dra...</td>\n",
       "      <td>R</td>\n",
       "      <td>Drama|Mystery and Suspense</td>\n",
       "      <td>Brian Helgeland</td>\n",
       "      <td>88800000</td>\n",
       "      <td>137 minutes</td>\n",
       "    </tr>\n",
       "    <tr>\n",
       "      <th>1</th>\n",
       "      <td>Inception</td>\n",
       "      <td>WB</td>\n",
       "      <td>292600000.0</td>\n",
       "      <td>292600000.0</td>\n",
       "      <td>2010</td>\n",
       "      <td>611</td>\n",
       "      <td>Directed by Clint Eastwood, the mysterious dra...</td>\n",
       "      <td>R</td>\n",
       "      <td>Drama|Mystery and Suspense</td>\n",
       "      <td>Brian Helgeland</td>\n",
       "      <td>88800000</td>\n",
       "      <td>137 minutes</td>\n",
       "    </tr>\n",
       "    <tr>\n",
       "      <th>2</th>\n",
       "      <td>Clash of the Titans (2010)</td>\n",
       "      <td>WB</td>\n",
       "      <td>163200000.0</td>\n",
       "      <td>163200000.0</td>\n",
       "      <td>2010</td>\n",
       "      <td>611</td>\n",
       "      <td>Directed by Clint Eastwood, the mysterious dra...</td>\n",
       "      <td>R</td>\n",
       "      <td>Drama|Mystery and Suspense</td>\n",
       "      <td>Brian Helgeland</td>\n",
       "      <td>88800000</td>\n",
       "      <td>137 minutes</td>\n",
       "    </tr>\n",
       "    <tr>\n",
       "      <th>3</th>\n",
       "      <td>Due Date</td>\n",
       "      <td>WB</td>\n",
       "      <td>100500000.0</td>\n",
       "      <td>100500000.0</td>\n",
       "      <td>2010</td>\n",
       "      <td>611</td>\n",
       "      <td>Directed by Clint Eastwood, the mysterious dra...</td>\n",
       "      <td>R</td>\n",
       "      <td>Drama|Mystery and Suspense</td>\n",
       "      <td>Brian Helgeland</td>\n",
       "      <td>88800000</td>\n",
       "      <td>137 minutes</td>\n",
       "    </tr>\n",
       "    <tr>\n",
       "      <th>4</th>\n",
       "      <td>Yogi Bear</td>\n",
       "      <td>WB</td>\n",
       "      <td>100200000.0</td>\n",
       "      <td>100200000.0</td>\n",
       "      <td>2010</td>\n",
       "      <td>611</td>\n",
       "      <td>Directed by Clint Eastwood, the mysterious dra...</td>\n",
       "      <td>R</td>\n",
       "      <td>Drama|Mystery and Suspense</td>\n",
       "      <td>Brian Helgeland</td>\n",
       "      <td>88800000</td>\n",
       "      <td>137 minutes</td>\n",
       "    </tr>\n",
       "  </tbody>\n",
       "</table>\n",
       "</div>"
      ],
      "text/plain": [
       "                                         title studio  domestic_gross   \n",
       "0  Harry Potter and the Deathly Hallows Part 1     WB     296000000.0  \\\n",
       "1                                    Inception     WB     292600000.0   \n",
       "2                   Clash of the Titans (2010)     WB     163200000.0   \n",
       "3                                     Due Date     WB     100500000.0   \n",
       "4                                    Yogi Bear     WB     100200000.0   \n",
       "\n",
       "   foreign_gross  year   id   \n",
       "0    296000000.0  2010  611  \\\n",
       "1    292600000.0  2010  611   \n",
       "2    163200000.0  2010  611   \n",
       "3    100500000.0  2010  611   \n",
       "4    100200000.0  2010  611   \n",
       "\n",
       "                                            synopsis rating   \n",
       "0  Directed by Clint Eastwood, the mysterious dra...      R  \\\n",
       "1  Directed by Clint Eastwood, the mysterious dra...      R   \n",
       "2  Directed by Clint Eastwood, the mysterious dra...      R   \n",
       "3  Directed by Clint Eastwood, the mysterious dra...      R   \n",
       "4  Directed by Clint Eastwood, the mysterious dra...      R   \n",
       "\n",
       "                        genre         director box_office      runtime  \n",
       "0  Drama|Mystery and Suspense  Brian Helgeland   88800000  137 minutes  \n",
       "1  Drama|Mystery and Suspense  Brian Helgeland   88800000  137 minutes  \n",
       "2  Drama|Mystery and Suspense  Brian Helgeland   88800000  137 minutes  \n",
       "3  Drama|Mystery and Suspense  Brian Helgeland   88800000  137 minutes  \n",
       "4  Drama|Mystery and Suspense  Brian Helgeland   88800000  137 minutes  "
      ]
     },
     "execution_count": 55,
     "metadata": {},
     "output_type": "execute_result"
    }
   ],
   "source": [
    "bom_and_rt.head()"
   ]
  },
  {
   "cell_type": "code",
   "execution_count": 56,
   "id": "46d6798b",
   "metadata": {},
   "outputs": [
    {
     "name": "stdout",
     "output_type": "stream",
     "text": [
      "<class 'pandas.core.frame.DataFrame'>\n",
      "RangeIndex: 512 entries, 0 to 511\n",
      "Data columns (total 12 columns):\n",
      " #   Column          Non-Null Count  Dtype  \n",
      "---  ------          --------------  -----  \n",
      " 0   title           512 non-null    object \n",
      " 1   studio          512 non-null    object \n",
      " 2   domestic_gross  512 non-null    float64\n",
      " 3   foreign_gross   512 non-null    float64\n",
      " 4   year            512 non-null    int64  \n",
      " 5   id              512 non-null    int64  \n",
      " 6   synopsis        512 non-null    object \n",
      " 7   rating          512 non-null    object \n",
      " 8   genre           512 non-null    object \n",
      " 9   director        512 non-null    object \n",
      " 10  box_office      512 non-null    object \n",
      " 11  runtime         512 non-null    object \n",
      "dtypes: float64(2), int64(2), object(8)\n",
      "memory usage: 48.1+ KB\n"
     ]
    }
   ],
   "source": [
    "bom_and_rt.info()"
   ]
  },
  {
   "cell_type": "code",
   "execution_count": 57,
   "id": "87395413",
   "metadata": {},
   "outputs": [
    {
     "data": {
      "text/plain": [
       "False    512\n",
       "Name: count, dtype: int64"
      ]
     },
     "execution_count": 57,
     "metadata": {},
     "output_type": "execute_result"
    }
   ],
   "source": [
    "# Checking for any duplicated file\n",
    "bom_and_rt.duplicated().value_counts()"
   ]
  },
  {
   "cell_type": "code",
   "execution_count": 58,
   "id": "afde6c73",
   "metadata": {},
   "outputs": [
    {
     "data": {
      "text/html": [
       "<div>\n",
       "<style scoped>\n",
       "    .dataframe tbody tr th:only-of-type {\n",
       "        vertical-align: middle;\n",
       "    }\n",
       "\n",
       "    .dataframe tbody tr th {\n",
       "        vertical-align: top;\n",
       "    }\n",
       "\n",
       "    .dataframe thead th {\n",
       "        text-align: right;\n",
       "    }\n",
       "</style>\n",
       "<table border=\"1\" class=\"dataframe\">\n",
       "  <thead>\n",
       "    <tr style=\"text-align: right;\">\n",
       "      <th></th>\n",
       "      <th>title</th>\n",
       "      <th>studio</th>\n",
       "      <th>domestic_gross</th>\n",
       "      <th>foreign_gross</th>\n",
       "      <th>year</th>\n",
       "      <th>id</th>\n",
       "      <th>synopsis</th>\n",
       "      <th>rating</th>\n",
       "      <th>genre</th>\n",
       "      <th>director</th>\n",
       "      <th>box_office</th>\n",
       "      <th>runtime</th>\n",
       "      <th>total_gross</th>\n",
       "    </tr>\n",
       "  </thead>\n",
       "  <tbody>\n",
       "    <tr>\n",
       "      <th>0</th>\n",
       "      <td>Harry Potter and the Deathly Hallows Part 1</td>\n",
       "      <td>WB</td>\n",
       "      <td>296000000.0</td>\n",
       "      <td>296000000.0</td>\n",
       "      <td>2010</td>\n",
       "      <td>611</td>\n",
       "      <td>Directed by Clint Eastwood, the mysterious dra...</td>\n",
       "      <td>R</td>\n",
       "      <td>Drama|Mystery and Suspense</td>\n",
       "      <td>Brian Helgeland</td>\n",
       "      <td>88800000</td>\n",
       "      <td>137 minutes</td>\n",
       "      <td>592000000.0</td>\n",
       "    </tr>\n",
       "    <tr>\n",
       "      <th>1</th>\n",
       "      <td>Inception</td>\n",
       "      <td>WB</td>\n",
       "      <td>292600000.0</td>\n",
       "      <td>292600000.0</td>\n",
       "      <td>2010</td>\n",
       "      <td>611</td>\n",
       "      <td>Directed by Clint Eastwood, the mysterious dra...</td>\n",
       "      <td>R</td>\n",
       "      <td>Drama|Mystery and Suspense</td>\n",
       "      <td>Brian Helgeland</td>\n",
       "      <td>88800000</td>\n",
       "      <td>137 minutes</td>\n",
       "      <td>585200000.0</td>\n",
       "    </tr>\n",
       "    <tr>\n",
       "      <th>2</th>\n",
       "      <td>Clash of the Titans (2010)</td>\n",
       "      <td>WB</td>\n",
       "      <td>163200000.0</td>\n",
       "      <td>163200000.0</td>\n",
       "      <td>2010</td>\n",
       "      <td>611</td>\n",
       "      <td>Directed by Clint Eastwood, the mysterious dra...</td>\n",
       "      <td>R</td>\n",
       "      <td>Drama|Mystery and Suspense</td>\n",
       "      <td>Brian Helgeland</td>\n",
       "      <td>88800000</td>\n",
       "      <td>137 minutes</td>\n",
       "      <td>326400000.0</td>\n",
       "    </tr>\n",
       "    <tr>\n",
       "      <th>3</th>\n",
       "      <td>Due Date</td>\n",
       "      <td>WB</td>\n",
       "      <td>100500000.0</td>\n",
       "      <td>100500000.0</td>\n",
       "      <td>2010</td>\n",
       "      <td>611</td>\n",
       "      <td>Directed by Clint Eastwood, the mysterious dra...</td>\n",
       "      <td>R</td>\n",
       "      <td>Drama|Mystery and Suspense</td>\n",
       "      <td>Brian Helgeland</td>\n",
       "      <td>88800000</td>\n",
       "      <td>137 minutes</td>\n",
       "      <td>201000000.0</td>\n",
       "    </tr>\n",
       "    <tr>\n",
       "      <th>4</th>\n",
       "      <td>Yogi Bear</td>\n",
       "      <td>WB</td>\n",
       "      <td>100200000.0</td>\n",
       "      <td>100200000.0</td>\n",
       "      <td>2010</td>\n",
       "      <td>611</td>\n",
       "      <td>Directed by Clint Eastwood, the mysterious dra...</td>\n",
       "      <td>R</td>\n",
       "      <td>Drama|Mystery and Suspense</td>\n",
       "      <td>Brian Helgeland</td>\n",
       "      <td>88800000</td>\n",
       "      <td>137 minutes</td>\n",
       "      <td>200400000.0</td>\n",
       "    </tr>\n",
       "    <tr>\n",
       "      <th>...</th>\n",
       "      <td>...</td>\n",
       "      <td>...</td>\n",
       "      <td>...</td>\n",
       "      <td>...</td>\n",
       "      <td>...</td>\n",
       "      <td>...</td>\n",
       "      <td>...</td>\n",
       "      <td>...</td>\n",
       "      <td>...</td>\n",
       "      <td>...</td>\n",
       "      <td>...</td>\n",
       "      <td>...</td>\n",
       "      <td>...</td>\n",
       "    </tr>\n",
       "    <tr>\n",
       "      <th>507</th>\n",
       "      <td>A Ghost Story</td>\n",
       "      <td>A24</td>\n",
       "      <td>1600000.0</td>\n",
       "      <td>1600000.0</td>\n",
       "      <td>2017</td>\n",
       "      <td>1399</td>\n",
       "      <td>Imagine the end of the world. Now imagine some...</td>\n",
       "      <td>R</td>\n",
       "      <td>Drama|Horror</td>\n",
       "      <td>Trey Edward Shults</td>\n",
       "      <td>13985117</td>\n",
       "      <td>91 minutes</td>\n",
       "      <td>3200000.0</td>\n",
       "    </tr>\n",
       "    <tr>\n",
       "      <th>508</th>\n",
       "      <td>Trespass Against Us</td>\n",
       "      <td>A24</td>\n",
       "      <td>5700.0</td>\n",
       "      <td>5700.0</td>\n",
       "      <td>2017</td>\n",
       "      <td>1399</td>\n",
       "      <td>Imagine the end of the world. Now imagine some...</td>\n",
       "      <td>R</td>\n",
       "      <td>Drama|Horror</td>\n",
       "      <td>Trey Edward Shults</td>\n",
       "      <td>13985117</td>\n",
       "      <td>91 minutes</td>\n",
       "      <td>11400.0</td>\n",
       "    </tr>\n",
       "    <tr>\n",
       "      <th>509</th>\n",
       "      <td>Hereditary</td>\n",
       "      <td>A24</td>\n",
       "      <td>44100000.0</td>\n",
       "      <td>44100000.0</td>\n",
       "      <td>2018</td>\n",
       "      <td>1399</td>\n",
       "      <td>Imagine the end of the world. Now imagine some...</td>\n",
       "      <td>R</td>\n",
       "      <td>Drama|Horror</td>\n",
       "      <td>Trey Edward Shults</td>\n",
       "      <td>13985117</td>\n",
       "      <td>91 minutes</td>\n",
       "      <td>88200000.0</td>\n",
       "    </tr>\n",
       "    <tr>\n",
       "      <th>510</th>\n",
       "      <td>The Children Act</td>\n",
       "      <td>A24</td>\n",
       "      <td>548000.0</td>\n",
       "      <td>548000.0</td>\n",
       "      <td>2018</td>\n",
       "      <td>1399</td>\n",
       "      <td>Imagine the end of the world. Now imagine some...</td>\n",
       "      <td>R</td>\n",
       "      <td>Drama|Horror</td>\n",
       "      <td>Trey Edward Shults</td>\n",
       "      <td>13985117</td>\n",
       "      <td>91 minutes</td>\n",
       "      <td>1096000.0</td>\n",
       "    </tr>\n",
       "    <tr>\n",
       "      <th>511</th>\n",
       "      <td>Lean on Pete</td>\n",
       "      <td>A24</td>\n",
       "      <td>1200000.0</td>\n",
       "      <td>1200000.0</td>\n",
       "      <td>2018</td>\n",
       "      <td>1399</td>\n",
       "      <td>Imagine the end of the world. Now imagine some...</td>\n",
       "      <td>R</td>\n",
       "      <td>Drama|Horror</td>\n",
       "      <td>Trey Edward Shults</td>\n",
       "      <td>13985117</td>\n",
       "      <td>91 minutes</td>\n",
       "      <td>2400000.0</td>\n",
       "    </tr>\n",
       "  </tbody>\n",
       "</table>\n",
       "<p>512 rows × 13 columns</p>\n",
       "</div>"
      ],
      "text/plain": [
       "                                           title studio  domestic_gross   \n",
       "0    Harry Potter and the Deathly Hallows Part 1     WB     296000000.0  \\\n",
       "1                                      Inception     WB     292600000.0   \n",
       "2                     Clash of the Titans (2010)     WB     163200000.0   \n",
       "3                                       Due Date     WB     100500000.0   \n",
       "4                                      Yogi Bear     WB     100200000.0   \n",
       "..                                           ...    ...             ...   \n",
       "507                                A Ghost Story    A24       1600000.0   \n",
       "508                          Trespass Against Us    A24          5700.0   \n",
       "509                                   Hereditary    A24      44100000.0   \n",
       "510                             The Children Act    A24        548000.0   \n",
       "511                                 Lean on Pete    A24       1200000.0   \n",
       "\n",
       "     foreign_gross  year    id   \n",
       "0      296000000.0  2010   611  \\\n",
       "1      292600000.0  2010   611   \n",
       "2      163200000.0  2010   611   \n",
       "3      100500000.0  2010   611   \n",
       "4      100200000.0  2010   611   \n",
       "..             ...   ...   ...   \n",
       "507      1600000.0  2017  1399   \n",
       "508         5700.0  2017  1399   \n",
       "509     44100000.0  2018  1399   \n",
       "510       548000.0  2018  1399   \n",
       "511      1200000.0  2018  1399   \n",
       "\n",
       "                                              synopsis rating   \n",
       "0    Directed by Clint Eastwood, the mysterious dra...      R  \\\n",
       "1    Directed by Clint Eastwood, the mysterious dra...      R   \n",
       "2    Directed by Clint Eastwood, the mysterious dra...      R   \n",
       "3    Directed by Clint Eastwood, the mysterious dra...      R   \n",
       "4    Directed by Clint Eastwood, the mysterious dra...      R   \n",
       "..                                                 ...    ...   \n",
       "507  Imagine the end of the world. Now imagine some...      R   \n",
       "508  Imagine the end of the world. Now imagine some...      R   \n",
       "509  Imagine the end of the world. Now imagine some...      R   \n",
       "510  Imagine the end of the world. Now imagine some...      R   \n",
       "511  Imagine the end of the world. Now imagine some...      R   \n",
       "\n",
       "                          genre            director box_office      runtime   \n",
       "0    Drama|Mystery and Suspense     Brian Helgeland   88800000  137 minutes  \\\n",
       "1    Drama|Mystery and Suspense     Brian Helgeland   88800000  137 minutes   \n",
       "2    Drama|Mystery and Suspense     Brian Helgeland   88800000  137 minutes   \n",
       "3    Drama|Mystery and Suspense     Brian Helgeland   88800000  137 minutes   \n",
       "4    Drama|Mystery and Suspense     Brian Helgeland   88800000  137 minutes   \n",
       "..                          ...                 ...        ...          ...   \n",
       "507                Drama|Horror  Trey Edward Shults   13985117   91 minutes   \n",
       "508                Drama|Horror  Trey Edward Shults   13985117   91 minutes   \n",
       "509                Drama|Horror  Trey Edward Shults   13985117   91 minutes   \n",
       "510                Drama|Horror  Trey Edward Shults   13985117   91 minutes   \n",
       "511                Drama|Horror  Trey Edward Shults   13985117   91 minutes   \n",
       "\n",
       "     total_gross  \n",
       "0    592000000.0  \n",
       "1    585200000.0  \n",
       "2    326400000.0  \n",
       "3    201000000.0  \n",
       "4    200400000.0  \n",
       "..           ...  \n",
       "507    3200000.0  \n",
       "508      11400.0  \n",
       "509   88200000.0  \n",
       "510    1096000.0  \n",
       "511    2400000.0  \n",
       "\n",
       "[512 rows x 13 columns]"
      ]
     },
     "execution_count": 58,
     "metadata": {},
     "output_type": "execute_result"
    }
   ],
   "source": [
    "# Let's combine the domestic_gross and foreign_gross\n",
    "bom_and_rt[\"total_gross\"] = bom_and_rt[\"domestic_gross\"] + bom_and_rt[\"foreign_gross\"]\n",
    "bom_and_rt"
   ]
  },
  {
   "cell_type": "code",
   "execution_count": 59,
   "id": "a5141d20",
   "metadata": {},
   "outputs": [],
   "source": [
    "# now let's drop them now that we have the total gross\n",
    "\n",
    "# First, the domestic gross\n",
    "bom_and_rt = bom_and_rt.drop(\"domestic_gross\", axis = 1)\n",
    "\n",
    "#Next, we drop the foreign gross\n",
    "bom_and_rt = bom_and_rt.drop(\"foreign_gross\", axis = 1)"
   ]
  },
  {
   "cell_type": "code",
   "execution_count": 60,
   "id": "d8bcb268",
   "metadata": {},
   "outputs": [
    {
     "data": {
      "text/html": [
       "<div>\n",
       "<style scoped>\n",
       "    .dataframe tbody tr th:only-of-type {\n",
       "        vertical-align: middle;\n",
       "    }\n",
       "\n",
       "    .dataframe tbody tr th {\n",
       "        vertical-align: top;\n",
       "    }\n",
       "\n",
       "    .dataframe thead th {\n",
       "        text-align: right;\n",
       "    }\n",
       "</style>\n",
       "<table border=\"1\" class=\"dataframe\">\n",
       "  <thead>\n",
       "    <tr style=\"text-align: right;\">\n",
       "      <th></th>\n",
       "      <th>title</th>\n",
       "      <th>studio</th>\n",
       "      <th>year</th>\n",
       "      <th>id</th>\n",
       "      <th>synopsis</th>\n",
       "      <th>rating</th>\n",
       "      <th>genre</th>\n",
       "      <th>director</th>\n",
       "      <th>box_office</th>\n",
       "      <th>runtime</th>\n",
       "      <th>total_gross</th>\n",
       "    </tr>\n",
       "  </thead>\n",
       "  <tbody>\n",
       "    <tr>\n",
       "      <th>0</th>\n",
       "      <td>Harry Potter and the Deathly Hallows Part 1</td>\n",
       "      <td>WB</td>\n",
       "      <td>2010</td>\n",
       "      <td>611</td>\n",
       "      <td>Directed by Clint Eastwood, the mysterious dra...</td>\n",
       "      <td>R</td>\n",
       "      <td>Drama|Mystery and Suspense</td>\n",
       "      <td>Brian Helgeland</td>\n",
       "      <td>88800000</td>\n",
       "      <td>137 minutes</td>\n",
       "      <td>592000000.0</td>\n",
       "    </tr>\n",
       "    <tr>\n",
       "      <th>1</th>\n",
       "      <td>Inception</td>\n",
       "      <td>WB</td>\n",
       "      <td>2010</td>\n",
       "      <td>611</td>\n",
       "      <td>Directed by Clint Eastwood, the mysterious dra...</td>\n",
       "      <td>R</td>\n",
       "      <td>Drama|Mystery and Suspense</td>\n",
       "      <td>Brian Helgeland</td>\n",
       "      <td>88800000</td>\n",
       "      <td>137 minutes</td>\n",
       "      <td>585200000.0</td>\n",
       "    </tr>\n",
       "    <tr>\n",
       "      <th>2</th>\n",
       "      <td>Clash of the Titans (2010)</td>\n",
       "      <td>WB</td>\n",
       "      <td>2010</td>\n",
       "      <td>611</td>\n",
       "      <td>Directed by Clint Eastwood, the mysterious dra...</td>\n",
       "      <td>R</td>\n",
       "      <td>Drama|Mystery and Suspense</td>\n",
       "      <td>Brian Helgeland</td>\n",
       "      <td>88800000</td>\n",
       "      <td>137 minutes</td>\n",
       "      <td>326400000.0</td>\n",
       "    </tr>\n",
       "    <tr>\n",
       "      <th>3</th>\n",
       "      <td>Due Date</td>\n",
       "      <td>WB</td>\n",
       "      <td>2010</td>\n",
       "      <td>611</td>\n",
       "      <td>Directed by Clint Eastwood, the mysterious dra...</td>\n",
       "      <td>R</td>\n",
       "      <td>Drama|Mystery and Suspense</td>\n",
       "      <td>Brian Helgeland</td>\n",
       "      <td>88800000</td>\n",
       "      <td>137 minutes</td>\n",
       "      <td>201000000.0</td>\n",
       "    </tr>\n",
       "    <tr>\n",
       "      <th>4</th>\n",
       "      <td>Yogi Bear</td>\n",
       "      <td>WB</td>\n",
       "      <td>2010</td>\n",
       "      <td>611</td>\n",
       "      <td>Directed by Clint Eastwood, the mysterious dra...</td>\n",
       "      <td>R</td>\n",
       "      <td>Drama|Mystery and Suspense</td>\n",
       "      <td>Brian Helgeland</td>\n",
       "      <td>88800000</td>\n",
       "      <td>137 minutes</td>\n",
       "      <td>200400000.0</td>\n",
       "    </tr>\n",
       "  </tbody>\n",
       "</table>\n",
       "</div>"
      ],
      "text/plain": [
       "                                         title studio  year   id   \n",
       "0  Harry Potter and the Deathly Hallows Part 1     WB  2010  611  \\\n",
       "1                                    Inception     WB  2010  611   \n",
       "2                   Clash of the Titans (2010)     WB  2010  611   \n",
       "3                                     Due Date     WB  2010  611   \n",
       "4                                    Yogi Bear     WB  2010  611   \n",
       "\n",
       "                                            synopsis rating   \n",
       "0  Directed by Clint Eastwood, the mysterious dra...      R  \\\n",
       "1  Directed by Clint Eastwood, the mysterious dra...      R   \n",
       "2  Directed by Clint Eastwood, the mysterious dra...      R   \n",
       "3  Directed by Clint Eastwood, the mysterious dra...      R   \n",
       "4  Directed by Clint Eastwood, the mysterious dra...      R   \n",
       "\n",
       "                        genre         director box_office      runtime   \n",
       "0  Drama|Mystery and Suspense  Brian Helgeland   88800000  137 minutes  \\\n",
       "1  Drama|Mystery and Suspense  Brian Helgeland   88800000  137 minutes   \n",
       "2  Drama|Mystery and Suspense  Brian Helgeland   88800000  137 minutes   \n",
       "3  Drama|Mystery and Suspense  Brian Helgeland   88800000  137 minutes   \n",
       "4  Drama|Mystery and Suspense  Brian Helgeland   88800000  137 minutes   \n",
       "\n",
       "   total_gross  \n",
       "0  592000000.0  \n",
       "1  585200000.0  \n",
       "2  326400000.0  \n",
       "3  201000000.0  \n",
       "4  200400000.0  "
      ]
     },
     "execution_count": 60,
     "metadata": {},
     "output_type": "execute_result"
    }
   ],
   "source": [
    "bom_and_rt.head()"
   ]
  },
  {
   "cell_type": "markdown",
   "id": "4f27faa0",
   "metadata": {},
   "source": [
    "# 5. Data visualizations"
   ]
  },
  {
   "cell_type": "markdown",
   "id": "08f32d3e",
   "metadata": {},
   "source": [
    "Now, let's visualize the data we just cleaned </br>\n",
    "First thing first: The head of microsoft needs to understand how the two datasets i.e. bom_and_rt and tn_movie_budgets will be useful in deciding on the movies to focus on when building the movie studio. </br>\n",
    "That's where the visualizations come in. Data visualized, say by a graph or perhaps a histogram becomes easy to see, and simple to visualize trends over the years than boring long tables"
   ]
  },
  {
   "cell_type": "markdown",
   "id": "e939a4ad",
   "metadata": {},
   "source": [
    "## 5.1 Relationship between Genre and gross income"
   ]
  },
  {
   "cell_type": "code",
   "execution_count": 79,
   "id": "8a23665d",
   "metadata": {},
   "outputs": [
    {
     "data": {
      "text/plain": [
       "(array([0, 1, 2, 3, 4, 5, 6, 7, 8]),\n",
       " [Text(0, 0, 'Drama|Mystery and Suspense'),\n",
       "  Text(1, 0, 'Art House and International|Comedy|Drama|Musical and Performing Arts'),\n",
       "  Text(2, 0, 'Drama|Romance'),\n",
       "  Text(3, 0, 'Action and Adventure|Drama'),\n",
       "  Text(4, 0, 'Drama|Horror|Mystery and Suspense'),\n",
       "  Text(5, 0, 'Drama'),\n",
       "  Text(6, 0, 'Action and Adventure|Mystery and Suspense'),\n",
       "  Text(7, 0, 'Comedy|Drama'),\n",
       "  Text(8, 0, 'Drama|Horror')])"
      ]
     },
     "execution_count": 79,
     "metadata": {},
     "output_type": "execute_result"
    },
    {
     "data": {
      "image/png": "[encoded data removed]",
      "text/plain": [
       "<Figure size 1000x600 with 1 Axes>"
      ]
     },
     "metadata": {},
     "output_type": "display_data"
    }
   ],
   "source": [
    "sns.set(style=\"dark\")\n",
    "fig, ax = plt.subplots(figsize = (10, 6))\n",
    "sns.boxplot(data = bom_and_rt,x = \"genre\", y = \"total_gross\")\n",
    "plt.xticks(rotation = 90)"
   ]
  },
  {
   "cell_type": "markdown",
   "id": "470e5583",
   "metadata": {},
   "source": [
    "For the genre, the audience seem to enjoy Drama/Mystery/suspense more than Drama/horror movies"
   ]
  },
  {
   "cell_type": "markdown",
   "id": "de41ef0e",
   "metadata": {},
   "source": [
    "## 5.2 Relationship between production budget and worldwide gross "
   ]
  },
  {
   "cell_type": "code",
   "execution_count": 62,
   "id": "1844ccb7",
   "metadata": {},
   "outputs": [
    {
     "data": {
      "image/png": "[encoded data removed]",
      "text/plain": [
       "<Figure size 640x480 with 1 Axes>"
      ]
     },
     "metadata": {},
     "output_type": "display_data"
    }
   ],
   "source": [
    "# Let's plot a scatter plot to help us interpret that data\n",
    "plt.scatter(tn_movie_budgets[\"production_budget\"], tn_movie_budgets[\"worldwide_gross\"])\n",
    "plt.title(\"Correlation between production budget and gross income\")\n",
    "plt.xscale(\"log\")\n",
    "plt.yscale(\"log\")\n",
    "plt.xlabel(\"production budget (Log Scale)\")\n",
    "plt.ylabel(\"worldwide gross (Log Scale)\")\n",
    "plt.show()"
   ]
  },
  {
   "cell_type": "markdown",
   "id": "3a72984f",
   "metadata": {},
   "source": [
    "## 5.3 Number of movies per genre"
   ]
  },
  {
   "cell_type": "code",
   "execution_count": 63,
   "id": "a69a24f0",
   "metadata": {},
   "outputs": [
    {
     "data": {
      "image/png": "[encoded data removed]",
      "text/plain": [
       "<Figure size 1000x600 with 1 Axes>"
      ]
     },
     "metadata": {},
     "output_type": "display_data"
    }
   ],
   "source": [
    "fig, ax = plt.subplots(figsize=(10, 6))\n",
    "sns.histplot(bom_and_rt[\"genre\"], bins = 5, edgecolor = \"black\")\n",
    "plt.title(\"Number of movies per genre\")\n",
    "plt.xlabel(\"genre\")\n",
    "plt.ylabel(\"size of genre\")\n",
    "plt.xticks(rotation = 90)\n",
    "plt.show()"
   ]
  },
  {
   "cell_type": "markdown",
   "id": "bdfad40f",
   "metadata": {},
   "source": [
    "## 5.4 Correlation between domestic and worldwide gross"
   ]
  },
  {
   "cell_type": "code",
   "execution_count": 64,
   "id": "70eb483f",
   "metadata": {},
   "outputs": [
    {
     "name": "stdout",
     "output_type": "stream",
     "text": [
      "Correlation: 0.9449323628157194\n"
     ]
    },
    {
     "data": {
      "image/png": "[encoded data removed]",
      "text/plain": [
       "<Figure size 1000x600 with 1 Axes>"
      ]
     },
     "metadata": {},
     "output_type": "display_data"
    }
   ],
   "source": [
    "# Calculate the correlation between domestic_gross and worldwide_gross\n",
    "r, p = stats.pearsonr(tn_movie_budgets[\"domestic_gross\"], tn_movie_budgets[\"worldwide_gross\"])\n",
    "print(\"Correlation:\", r)\n",
    "\n",
    "# Create a scatter plot\n",
    "plt.figure(figsize=(10, 6))\n",
    "sns.scatterplot(data=tn_movie_budgets, x=\"domestic_gross\", y=\"worldwide_gross\")\n",
    "plt.xlabel(\"Domestic gross\")\n",
    "plt.ylabel(\"Worldwide gross\")\n",
    "plt.title(\"Scatter Plot of Domestic Gross vs. Worldwide Gross\")\n",
    "plt.annotate(\"r = {:.2f}\".format(r), xy=(0.8, 0.1), xycoords=\"axes fraction\")\n",
    "plt.show()"
   ]
  },
  {
   "cell_type": "markdown",
   "id": "034fd531",
   "metadata": {},
   "source": [
    "## 5.5 Relationship between Box office and genre"
   ]
  },
  {
   "cell_type": "code",
   "execution_count": 65,
   "id": "43f4475b",
   "metadata": {},
   "outputs": [
    {
     "data": {
      "text/plain": [
       "count          512.0\n",
       "unique           8.0\n",
       "top       14141054.5\n",
       "freq           308.0\n",
       "Name: box_office, dtype: float64"
      ]
     },
     "execution_count": 65,
     "metadata": {},
     "output_type": "execute_result"
    }
   ],
   "source": [
    "bom_and_rt[\"box_office\"].describe()"
   ]
  },
  {
   "cell_type": "code",
   "execution_count": 66,
   "id": "d91757c0",
   "metadata": {},
   "outputs": [
    {
     "data": {
      "text/plain": [
       "count                            512\n",
       "unique                             9\n",
       "top       Drama|Mystery and Suspense\n",
       "freq                             279\n",
       "Name: genre, dtype: object"
      ]
     },
     "execution_count": 66,
     "metadata": {},
     "output_type": "execute_result"
    }
   ],
   "source": [
    "bom_and_rt[\"genre\"].describe()"
   ]
  },
  {
   "cell_type": "code",
   "execution_count": 67,
   "id": "3bf7caf6",
   "metadata": {},
   "outputs": [
    {
     "data": {
      "image/png": "[encoded data removed]",
      "text/plain": [
       "<Figure size 1000x600 with 1 Axes>"
      ]
     },
     "metadata": {},
     "output_type": "display_data"
    }
   ],
   "source": [
    "#first we convert the box office dtype into a pand numeric\n",
    "bom_and_rt[\"box_office\"] = pd.to_numeric(bom_and_rt[\"box_office\"], errors = \"coerce\")\n",
    "\n",
    "#Then we plot the figure size\n",
    "plt.figure(figsize = (10, 6))\n",
    "\n",
    "#Then we plot the bar graph\n",
    "plt.bar(bom_and_rt[\"genre\"], bom_and_rt[\"box_office\"])\n",
    "\n",
    "#THen we label the graph\n",
    "plt.title(\"Relationship between Box office and genre\")\n",
    "plt.xlabel(\"genre \")\n",
    "plt.ylabel(\"box_office\")\n",
    "\n",
    "#Genre is too wordy. We need to rotate it for it not to get too much congested\n",
    "plt.xticks(rotation = 90)\n",
    "plt.show()"
   ]
  },
  {
   "cell_type": "markdown",
   "id": "fe8539fc",
   "metadata": {},
   "source": [
    "## 5.6 Distribution of  Rating"
   ]
  },
  {
   "cell_type": "code",
   "execution_count": 69,
   "id": "e826b7a3",
   "metadata": {},
   "outputs": [
    {
     "data": {
      "text/html": [
       "<div>\n",
       "<style scoped>\n",
       "    .dataframe tbody tr th:only-of-type {\n",
       "        vertical-align: middle;\n",
       "    }\n",
       "\n",
       "    .dataframe tbody tr th {\n",
       "        vertical-align: top;\n",
       "    }\n",
       "\n",
       "    .dataframe thead th {\n",
       "        text-align: right;\n",
       "    }\n",
       "</style>\n",
       "<table border=\"1\" class=\"dataframe\">\n",
       "  <thead>\n",
       "    <tr style=\"text-align: right;\">\n",
       "      <th></th>\n",
       "      <th>title</th>\n",
       "      <th>studio</th>\n",
       "      <th>year</th>\n",
       "      <th>id</th>\n",
       "      <th>synopsis</th>\n",
       "      <th>rating</th>\n",
       "      <th>genre</th>\n",
       "      <th>director</th>\n",
       "      <th>box_office</th>\n",
       "      <th>runtime</th>\n",
       "      <th>total_gross</th>\n",
       "    </tr>\n",
       "  </thead>\n",
       "  <tbody>\n",
       "    <tr>\n",
       "      <th>0</th>\n",
       "      <td>Harry Potter and the Deathly Hallows Part 1</td>\n",
       "      <td>WB</td>\n",
       "      <td>2010</td>\n",
       "      <td>611</td>\n",
       "      <td>Directed by Clint Eastwood, the mysterious dra...</td>\n",
       "      <td>R</td>\n",
       "      <td>Drama|Mystery and Suspense</td>\n",
       "      <td>Brian Helgeland</td>\n",
       "      <td>88800000.0</td>\n",
       "      <td>137 minutes</td>\n",
       "      <td>592000000.0</td>\n",
       "    </tr>\n",
       "    <tr>\n",
       "      <th>1</th>\n",
       "      <td>Inception</td>\n",
       "      <td>WB</td>\n",
       "      <td>2010</td>\n",
       "      <td>611</td>\n",
       "      <td>Directed by Clint Eastwood, the mysterious dra...</td>\n",
       "      <td>R</td>\n",
       "      <td>Drama|Mystery and Suspense</td>\n",
       "      <td>Brian Helgeland</td>\n",
       "      <td>88800000.0</td>\n",
       "      <td>137 minutes</td>\n",
       "      <td>585200000.0</td>\n",
       "    </tr>\n",
       "    <tr>\n",
       "      <th>2</th>\n",
       "      <td>Clash of the Titans (2010)</td>\n",
       "      <td>WB</td>\n",
       "      <td>2010</td>\n",
       "      <td>611</td>\n",
       "      <td>Directed by Clint Eastwood, the mysterious dra...</td>\n",
       "      <td>R</td>\n",
       "      <td>Drama|Mystery and Suspense</td>\n",
       "      <td>Brian Helgeland</td>\n",
       "      <td>88800000.0</td>\n",
       "      <td>137 minutes</td>\n",
       "      <td>326400000.0</td>\n",
       "    </tr>\n",
       "    <tr>\n",
       "      <th>3</th>\n",
       "      <td>Due Date</td>\n",
       "      <td>WB</td>\n",
       "      <td>2010</td>\n",
       "      <td>611</td>\n",
       "      <td>Directed by Clint Eastwood, the mysterious dra...</td>\n",
       "      <td>R</td>\n",
       "      <td>Drama|Mystery and Suspense</td>\n",
       "      <td>Brian Helgeland</td>\n",
       "      <td>88800000.0</td>\n",
       "      <td>137 minutes</td>\n",
       "      <td>201000000.0</td>\n",
       "    </tr>\n",
       "    <tr>\n",
       "      <th>4</th>\n",
       "      <td>Yogi Bear</td>\n",
       "      <td>WB</td>\n",
       "      <td>2010</td>\n",
       "      <td>611</td>\n",
       "      <td>Directed by Clint Eastwood, the mysterious dra...</td>\n",
       "      <td>R</td>\n",
       "      <td>Drama|Mystery and Suspense</td>\n",
       "      <td>Brian Helgeland</td>\n",
       "      <td>88800000.0</td>\n",
       "      <td>137 minutes</td>\n",
       "      <td>200400000.0</td>\n",
       "    </tr>\n",
       "  </tbody>\n",
       "</table>\n",
       "</div>"
      ],
      "text/plain": [
       "                                         title studio  year   id   \n",
       "0  Harry Potter and the Deathly Hallows Part 1     WB  2010  611  \\\n",
       "1                                    Inception     WB  2010  611   \n",
       "2                   Clash of the Titans (2010)     WB  2010  611   \n",
       "3                                     Due Date     WB  2010  611   \n",
       "4                                    Yogi Bear     WB  2010  611   \n",
       "\n",
       "                                            synopsis rating   \n",
       "0  Directed by Clint Eastwood, the mysterious dra...      R  \\\n",
       "1  Directed by Clint Eastwood, the mysterious dra...      R   \n",
       "2  Directed by Clint Eastwood, the mysterious dra...      R   \n",
       "3  Directed by Clint Eastwood, the mysterious dra...      R   \n",
       "4  Directed by Clint Eastwood, the mysterious dra...      R   \n",
       "\n",
       "                        genre         director  box_office      runtime   \n",
       "0  Drama|Mystery and Suspense  Brian Helgeland  88800000.0  137 minutes  \\\n",
       "1  Drama|Mystery and Suspense  Brian Helgeland  88800000.0  137 minutes   \n",
       "2  Drama|Mystery and Suspense  Brian Helgeland  88800000.0  137 minutes   \n",
       "3  Drama|Mystery and Suspense  Brian Helgeland  88800000.0  137 minutes   \n",
       "4  Drama|Mystery and Suspense  Brian Helgeland  88800000.0  137 minutes   \n",
       "\n",
       "   total_gross  \n",
       "0  592000000.0  \n",
       "1  585200000.0  \n",
       "2  326400000.0  \n",
       "3  201000000.0  \n",
       "4  200400000.0  "
      ]
     },
     "execution_count": 69,
     "metadata": {},
     "output_type": "execute_result"
    }
   ],
   "source": [
    "bom_and_rt.head()"
   ]
  },
  {
   "cell_type": "code",
   "execution_count": 74,
   "id": "cb545293",
   "metadata": {},
   "outputs": [
    {
     "data": {
      "image/png": "[encoded data removed]",
      "text/plain": [
       "<Figure size 1000x600 with 1 Axes>"
      ]
     },
     "metadata": {},
     "output_type": "display_data"
    }
   ],
   "source": [
    "#Plot the figure\n",
    "fig, ax = plt.subplots(figsize = (10, 6))\n",
    "\n",
    "#plot the countplot\n",
    "sns.countplot(data = bom_and_rt, x = \"rating\")\n",
    "\n",
    "#plot the labels\n",
    "ax.set_title(\"Movies per Rating\")\n",
    "ax.set_xlabel(\"rating\")\n",
    "ax.set_ylabel(\"total_gross\")\n",
    "\n",
    "#plot \n",
    "plt.show()"
   ]
  },
  {
   "cell_type": "markdown",
   "id": "f12aff6b",
   "metadata": {},
   "source": [
    "R rated movies seems to get the most views over the other genres such as PG and others. "
   ]
  },
  {
   "cell_type": "markdown",
   "id": "0b6abf0a",
   "metadata": {},
   "source": [
    "# 6. Conclusions"
   ]
  },
  {
   "cell_type": "markdown",
   "id": "37f4b4c5",
   "metadata": {},
   "source": [
    "## 7. Recommendations"
   ]
  }
 ],
 "metadata": {
  "kernelspec": {
   "display_name": "Python (learn-env)",
   "language": "python",
   "name": "learn-env"
  },
  "language_info": {
   "codemirror_mode": {
    "name": "ipython",
    "version": 3
   },
   "file_extension": ".py",
   "mimetype": "text/x-python",
   "name": "python",
   "nbconvert_exporter": "python",
   "pygments_lexer": "ipython3",
   "version": "3.10.11"
  }
 },
 "nbformat": 4,
 "nbformat_minor": 5
}
