{
 "cells": [
  {
   "cell_type": "markdown",
   "id": "2a5ed9fc",
   "metadata": {},
   "source": [
    "## Introduction"
   ]
  },
  {
   "cell_type": "markdown",
   "id": "d1f662b0",
   "metadata": {},
   "source": [
    "## Problem Statement"
   ]
  },
  {
   "cell_type": "markdown",
   "id": "89810f09",
   "metadata": {},
   "source": [
    "## Main Objective"
   ]
  },
  {
   "cell_type": "markdown",
   "id": "df06b2f1",
   "metadata": {},
   "source": [
    "## Specific Objectives"
   ]
  },
  {
   "cell_type": "markdown",
   "id": "08c27aa1",
   "metadata": {},
   "source": [
    "## Notebook Structure"
   ]
  },
  {
   "cell_type": "markdown",
   "id": "d14901e8",
   "metadata": {},
   "source": [
    "## Data Understanding"
   ]
  },
  {
   "cell_type": "markdown",
   "id": "e380b1d9",
   "metadata": {},
   "source": [
    "## Methodology"
   ]
  },
  {
   "cell_type": "markdown",
   "id": "0b6abf0a",
   "metadata": {},
   "source": [
    "## Conclusions"
   ]
  },
  {
   "cell_type": "markdown",
   "id": "37f4b4c5",
   "metadata": {},
   "source": [
    "## Recommendations"
   ]
  }
 ],
 "metadata": {
  "kernelspec": {
   "display_name": "Python (learn-env)",
   "language": "python",
   "name": "learn-env"
  },
  "language_info": {
   "codemirror_mode": {
    "name": "ipython",
    "version": 3
   },
   "file_extension": ".py",
   "mimetype": "text/x-python",
   "name": "python",
   "nbconvert_exporter": "python",
   "pygments_lexer": "ipython3",
   "version": "3.10.11"
  }
 },
 "nbformat": 4,
 "nbformat_minor": 5
}
