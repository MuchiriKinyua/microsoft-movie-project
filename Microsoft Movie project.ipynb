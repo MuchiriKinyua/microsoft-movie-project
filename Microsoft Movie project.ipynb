{
 "cells": [
  {
   "cell_type": "markdown",
   "id": "2a5ed9fc",
   "metadata": {},
   "source": [
    "# 1. Business Understanding"
   ]
  },
  {
   "cell_type": "markdown",
   "id": "093dfed5",
   "metadata": {},
   "source": [
    "## 1.1 Introduction"
   ]
  },
  {
   "cell_type": "markdown",
   "id": "f739ad23",
   "metadata": {},
   "source": [
    "Microsoft movie project seeks to ssek out relevant data which will be used by Microsoft in building a movie studio. The project focuses on Box Office Mojo, movie budgets and other movie information that has been used by other movie production companies.\n",
    "After understanding the data, data will be cleaned to:removing any duplicates, Checking any missing data,Removing any irrelevant data. \n",
    "Thereafter Visualizations to present the data will be made to ensure it is easy to understand to the leader of microsoft."
   ]
  },
  {
   "cell_type": "markdown",
   "id": "d1f662b0",
   "metadata": {},
   "source": [
    "## 1.2 Problem Statement"
   ]
  },
  {
   "cell_type": "markdown",
   "id": "673e4b8f",
   "metadata": {},
   "source": [
    "Microsoft wants to get into the movie industry. However they don't know much about the industry. They therefore want a data scientist to evaluate the movie industry, to identify which movies are actually doing well at the box office hence providing them with actionable insights that the company, Microsoft, can use to determine the films they will major on."
   ]
  },
  {
   "cell_type": "markdown",
   "id": "89810f09",
   "metadata": {},
   "source": [
    "## 1.3 Main Objective"
   ]
  },
  {
   "cell_type": "markdown",
   "id": "c44c3db2",
   "metadata": {},
   "source": [
    "This project aims to help Microsoft's new movie studio make informed decisions about the types of films to create. By analyzing data from the film industry, insights and trends that will assist in identifying successful strategies for the studio can be uncovered."
   ]
  },
  {
   "cell_type": "markdown",
   "id": "df06b2f1",
   "metadata": {},
   "source": [
    "## 1.4 Specific Objectives"
   ]
  },
  {
   "cell_type": "markdown",
   "id": "dc02ff30",
   "metadata": {},
   "source": [
    "a). Identify the most successful movie genres that microsoft head will use to make a prompt decision on which type of movies to put more focus on."
   ]
  },
  {
   "cell_type": "markdown",
   "id": "6eeff30e",
   "metadata": {},
   "source": [
    "b). To visualize movie budgets (especially using the tn movie budgets file)"
   ]
  },
  {
   "cell_type": "markdown",
   "id": "69834faa",
   "metadata": {},
   "source": [
    "c). Understanding how different branches of the entire movie field affect the company reputation and sequentials for thaat matter. E.g., rating, genre, runtime."
   ]
  },
  {
   "cell_type": "markdown",
   "id": "08c27aa1",
   "metadata": {},
   "source": [
    "## 1.5 Notebook Structure"
   ]
  },
  {
   "cell_type": "markdown",
   "id": "7146fc17",
   "metadata": {},
   "source": [
    "Introduction"
   ]
  },
  {
   "cell_type": "markdown",
   "id": "1accb560",
   "metadata": {},
   "source": [
    "`Problem Statement"
   ]
  },
  {
   "cell_type": "markdown",
   "id": "9edae7a3",
   "metadata": {},
   "source": [
    "Main Objective"
   ]
  },
  {
   "cell_type": "markdown",
   "id": "c5d25f5b",
   "metadata": {},
   "source": [
    "Specific Ojectives"
   ]
  },
  {
   "cell_type": "markdown",
   "id": "7967ad19",
   "metadata": {},
   "source": [
    "Importing Libraries"
   ]
  },
  {
   "cell_type": "markdown",
   "id": "f5e4a58b",
   "metadata": {},
   "source": [
    "Data Understanding"
   ]
  },
  {
   "cell_type": "markdown",
   "id": "8866a016",
   "metadata": {},
   "source": [
    "Data Cleaning"
   ]
  },
  {
   "cell_type": "markdown",
   "id": "8bed548a",
   "metadata": {},
   "source": [
    "Data Visualizations"
   ]
  },
  {
   "cell_type": "markdown",
   "id": "8bbbeb45",
   "metadata": {},
   "source": [
    "Conclusions"
   ]
  },
  {
   "cell_type": "markdown",
   "id": "eeaf0e0a",
   "metadata": {},
   "source": [
    "Recommendations"
   ]
  },
  {
   "cell_type": "markdown",
   "id": "ee2dc770",
   "metadata": {},
   "source": [
    "# 2. Importing Libraries"
   ]
  },
  {
   "cell_type": "code",
   "execution_count": 188,
   "id": "39d7763b",
   "metadata": {},
   "outputs": [],
   "source": [
    "import csv\n",
    "import pandas as pd\n",
    "import matplotlib.pyplot as plt\n",
    "import seaborn as sns\n",
    "import numpy as np"
   ]
  },
  {
   "cell_type": "markdown",
   "id": "7829c604",
   "metadata": {},
   "source": [
    "# 3. Data Understanding"
   ]
  },
  {
   "cell_type": "markdown",
   "id": "8c2dfc11",
   "metadata": {},
   "source": [
    "## 3.1 Box office mojo"
   ]
  },
  {
   "cell_type": "code",
   "execution_count": 189,
   "id": "cebb8955",
   "metadata": {},
   "outputs": [],
   "source": [
    "# Loading the data\n",
    "bom_data = pd.read_csv(\"Data/bom.movie_gross.csv\")"
   ]
  },
  {
   "cell_type": "code",
   "execution_count": 190,
   "id": "66444484",
   "metadata": {
    "scrolled": true
   },
   "outputs": [
    {
     "name": "stdout",
     "output_type": "stream",
     "text": [
      "<class 'pandas.core.frame.DataFrame'>\n",
      "RangeIndex: 3387 entries, 0 to 3386\n",
      "Data columns (total 5 columns):\n",
      " #   Column          Non-Null Count  Dtype  \n",
      "---  ------          --------------  -----  \n",
      " 0   title           3387 non-null   object \n",
      " 1   studio          3382 non-null   object \n",
      " 2   domestic_gross  3359 non-null   float64\n",
      " 3   foreign_gross   2037 non-null   object \n",
      " 4   year            3387 non-null   int64  \n",
      "dtypes: float64(1), int64(1), object(3)\n",
      "memory usage: 132.4+ KB\n"
     ]
    }
   ],
   "source": [
    "# viewing the columns\n",
    "bom_data.info()"
   ]
  },
  {
   "cell_type": "code",
   "execution_count": 191,
   "id": "b8e0d700",
   "metadata": {},
   "outputs": [
    {
     "data": {
      "text/html": [
       "<div>\n",
       "<style scoped>\n",
       "    .dataframe tbody tr th:only-of-type {\n",
       "        vertical-align: middle;\n",
       "    }\n",
       "\n",
       "    .dataframe tbody tr th {\n",
       "        vertical-align: top;\n",
       "    }\n",
       "\n",
       "    .dataframe thead th {\n",
       "        text-align: right;\n",
       "    }\n",
       "</style>\n",
       "<table border=\"1\" class=\"dataframe\">\n",
       "  <thead>\n",
       "    <tr style=\"text-align: right;\">\n",
       "      <th></th>\n",
       "      <th>title</th>\n",
       "      <th>studio</th>\n",
       "      <th>domestic_gross</th>\n",
       "      <th>foreign_gross</th>\n",
       "      <th>year</th>\n",
       "    </tr>\n",
       "  </thead>\n",
       "  <tbody>\n",
       "    <tr>\n",
       "      <th>0</th>\n",
       "      <td>Toy Story 3</td>\n",
       "      <td>BV</td>\n",
       "      <td>415000000.0</td>\n",
       "      <td>652000000</td>\n",
       "      <td>2010</td>\n",
       "    </tr>\n",
       "    <tr>\n",
       "      <th>1</th>\n",
       "      <td>Alice in Wonderland (2010)</td>\n",
       "      <td>BV</td>\n",
       "      <td>334200000.0</td>\n",
       "      <td>691300000</td>\n",
       "      <td>2010</td>\n",
       "    </tr>\n",
       "    <tr>\n",
       "      <th>2</th>\n",
       "      <td>Harry Potter and the Deathly Hallows Part 1</td>\n",
       "      <td>WB</td>\n",
       "      <td>296000000.0</td>\n",
       "      <td>664300000</td>\n",
       "      <td>2010</td>\n",
       "    </tr>\n",
       "    <tr>\n",
       "      <th>3</th>\n",
       "      <td>Inception</td>\n",
       "      <td>WB</td>\n",
       "      <td>292600000.0</td>\n",
       "      <td>535700000</td>\n",
       "      <td>2010</td>\n",
       "    </tr>\n",
       "    <tr>\n",
       "      <th>4</th>\n",
       "      <td>Shrek Forever After</td>\n",
       "      <td>P/DW</td>\n",
       "      <td>238700000.0</td>\n",
       "      <td>513900000</td>\n",
       "      <td>2010</td>\n",
       "    </tr>\n",
       "  </tbody>\n",
       "</table>\n",
       "</div>"
      ],
      "text/plain": [
       "                                         title studio  domestic_gross   \n",
       "0                                  Toy Story 3     BV     415000000.0  \\\n",
       "1                   Alice in Wonderland (2010)     BV     334200000.0   \n",
       "2  Harry Potter and the Deathly Hallows Part 1     WB     296000000.0   \n",
       "3                                    Inception     WB     292600000.0   \n",
       "4                          Shrek Forever After   P/DW     238700000.0   \n",
       "\n",
       "  foreign_gross  year  \n",
       "0     652000000  2010  \n",
       "1     691300000  2010  \n",
       "2     664300000  2010  \n",
       "3     535700000  2010  \n",
       "4     513900000  2010  "
      ]
     },
     "execution_count": 191,
     "metadata": {},
     "output_type": "execute_result"
    }
   ],
   "source": [
    "#To see the first rows in order to get a visual of how the data looks like\n",
    "bom_data.head()"
   ]
  },
  {
   "cell_type": "code",
   "execution_count": null,
   "id": "03037e53",
   "metadata": {},
   "outputs": [],
   "source": [
    "#To see the last rows in order to get a visual of how the data looks like\n",
    "bom_data.tail()"
   ]
  },
  {
   "cell_type": "code",
   "execution_count": null,
   "id": "405a9a93",
   "metadata": {},
   "outputs": [],
   "source": [
    "# To get a glimpse of the data measures\n",
    "bom_data.describe()"
   ]
  },
  {
   "cell_type": "markdown",
   "id": "7b38a654",
   "metadata": {},
   "source": [
    "## 3.2 tn.movie_budgets.csv"
   ]
  },
  {
   "cell_type": "code",
   "execution_count": null,
   "id": "ee4cbd8a",
   "metadata": {},
   "outputs": [],
   "source": [
    "# Loading the data\n",
    "tn_movie_budgets = pd.read_csv(\"Data/tn.movie_budgets.csv\")"
   ]
  },
  {
   "cell_type": "code",
   "execution_count": null,
   "id": "f0c657b7",
   "metadata": {},
   "outputs": [],
   "source": [
    "# viewing the columns\n",
    "tn_movie_budgets.info()"
   ]
  },
  {
   "cell_type": "code",
   "execution_count": null,
   "id": "a9490f77",
   "metadata": {},
   "outputs": [],
   "source": [
    "#To see the first rows in order to get a visual of how the data looks like\n",
    "tn_movie_budgets.head()"
   ]
  },
  {
   "cell_type": "code",
   "execution_count": null,
   "id": "c5f47309",
   "metadata": {},
   "outputs": [],
   "source": [
    "#To see the last rows in order to get a visual of how the data looks like\n",
    "tn_movie_budgets.tail()"
   ]
  },
  {
   "cell_type": "code",
   "execution_count": null,
   "id": "bc85c114",
   "metadata": {},
   "outputs": [],
   "source": [
    "# To get a glimpse of the data measures\n",
    "tn_movie_budgets.describe()"
   ]
  },
  {
   "cell_type": "markdown",
   "id": "92520d99",
   "metadata": {},
   "source": [
    "## 3.3 rt.movie.info.tsv"
   ]
  },
  {
   "cell_type": "code",
   "execution_count": null,
   "id": "f87f7e9b",
   "metadata": {},
   "outputs": [],
   "source": [
    "# Loading the data\n",
    "rt_movie_info = pd.read_csv(\"Data/rt.movie_info.tsv\", delimiter = \"\\t\")"
   ]
  },
  {
   "cell_type": "code",
   "execution_count": null,
   "id": "0e05eeb2",
   "metadata": {
    "scrolled": true
   },
   "outputs": [],
   "source": [
    "# viewing the columns\n",
    "rt_movie_info.info()"
   ]
  },
  {
   "cell_type": "code",
   "execution_count": null,
   "id": "757bed9c",
   "metadata": {},
   "outputs": [],
   "source": [
    "#To see the first rows in order to get a visual of how the data looks like\n",
    "rt_movie_info.head()"
   ]
  },
  {
   "cell_type": "code",
   "execution_count": null,
   "id": "cffbadf8",
   "metadata": {},
   "outputs": [],
   "source": [
    "#To see the last rows in order to get a visual of how the data looks like\n",
    "rt_movie_info.tail()"
   ]
  },
  {
   "cell_type": "code",
   "execution_count": null,
   "id": "71b2c8d7",
   "metadata": {},
   "outputs": [],
   "source": [
    "# To get a glimpse of the data measures\n",
    "rt_movie_info.describe()"
   ]
  },
  {
   "cell_type": "markdown",
   "id": "50278b1c",
   "metadata": {},
   "source": [
    "# 4. Data Cleaning"
   ]
  },
  {
   "cell_type": "markdown",
   "id": "2d884e09",
   "metadata": {},
   "source": [
    "## 4.1 bom.movies_gross.csv"
   ]
  },
  {
   "cell_type": "markdown",
   "id": "e89eb0e4",
   "metadata": {},
   "source": [
    "### 4.1.1 Checking any missing data"
   ]
  },
  {
   "cell_type": "code",
   "execution_count": null,
   "id": "7d19d0f2",
   "metadata": {},
   "outputs": [],
   "source": [
    "print(bom_data.isna())\n",
    "print(bom_data.isna().sum())\n",
    "#True indicates NaN(Not a number)"
   ]
  },
  {
   "cell_type": "markdown",
   "id": "21a4299c",
   "metadata": {},
   "source": [
    "There are missing values in studio, foreign gross and domestic gross columns. To solve that, we replace the Null for Unknown the NaN value with the median"
   ]
  },
  {
   "cell_type": "code",
   "execution_count": null,
   "id": "49921fd0",
   "metadata": {},
   "outputs": [],
   "source": [
    "bom_data.hist()"
   ]
  },
  {
   "cell_type": "code",
   "execution_count": null,
   "id": "30b3d0a6",
   "metadata": {},
   "outputs": [],
   "source": [
    "bom_data[\"studio\"] = bom_data.studio.fillna(\"unknown\")"
   ]
  },
  {
   "cell_type": "markdown",
   "id": "cd303fac",
   "metadata": {},
   "source": [
    "Now we replace NaN with the median of the data"
   ]
  },
  {
   "cell_type": "code",
   "execution_count": null,
   "id": "74ff9930",
   "metadata": {},
   "outputs": [],
   "source": [
    "# Remove commas from \"domestic_gross\" column\n",
    "bom_data[\"domestic_gross\"] = bom_data.domestic_gross.fillna(0)"
   ]
  },
  {
   "cell_type": "markdown",
   "id": "70fccd9a",
   "metadata": {},
   "source": [
    "We will do the same for the foreign gross"
   ]
  },
  {
   "cell_type": "code",
   "execution_count": null,
   "id": "7de4fd16",
   "metadata": {},
   "outputs": [],
   "source": [
    "# Remove commas from \"foreign_gross\" column\n",
    "bom_data[\"foreign_gross\"] = bom_data[\"foreign_gross\"].replace(',', '')\n",
    "\n",
    "# Convert \"foreign_gross\" column to float and fill missing values with 0\n",
    "bom_data[\"foreign_gross\"] = pd.to_numeric(bom_data[\"foreign_gross\"], errors='coerce')\n",
    "bom_data[\"foreign_gross\"] = bom_data.domestic_gross.fillna(0)"
   ]
  },
  {
   "cell_type": "code",
   "execution_count": null,
   "id": "307a2bf6",
   "metadata": {},
   "outputs": [],
   "source": [
    "#confirm there no more missing values\n",
    "print(bom_data.isna().sum())"
   ]
  },
  {
   "cell_type": "markdown",
   "id": "1047e7f6",
   "metadata": {},
   "source": [
    "### 4.1.2 Removing any duplicates"
   ]
  },
  {
   "cell_type": "code",
   "execution_count": null,
   "id": "ba8b5117",
   "metadata": {},
   "outputs": [],
   "source": [
    "def identify_duplicates(data):\n",
    "    \"\"\"Simple function to identify any duplicates\"\"\"\n",
    "    # identify the duplicates (dataframename.duplicated() , can add .sum() to get total count)\n",
    "    # empty list to store Bool results from duplicated\n",
    "    duplicates = []\n",
    "    for i in data.duplicated():\n",
    "        duplicates.append(i)\n",
    "    # identify if there is any duplicates. (If there is any we expect a True value in the list duplicates)\n",
    "    duplicates_set = set(duplicates) \n",
    "    if (len(duplicates_set) == 1):\n",
    "        print(\"The Data has no duplicates\")\n",
    "    else:\n",
    "        no_true = 0\n",
    "        for val in duplicates:\n",
    "            if (val == True):\n",
    "                no_true += 1\n",
    "        # percentage of the data represented by duplicates \n",
    "        duplicates_percentage = np.round(((no_true / len(data)) * 100), 3)\n",
    "        print(f\"The Data has {no_true} duplicated rows.\\nThis constitutes {duplicates_percentage}% of the data set.\")\n",
    "\n",
    "# Example usage with a DataFrame\n",
    "identify_duplicates(bom_data)\n"
   ]
  },
  {
   "cell_type": "markdown",
   "id": "6eb9e798",
   "metadata": {},
   "source": [
    "### 4.1.3 Removing any irrelevant data"
   ]
  },
  {
   "cell_type": "code",
   "execution_count": null,
   "id": "7d0fdf8d",
   "metadata": {},
   "outputs": [],
   "source": [
    "# check for any movie produced before 2010 \n",
    "bom_data[bom_data[\"year\"] < 2010]"
   ]
  },
  {
   "cell_type": "markdown",
   "id": "2f22f248",
   "metadata": {},
   "source": [
    "### 4.1.4 Arranging Messy columns"
   ]
  },
  {
   "cell_type": "code",
   "execution_count": null,
   "id": "a9858b50",
   "metadata": {},
   "outputs": [],
   "source": [
    "bom_data.columns\n",
    "[col.strip() for col in bom_data.columns]\n",
    "bom_data.columns.str.strip()"
   ]
  },
  {
   "cell_type": "markdown",
   "id": "3d9b1782",
   "metadata": {},
   "source": [
    "### 4.1.5 Final bom_data after cleaning"
   ]
  },
  {
   "cell_type": "code",
   "execution_count": null,
   "id": "6e64fda9",
   "metadata": {},
   "outputs": [],
   "source": [
    "bom_data.info()"
   ]
  },
  {
   "cell_type": "code",
   "execution_count": null,
   "id": "1dcd29c1",
   "metadata": {},
   "outputs": [],
   "source": [
    "bom_data.hist()"
   ]
  },
  {
   "cell_type": "markdown",
   "id": "e1fb185b",
   "metadata": {},
   "source": [
    "## 4.2 tn_movie_budgets.csv"
   ]
  },
  {
   "cell_type": "markdown",
   "id": "2939cfb1",
   "metadata": {},
   "source": [
    "### 4.2.1 Checking any missing data"
   ]
  },
  {
   "cell_type": "code",
   "execution_count": null,
   "id": "f1386b01",
   "metadata": {},
   "outputs": [],
   "source": [
    "print(tn_movie_budgets.isna())\n",
    "print(tn_movie_budgets.isna().sum())"
   ]
  },
  {
   "cell_type": "code",
   "execution_count": null,
   "id": "c36567ac",
   "metadata": {},
   "outputs": [],
   "source": [
    "#replacing missing values in director with unknown\n",
    "tn_movie_budgets[\"release_date\"] = tn_movie_budgets.release_date.fillna(\"released\")"
   ]
  },
  {
   "cell_type": "markdown",
   "id": "a90fc29a",
   "metadata": {},
   "source": [
    "### 4.2.2 Removing any duplicates"
   ]
  },
  {
   "cell_type": "markdown",
   "id": "680c0aa2",
   "metadata": {},
   "source": [
    "First thing first, we check for any duplicated data in the id section. IDs should be unique to everyone"
   ]
  },
  {
   "cell_type": "code",
   "execution_count": null,
   "id": "987f97d1",
   "metadata": {},
   "outputs": [],
   "source": [
    "def identify_duplicates(data):\n",
    "    # identify the duplicates (dataframename.duplicated() , can add .sum() to get total count)\n",
    "    # empty list to store Bool results from duplicated\n",
    "    duplicates = []\n",
    "    for i in data.duplicated():\n",
    "        duplicates.append(i)\n",
    "    duplicates_set = set(duplicates) \n",
    "    if (len(duplicates_set) == 1):\n",
    "        print(\"The Data has no duplicates\")\n",
    "    else:\n",
    "        no_true = 0\n",
    "        for val in duplicates:\n",
    "            if (val == True):\n",
    "                no_true += 1\n",
    "\n",
    "        duplicates_percentage = np.round(((no_true / len(data)) * 100), 3)\n",
    "        print(f\"The Data has {no_true} duplicated rows.\\nThis constitutes {duplicates_percentage}% of the data set.\") \n",
    "\n",
    "\n",
    "identify_duplicates(tn_movie_budgets)"
   ]
  },
  {
   "cell_type": "markdown",
   "id": "5a9c8bd0",
   "metadata": {},
   "source": [
    "Now that we have spotted duplicated rows, let's drop them"
   ]
  },
  {
   "cell_type": "markdown",
   "id": "9e3a5880",
   "metadata": {},
   "source": [
    "### 4.2.3 Removing any irrelevant columns"
   ]
  },
  {
   "cell_type": "code",
   "execution_count": null,
   "id": "4d6ad042",
   "metadata": {},
   "outputs": [],
   "source": [
    "# Checking how the data looks with outliers (in this case movies produced before 2000)\n",
    "# Convert the release year to pd datetime\n",
    "tn_movie_budgets[\"release_date\"] = pd.to_datetime(tn_movie_budgets[\"release_date\"])\n",
    "\n",
    "# Extract the year from the release date\n",
    "tn_movie_budgets[\"release_date\"] = tn_movie_budgets[\"release_date\"].dt.year\n",
    "\n",
    "#plot\n",
    "sns.boxplot(data = tn_movie_budgets, x =  \"release_date\")"
   ]
  },
  {
   "cell_type": "code",
   "execution_count": null,
   "id": "7631359b",
   "metadata": {},
   "outputs": [],
   "source": [
    "#dropping off\n",
    "tn_movie_budgets = tn_movie_budgets[tn_movie_budgets[\"release_date\"] > 2000]\n",
    "tn_movie_budgets"
   ]
  },
  {
   "cell_type": "code",
   "execution_count": null,
   "id": "f39fa5e8",
   "metadata": {},
   "outputs": [],
   "source": [
    "#checking to see how the data now looks like after removing the years prior to 2000\n",
    "sns.boxplot(data = tn_movie_budgets, x = \"release_date\")"
   ]
  },
  {
   "cell_type": "code",
   "execution_count": null,
   "id": "a03847be",
   "metadata": {},
   "outputs": [],
   "source": [
    "unique_dates = tn_movie_budgets[\"release_date\"].unique()\n",
    "print(unique_dates)"
   ]
  },
  {
   "cell_type": "markdown",
   "id": "1f4f8b8a",
   "metadata": {},
   "source": [
    "tn_movie_budgets has no irrelevant data. However"
   ]
  },
  {
   "cell_type": "markdown",
   "id": "d5214f36",
   "metadata": {},
   "source": [
    "### 4.2.4 Arranging messy data"
   ]
  },
  {
   "cell_type": "code",
   "execution_count": null,
   "id": "75c7f96d",
   "metadata": {},
   "outputs": [],
   "source": [
    "tn_movie_budgets.columns\n",
    "[col.strip() for col in tn_movie_budgets.columns]\n",
    "tn_movie_budgets.columns.str.strip()"
   ]
  },
  {
   "cell_type": "markdown",
   "id": "196934fc",
   "metadata": {},
   "source": [
    "### 4.2.5 Creating a new column to combine domestic and foreign gross"
   ]
  },
  {
   "cell_type": "code",
   "execution_count": null,
   "id": "b0063750",
   "metadata": {},
   "outputs": [],
   "source": [
    "tn_movie_budgets['domestic_gross'] = tn_movie_budgets['domestic_gross'].str.replace('[\\$,]', '', regex=True).astype(float)\n",
    "tn_movie_budgets['worldwide_gross'] = tn_movie_budgets['worldwide_gross'].str.replace('[\\$,]', '', regex=True).astype(float)\n",
    "\n",
    "tn_movie_budgets[\"total_gross\"] = tn_movie_budgets[\"domestic_gross\"] + tn_movie_budgets[\"worldwide_gross\"]\n",
    "tn_movie_budgets.head()"
   ]
  },
  {
   "cell_type": "markdown",
   "id": "8ae28f1d",
   "metadata": {},
   "source": [
    "## 4.3 rt.reviews.tsv"
   ]
  },
  {
   "cell_type": "markdown",
   "id": "debf8dbd",
   "metadata": {},
   "source": [
    "### 4.3.1 Checking any missing data"
   ]
  },
  {
   "cell_type": "code",
   "execution_count": null,
   "id": "1c70f4f8",
   "metadata": {},
   "outputs": [],
   "source": [
    "rt_movie_info.isna()\n",
    "rt_movie_info.isna().sum()"
   ]
  },
  {
   "cell_type": "code",
   "execution_count": null,
   "id": "faa2fc62",
   "metadata": {},
   "outputs": [],
   "source": [
    "#rt_movie_info before cleaning\n",
    "plt.figure(figsize = (10,10))\n",
    "x = np.arange(10)\n",
    "y = np.arange(10)\n",
    "plt.bar(x, y, label = \"rt movie information\")\n",
    "plt.xlabel(\"rt movie info\")\n",
    "plt.ylabel(\"Y values\")\n",
    "plt.title(\"Bar graph of rt_movie_info before cleaning\")\n",
    "plt.show()"
   ]
  },
  {
   "cell_type": "code",
   "execution_count": null,
   "id": "c667d882",
   "metadata": {},
   "outputs": [],
   "source": [
    "#replacing missing values in synopsis with unknown\n",
    "rt_movie_info[\"synopsis\"] = rt_movie_info.synopsis.fillna(\"unknown\")\n",
    "\n",
    "#replacing missing values in rating with R\n",
    "rt_movie_info[\"rating\"] = rt_movie_info.rating.fillna(\"R\")\n",
    "\n",
    "# replacing missing values in genre with the term Drama\n",
    "rt_movie_info[\"genre\"] = rt_movie_info.genre.fillna(\"Drama\")\n",
    "\n",
    "#replacing the missing values in director column with the data in writer column\n",
    "rt_movie_info[\"director\"] = rt_movie_info[\"director\"].fillna(rt_movie_info[\"writer\"])\n",
    "\n",
    "#replacing the missing values in writer column with the data in the director column\n",
    "rt_movie_info[\"writer\"] = rt_movie_info[\"writer\"].fillna(rt_movie_info[\"director\"])\n",
    "\n",
    "#replacing the missing values in theater date column with the data in the dvd date column\n",
    "rt_movie_info[\"theater_date\"] = rt_movie_info[\"theater_date\"].fillna(rt_movie_info[\"dvd_date\"])\n",
    "\n",
    "#replacing the missing values in dvd date column with the data in the theater date column\n",
    "rt_movie_info[\"dvd_date\"] = rt_movie_info[\"dvd_date\"].fillna(rt_movie_info[\"theater_date\"])\n",
    "\n",
    "# replacing currency($) with 0\n",
    "rt_movie_info[\"currency\"] = rt_movie_info.currency.fillna(\"0\")\n",
    "\n",
    "# replacing box office with the mean\n",
    "rt_movie_info[\"box_office\"] = rt_movie_info[\"box_office\"].replace(\",\", \"\")\n",
    "rt_movie_info[\"box_office\"] = pd.to_numeric(rt_movie_info[\"box_office\"], errors = \"coerce\")\n",
    "rt_movie_info[\"box_office\"] = rt_movie_info.box_office.fillna(0)\n",
    "\n",
    "# replace missing values in runtime with 120 minutes\n",
    "rt_movie_info[\"runtime\"] = rt_movie_info.runtime.fillna(\"120 minutes\")\n",
    "\n",
    "#replace missing values in studio\n",
    "rt_movie_info[\"studio\"] = rt_movie_info.studio.fillna(\"Entertainment one\")"
   ]
  },
  {
   "cell_type": "markdown",
   "id": "36b167ae",
   "metadata": {},
   "source": [
    "Let's check if there any more missing values"
   ]
  },
  {
   "cell_type": "code",
   "execution_count": null,
   "id": "90517728",
   "metadata": {},
   "outputs": [],
   "source": [
    "print(rt_movie_info.isna().sum())"
   ]
  },
  {
   "cell_type": "markdown",
   "id": "7e3e32bc",
   "metadata": {},
   "source": [
    "Since there are missing vlues, we have to continue cleaning"
   ]
  },
  {
   "cell_type": "code",
   "execution_count": null,
   "id": "32f7ad9c",
   "metadata": {},
   "outputs": [],
   "source": [
    "#replacing missing values in director with unknown\n",
    "rt_movie_info[\"director\"] = rt_movie_info.writer.fillna(\"unknown\")\n",
    "\n",
    "#replacing missing values in director with unknown\n",
    "rt_movie_info[\"writer\"] = rt_movie_info.writer.fillna(\"unknown\")\n",
    "\n",
    "#replacing missing values in director with unknown\n",
    "rt_movie_info[\"theater_date\"] = rt_movie_info.theater_date.fillna(\"released\")\n",
    "\n",
    "#replacing missing values in director with unknown\n",
    "rt_movie_info[\"dvd_date\"] = rt_movie_info.dvd_date.fillna(\"released\")\n",
    "\n",
    "#replacing missing values in box_office with median\n",
    "rt_movie_info[\"box_office\"].fillna(rt_movie_info.box_office.median())"
   ]
  },
  {
   "cell_type": "code",
   "execution_count": null,
   "id": "88e00753",
   "metadata": {},
   "outputs": [],
   "source": [
    "# Take a look at the data once more\n",
    "print(rt_movie_info.isna().sum())"
   ]
  },
  {
   "cell_type": "markdown",
   "id": "0e4b7309",
   "metadata": {},
   "source": [
    "All good to go! No missing data"
   ]
  },
  {
   "cell_type": "markdown",
   "id": "6a3ea477",
   "metadata": {},
   "source": [
    "### 4.3.2 Removing any duplicates"
   ]
  },
  {
   "cell_type": "code",
   "execution_count": null,
   "id": "695fe09b",
   "metadata": {},
   "outputs": [],
   "source": [
    "def identify_duplicates(rt_movie_info):\n",
    "    # identify the duplicates (dataframename.duplicated() , can add .sum() to get total count)\n",
    "    # empty list to store Bool results from duplicated\n",
    "    duplicates = []\n",
    "    for i in rt_movie_info.duplicated():\n",
    "        duplicates.append(i)\n",
    "    duplicates_set = set(duplicates) \n",
    "    if (len(duplicates_set) == 1):\n",
    "        print(\"The Data has no duplicates\")\n",
    "    else:\n",
    "        no_true = 0\n",
    "        for val in duplicates:\n",
    "            if (val == True):\n",
    "                no_true += 1\n",
    "\n",
    "        duplicates_percentage = np.round(((no_true / len(data)) * 100), 3)\n",
    "        print(f\"The Data has {no_true} duplicated rows.\\nThis constitutes {duplicates_percentage}% of the data set.\") \n",
    "\n",
    "\n",
    "identify_duplicates(rt_movie_info)"
   ]
  },
  {
   "cell_type": "markdown",
   "id": "2e66fbf9",
   "metadata": {},
   "source": [
    "### 4.3.3 Removing irrelevant data"
   ]
  },
  {
   "cell_type": "code",
   "execution_count": null,
   "id": "3df61b09",
   "metadata": {},
   "outputs": [],
   "source": [
    "# # check for any movie produced before 2010 or past 2018\n",
    "rt_movie_info[\"dvd_date\"] = pd.to_numeric(rt_movie_info[\"dvd_date\"], errors=\"coerce\")\n",
    "rt_movie_info[(rt_movie_info[\"dvd_date\"] < 2010) & (rt_movie_info[\"dvd_date\"] > 2018)]"
   ]
  },
  {
   "cell_type": "markdown",
   "id": "03beaeb9",
   "metadata": {},
   "source": [
    "### 4.3.4 Arranging messy columns"
   ]
  },
  {
   "cell_type": "code",
   "execution_count": null,
   "id": "8ff09992",
   "metadata": {},
   "outputs": [],
   "source": [
    "rt_movie_info.columns\n",
    "[col.strip() for col in rt_movie_info.columns]\n",
    "rt_movie_info.columns.str.strip()"
   ]
  },
  {
   "cell_type": "code",
   "execution_count": null,
   "id": "c6932c39",
   "metadata": {},
   "outputs": [],
   "source": [
    "#rt_movie_info after cleaning\n",
    "plt.figure(figsize = (10,10))\n",
    "x = np.arange(10)\n",
    "y = np.arange(10)\n",
    "plt.bar(x, y, label = \"rt movie information\")\n",
    "plt.xlabel(\"rt movie info\")\n",
    "plt.ylabel(\"Y values\")\n",
    "plt.title(\"Bar graph of rt_movie_info before cleaning\")\n",
    "plt.show()"
   ]
  },
  {
   "cell_type": "markdown",
   "id": "bd15e0fe",
   "metadata": {},
   "source": [
    "# 5. Data Visualizations"
   ]
  },
  {
   "cell_type": "markdown",
   "id": "0b6abf0a",
   "metadata": {},
   "source": [
    "# 6. Conclusions"
   ]
  },
  {
   "cell_type": "markdown",
   "id": "37f4b4c5",
   "metadata": {},
   "source": [
    "## 7. Recommendations"
   ]
  }
 ],
 "metadata": {
  "kernelspec": {
   "display_name": "Python (learn-env)",
   "language": "python",
   "name": "learn-env"
  },
  "language_info": {
   "codemirror_mode": {
    "name": "ipython",
    "version": 3
   },
   "file_extension": ".py",
   "mimetype": "text/x-python",
   "name": "python",
   "nbconvert_exporter": "python",
   "pygments_lexer": "ipython3",
   "version": "3.10.11"
  }
 },
 "nbformat": 4,
 "nbformat_minor": 5
}
